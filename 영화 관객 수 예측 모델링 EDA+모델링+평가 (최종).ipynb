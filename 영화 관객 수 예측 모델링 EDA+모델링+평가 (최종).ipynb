{
 "cells": [
  {
   "cell_type": "markdown",
   "metadata": {},
   "source": [
    "# 영화 관객수 예측 모델 개발"
   ]
  },
  {
   "cell_type": "code",
   "execution_count": 3,
   "metadata": {},
   "outputs": [],
   "source": [
    "import pandas as pd\n",
    "import numpy as np\n",
    "import seaborn as sns\n",
    "%matplotlib notebook\n",
    "import matplotlib as mpl\n",
    "import matplotlib.pyplot as plt\n",
    "%matplotlib inline\n",
    "import matplotlib\n",
    "from matplotlib import font_manager, rc\n",
    "import platform\n",
    "\n",
    "if platform.system() == 'Windows':\n",
    "# 윈도우인 경우\n",
    "    font_name = font_manager.FontProperties(fname=\"c:/Windows/Fonts/malgun.ttf\").get_name()\n",
    "    rc('font', family=font_name)\n",
    "else:    \n",
    "# Mac 인 경우\n",
    "    rc('font', family='AppleGothic')\n",
    "\n",
    "import warnings\n",
    "warnings.filterwarnings(\"ignore\")"
   ]
  },
  {
   "cell_type": "code",
   "execution_count": 4,
   "metadata": {},
   "outputs": [],
   "source": [
    "movies_train = pd.read_csv('movies_train.csv')\n",
    "movies_test = pd.read_csv('movies_test.csv')\n",
    "movies_submission = pd.read_csv('submission.csv')"
   ]
  },
  {
   "cell_type": "markdown",
   "metadata": {},
   "source": [
    "## 0. 데이터 전처리"
   ]
  },
  {
   "cell_type": "code",
   "execution_count": 5,
   "metadata": {},
   "outputs": [
    {
     "data": {
      "text/html": [
       "<div>\n",
       "<style scoped>\n",
       "    .dataframe tbody tr th:only-of-type {\n",
       "        vertical-align: middle;\n",
       "    }\n",
       "\n",
       "    .dataframe tbody tr th {\n",
       "        vertical-align: top;\n",
       "    }\n",
       "\n",
       "    .dataframe thead th {\n",
       "        text-align: right;\n",
       "    }\n",
       "</style>\n",
       "<table border=\"1\" class=\"dataframe\">\n",
       "  <thead>\n",
       "    <tr style=\"text-align: right;\">\n",
       "      <th></th>\n",
       "      <th>title</th>\n",
       "      <th>distributor</th>\n",
       "      <th>genre</th>\n",
       "      <th>release_time</th>\n",
       "      <th>time</th>\n",
       "      <th>screening_rat</th>\n",
       "      <th>director</th>\n",
       "      <th>dir_prev_bfnum</th>\n",
       "      <th>dir_prev_num</th>\n",
       "      <th>num_staff</th>\n",
       "      <th>num_actor</th>\n",
       "      <th>box_off_num</th>\n",
       "    </tr>\n",
       "  </thead>\n",
       "  <tbody>\n",
       "    <tr>\n",
       "      <th>0</th>\n",
       "      <td>개들의 전쟁</td>\n",
       "      <td>롯데엔터테인먼트</td>\n",
       "      <td>액션</td>\n",
       "      <td>2012-11-22</td>\n",
       "      <td>96</td>\n",
       "      <td>청소년 관람불가</td>\n",
       "      <td>조병옥</td>\n",
       "      <td>NaN</td>\n",
       "      <td>0</td>\n",
       "      <td>91</td>\n",
       "      <td>2</td>\n",
       "      <td>23398</td>\n",
       "    </tr>\n",
       "    <tr>\n",
       "      <th>1</th>\n",
       "      <td>내부자들</td>\n",
       "      <td>(주)쇼박스</td>\n",
       "      <td>느와르</td>\n",
       "      <td>2015-11-19</td>\n",
       "      <td>130</td>\n",
       "      <td>청소년 관람불가</td>\n",
       "      <td>우민호</td>\n",
       "      <td>1161602.50</td>\n",
       "      <td>2</td>\n",
       "      <td>387</td>\n",
       "      <td>3</td>\n",
       "      <td>7072501</td>\n",
       "    </tr>\n",
       "    <tr>\n",
       "      <th>2</th>\n",
       "      <td>은밀하게 위대하게</td>\n",
       "      <td>(주)쇼박스</td>\n",
       "      <td>액션</td>\n",
       "      <td>2013-06-05</td>\n",
       "      <td>123</td>\n",
       "      <td>15세 관람가</td>\n",
       "      <td>장철수</td>\n",
       "      <td>220775.25</td>\n",
       "      <td>4</td>\n",
       "      <td>343</td>\n",
       "      <td>4</td>\n",
       "      <td>6959083</td>\n",
       "    </tr>\n",
       "    <tr>\n",
       "      <th>3</th>\n",
       "      <td>나는 공무원이다</td>\n",
       "      <td>(주)NEW</td>\n",
       "      <td>코미디</td>\n",
       "      <td>2012-07-12</td>\n",
       "      <td>101</td>\n",
       "      <td>전체 관람가</td>\n",
       "      <td>구자홍</td>\n",
       "      <td>23894.00</td>\n",
       "      <td>2</td>\n",
       "      <td>20</td>\n",
       "      <td>6</td>\n",
       "      <td>217866</td>\n",
       "    </tr>\n",
       "    <tr>\n",
       "      <th>4</th>\n",
       "      <td>불량남녀</td>\n",
       "      <td>쇼박스(주)미디어플렉스</td>\n",
       "      <td>코미디</td>\n",
       "      <td>2010-11-04</td>\n",
       "      <td>108</td>\n",
       "      <td>15세 관람가</td>\n",
       "      <td>신근호</td>\n",
       "      <td>1.00</td>\n",
       "      <td>1</td>\n",
       "      <td>251</td>\n",
       "      <td>2</td>\n",
       "      <td>483387</td>\n",
       "    </tr>\n",
       "  </tbody>\n",
       "</table>\n",
       "</div>"
      ],
      "text/plain": [
       "       title   distributor genre release_time  time screening_rat director  \\\n",
       "0     개들의 전쟁      롯데엔터테인먼트    액션   2012-11-22    96      청소년 관람불가      조병옥   \n",
       "1       내부자들        (주)쇼박스   느와르   2015-11-19   130      청소년 관람불가      우민호   \n",
       "2  은밀하게 위대하게        (주)쇼박스    액션   2013-06-05   123       15세 관람가      장철수   \n",
       "3   나는 공무원이다        (주)NEW   코미디   2012-07-12   101        전체 관람가      구자홍   \n",
       "4       불량남녀  쇼박스(주)미디어플렉스   코미디   2010-11-04   108       15세 관람가      신근호   \n",
       "\n",
       "   dir_prev_bfnum  dir_prev_num  num_staff  num_actor  box_off_num  \n",
       "0             NaN             0         91          2        23398  \n",
       "1      1161602.50             2        387          3      7072501  \n",
       "2       220775.25             4        343          4      6959083  \n",
       "3        23894.00             2         20          6       217866  \n",
       "4            1.00             1        251          2       483387  "
      ]
     },
     "execution_count": 5,
     "metadata": {},
     "output_type": "execute_result"
    }
   ],
   "source": [
    "movies_train.head()"
   ]
  },
  {
   "cell_type": "code",
   "execution_count": 6,
   "metadata": {},
   "outputs": [
    {
     "name": "stdout",
     "output_type": "stream",
     "text": [
      "(600, 12)\n"
     ]
    }
   ],
   "source": [
    "print(movies_train.shape)"
   ]
  },
  {
   "cell_type": "code",
   "execution_count": 7,
   "metadata": {},
   "outputs": [
    {
     "name": "stdout",
     "output_type": "stream",
     "text": [
      "<class 'pandas.core.frame.DataFrame'>\n",
      "RangeIndex: 600 entries, 0 to 599\n",
      "Data columns (total 12 columns):\n",
      " #   Column          Non-Null Count  Dtype  \n",
      "---  ------          --------------  -----  \n",
      " 0   title           600 non-null    object \n",
      " 1   distributor     600 non-null    object \n",
      " 2   genre           600 non-null    object \n",
      " 3   release_time    600 non-null    object \n",
      " 4   time            600 non-null    int64  \n",
      " 5   screening_rat   600 non-null    object \n",
      " 6   director        600 non-null    object \n",
      " 7   dir_prev_bfnum  270 non-null    float64\n",
      " 8   dir_prev_num    600 non-null    int64  \n",
      " 9   num_staff       600 non-null    int64  \n",
      " 10  num_actor       600 non-null    int64  \n",
      " 11  box_off_num     600 non-null    int64  \n",
      "dtypes: float64(1), int64(5), object(6)\n",
      "memory usage: 56.4+ KB\n"
     ]
    }
   ],
   "source": [
    "movies_train.info()"
   ]
  },
  {
   "cell_type": "code",
   "execution_count": 8,
   "metadata": {},
   "outputs": [
    {
     "data": {
      "text/html": [
       "<div>\n",
       "<style scoped>\n",
       "    .dataframe tbody tr th:only-of-type {\n",
       "        vertical-align: middle;\n",
       "    }\n",
       "\n",
       "    .dataframe tbody tr th {\n",
       "        vertical-align: top;\n",
       "    }\n",
       "\n",
       "    .dataframe thead th {\n",
       "        text-align: right;\n",
       "    }\n",
       "</style>\n",
       "<table border=\"1\" class=\"dataframe\">\n",
       "  <thead>\n",
       "    <tr style=\"text-align: right;\">\n",
       "      <th></th>\n",
       "      <th>time</th>\n",
       "      <th>dir_prev_bfnum</th>\n",
       "      <th>dir_prev_num</th>\n",
       "      <th>num_staff</th>\n",
       "      <th>num_actor</th>\n",
       "      <th>box_off_num</th>\n",
       "    </tr>\n",
       "  </thead>\n",
       "  <tbody>\n",
       "    <tr>\n",
       "      <th>count</th>\n",
       "      <td>600.0</td>\n",
       "      <td>270.0</td>\n",
       "      <td>600.0</td>\n",
       "      <td>600.0</td>\n",
       "      <td>600.0</td>\n",
       "      <td>600.0</td>\n",
       "    </tr>\n",
       "    <tr>\n",
       "      <th>mean</th>\n",
       "      <td>100.9</td>\n",
       "      <td>1050442.9</td>\n",
       "      <td>0.9</td>\n",
       "      <td>151.1</td>\n",
       "      <td>3.7</td>\n",
       "      <td>708181.8</td>\n",
       "    </tr>\n",
       "    <tr>\n",
       "      <th>std</th>\n",
       "      <td>18.1</td>\n",
       "      <td>1791408.3</td>\n",
       "      <td>1.2</td>\n",
       "      <td>165.7</td>\n",
       "      <td>2.4</td>\n",
       "      <td>1828005.9</td>\n",
       "    </tr>\n",
       "    <tr>\n",
       "      <th>min</th>\n",
       "      <td>45.0</td>\n",
       "      <td>1.0</td>\n",
       "      <td>0.0</td>\n",
       "      <td>0.0</td>\n",
       "      <td>0.0</td>\n",
       "      <td>1.0</td>\n",
       "    </tr>\n",
       "    <tr>\n",
       "      <th>25%</th>\n",
       "      <td>89.0</td>\n",
       "      <td>20380.0</td>\n",
       "      <td>0.0</td>\n",
       "      <td>17.0</td>\n",
       "      <td>2.0</td>\n",
       "      <td>1297.2</td>\n",
       "    </tr>\n",
       "    <tr>\n",
       "      <th>50%</th>\n",
       "      <td>100.0</td>\n",
       "      <td>478423.6</td>\n",
       "      <td>0.0</td>\n",
       "      <td>82.5</td>\n",
       "      <td>3.0</td>\n",
       "      <td>12591.0</td>\n",
       "    </tr>\n",
       "    <tr>\n",
       "      <th>75%</th>\n",
       "      <td>114.0</td>\n",
       "      <td>1286568.6</td>\n",
       "      <td>2.0</td>\n",
       "      <td>264.0</td>\n",
       "      <td>4.0</td>\n",
       "      <td>479886.8</td>\n",
       "    </tr>\n",
       "    <tr>\n",
       "      <th>max</th>\n",
       "      <td>180.0</td>\n",
       "      <td>17615314.0</td>\n",
       "      <td>5.0</td>\n",
       "      <td>869.0</td>\n",
       "      <td>25.0</td>\n",
       "      <td>14262766.0</td>\n",
       "    </tr>\n",
       "  </tbody>\n",
       "</table>\n",
       "</div>"
      ],
      "text/plain": [
       "       time  dir_prev_bfnum  dir_prev_num  num_staff  num_actor  box_off_num\n",
       "count 600.0           270.0         600.0      600.0      600.0        600.0\n",
       "mean  100.9       1050442.9           0.9      151.1        3.7     708181.8\n",
       "std    18.1       1791408.3           1.2      165.7        2.4    1828005.9\n",
       "min    45.0             1.0           0.0        0.0        0.0          1.0\n",
       "25%    89.0         20380.0           0.0       17.0        2.0       1297.2\n",
       "50%   100.0        478423.6           0.0       82.5        3.0      12591.0\n",
       "75%   114.0       1286568.6           2.0      264.0        4.0     479886.8\n",
       "max   180.0      17615314.0           5.0      869.0       25.0   14262766.0"
      ]
     },
     "execution_count": 8,
     "metadata": {},
     "output_type": "execute_result"
    }
   ],
   "source": [
    "pd.options.display.float_format = '{:.1f}'.format\n",
    "movies_train.describe()"
   ]
  },
  {
   "cell_type": "code",
   "execution_count": 9,
   "metadata": {},
   "outputs": [],
   "source": [
    "pd.reset_option('display.float_format')"
   ]
  },
  {
   "cell_type": "code",
   "execution_count": 10,
   "metadata": {},
   "outputs": [
    {
     "data": {
      "text/plain": [
       "title               0\n",
       "distributor         0\n",
       "genre               0\n",
       "release_time        0\n",
       "time                0\n",
       "screening_rat       0\n",
       "director            0\n",
       "dir_prev_bfnum    330\n",
       "dir_prev_num        0\n",
       "num_staff           0\n",
       "num_actor           0\n",
       "box_off_num         0\n",
       "dtype: int64"
      ]
     },
     "execution_count": 10,
     "metadata": {},
     "output_type": "execute_result"
    }
   ],
   "source": [
    "movies_train.isna().sum() # 결측값 존재"
   ]
  },
  {
   "cell_type": "code",
   "execution_count": 11,
   "metadata": {},
   "outputs": [
    {
     "data": {
      "text/plain": [
       "title             0\n",
       "distributor       0\n",
       "genre             0\n",
       "release_time      0\n",
       "time              0\n",
       "screening_rat     0\n",
       "director          0\n",
       "dir_prev_bfnum    0\n",
       "dir_prev_num      0\n",
       "num_staff         0\n",
       "num_actor         0\n",
       "box_off_num       0\n",
       "dtype: int64"
      ]
     },
     "execution_count": 11,
     "metadata": {},
     "output_type": "execute_result"
    }
   ],
   "source": [
    "# dir_prev_bfnum 변수 결측값을 0으로 대체하기\n",
    "movies_train['dir_prev_bfnum'].fillna(0, inplace= True)\n",
    "movies_train.isna().sum()"
   ]
  },
  {
   "cell_type": "code",
   "execution_count": 12,
   "metadata": {},
   "outputs": [],
   "source": [
    "# test 데이터에도 동일하게 적용\n",
    "movies_test['dir_prev_bfnum'].fillna(0, inplace= True)"
   ]
  },
  {
   "cell_type": "code",
   "execution_count": 13,
   "metadata": {},
   "outputs": [
    {
     "data": {
      "text/html": [
       "<div>\n",
       "<style scoped>\n",
       "    .dataframe tbody tr th:only-of-type {\n",
       "        vertical-align: middle;\n",
       "    }\n",
       "\n",
       "    .dataframe tbody tr th {\n",
       "        vertical-align: top;\n",
       "    }\n",
       "\n",
       "    .dataframe thead th {\n",
       "        text-align: right;\n",
       "    }\n",
       "</style>\n",
       "<table border=\"1\" class=\"dataframe\">\n",
       "  <thead>\n",
       "    <tr style=\"text-align: right;\">\n",
       "      <th></th>\n",
       "      <th>title</th>\n",
       "      <th>distributor</th>\n",
       "      <th>genre</th>\n",
       "      <th>release_time</th>\n",
       "      <th>time</th>\n",
       "      <th>screening_rat</th>\n",
       "      <th>director</th>\n",
       "      <th>dir_prev_bfnum</th>\n",
       "      <th>dir_prev_num</th>\n",
       "      <th>num_staff</th>\n",
       "      <th>num_actor</th>\n",
       "      <th>box_off_num</th>\n",
       "      <th>release_year</th>\n",
       "      <th>release_month</th>\n",
       "      <th>release_day</th>\n",
       "    </tr>\n",
       "  </thead>\n",
       "  <tbody>\n",
       "    <tr>\n",
       "      <th>0</th>\n",
       "      <td>개들의 전쟁</td>\n",
       "      <td>롯데엔터테인먼트</td>\n",
       "      <td>액션</td>\n",
       "      <td>2012-11-22</td>\n",
       "      <td>96</td>\n",
       "      <td>청소년 관람불가</td>\n",
       "      <td>조병옥</td>\n",
       "      <td>0.00</td>\n",
       "      <td>0</td>\n",
       "      <td>91</td>\n",
       "      <td>2</td>\n",
       "      <td>23398</td>\n",
       "      <td>2012</td>\n",
       "      <td>11</td>\n",
       "      <td>22</td>\n",
       "    </tr>\n",
       "    <tr>\n",
       "      <th>1</th>\n",
       "      <td>내부자들</td>\n",
       "      <td>(주)쇼박스</td>\n",
       "      <td>느와르</td>\n",
       "      <td>2015-11-19</td>\n",
       "      <td>130</td>\n",
       "      <td>청소년 관람불가</td>\n",
       "      <td>우민호</td>\n",
       "      <td>1161602.50</td>\n",
       "      <td>2</td>\n",
       "      <td>387</td>\n",
       "      <td>3</td>\n",
       "      <td>7072501</td>\n",
       "      <td>2015</td>\n",
       "      <td>11</td>\n",
       "      <td>19</td>\n",
       "    </tr>\n",
       "    <tr>\n",
       "      <th>2</th>\n",
       "      <td>은밀하게 위대하게</td>\n",
       "      <td>(주)쇼박스</td>\n",
       "      <td>액션</td>\n",
       "      <td>2013-06-05</td>\n",
       "      <td>123</td>\n",
       "      <td>15세 관람가</td>\n",
       "      <td>장철수</td>\n",
       "      <td>220775.25</td>\n",
       "      <td>4</td>\n",
       "      <td>343</td>\n",
       "      <td>4</td>\n",
       "      <td>6959083</td>\n",
       "      <td>2013</td>\n",
       "      <td>6</td>\n",
       "      <td>5</td>\n",
       "    </tr>\n",
       "    <tr>\n",
       "      <th>3</th>\n",
       "      <td>나는 공무원이다</td>\n",
       "      <td>(주)NEW</td>\n",
       "      <td>코미디</td>\n",
       "      <td>2012-07-12</td>\n",
       "      <td>101</td>\n",
       "      <td>전체 관람가</td>\n",
       "      <td>구자홍</td>\n",
       "      <td>23894.00</td>\n",
       "      <td>2</td>\n",
       "      <td>20</td>\n",
       "      <td>6</td>\n",
       "      <td>217866</td>\n",
       "      <td>2012</td>\n",
       "      <td>7</td>\n",
       "      <td>12</td>\n",
       "    </tr>\n",
       "    <tr>\n",
       "      <th>4</th>\n",
       "      <td>불량남녀</td>\n",
       "      <td>쇼박스(주)미디어플렉스</td>\n",
       "      <td>코미디</td>\n",
       "      <td>2010-11-04</td>\n",
       "      <td>108</td>\n",
       "      <td>15세 관람가</td>\n",
       "      <td>신근호</td>\n",
       "      <td>1.00</td>\n",
       "      <td>1</td>\n",
       "      <td>251</td>\n",
       "      <td>2</td>\n",
       "      <td>483387</td>\n",
       "      <td>2010</td>\n",
       "      <td>11</td>\n",
       "      <td>4</td>\n",
       "    </tr>\n",
       "  </tbody>\n",
       "</table>\n",
       "</div>"
      ],
      "text/plain": [
       "       title   distributor genre release_time  time screening_rat director  \\\n",
       "0     개들의 전쟁      롯데엔터테인먼트    액션   2012-11-22    96      청소년 관람불가      조병옥   \n",
       "1       내부자들        (주)쇼박스   느와르   2015-11-19   130      청소년 관람불가      우민호   \n",
       "2  은밀하게 위대하게        (주)쇼박스    액션   2013-06-05   123       15세 관람가      장철수   \n",
       "3   나는 공무원이다        (주)NEW   코미디   2012-07-12   101        전체 관람가      구자홍   \n",
       "4       불량남녀  쇼박스(주)미디어플렉스   코미디   2010-11-04   108       15세 관람가      신근호   \n",
       "\n",
       "   dir_prev_bfnum  dir_prev_num  num_staff  num_actor  box_off_num  \\\n",
       "0            0.00             0         91          2        23398   \n",
       "1      1161602.50             2        387          3      7072501   \n",
       "2       220775.25             4        343          4      6959083   \n",
       "3        23894.00             2         20          6       217866   \n",
       "4            1.00             1        251          2       483387   \n",
       "\n",
       "   release_year  release_month  release_day  \n",
       "0          2012             11           22  \n",
       "1          2015             11           19  \n",
       "2          2013              6            5  \n",
       "3          2012              7           12  \n",
       "4          2010             11            4  "
      ]
     },
     "execution_count": 13,
     "metadata": {},
     "output_type": "execute_result"
    }
   ],
   "source": [
    "# release_time 변수를 년/월/일 변수로 분리\n",
    "from datetime import datetime\n",
    "movies_train['release_time']=pd.to_datetime(movies_train['release_time'])\n",
    "movies_train['release_year'] = movies_train['release_time'].dt.year\n",
    "movies_train['release_month'] = movies_train['release_time'].dt.month\n",
    "movies_train['release_day'] = movies_train['release_time'].dt.day\n",
    "movies_train.head()"
   ]
  },
  {
   "cell_type": "markdown",
   "metadata": {},
   "source": [
    "## 1. EDA"
   ]
  },
  {
   "cell_type": "markdown",
   "metadata": {},
   "source": [
    "### 1. distributor : 배급사"
   ]
  },
  {
   "cell_type": "code",
   "execution_count": 14,
   "metadata": {},
   "outputs": [
    {
     "data": {
      "text/html": [
       "<div>\n",
       "<style scoped>\n",
       "    .dataframe tbody tr th:only-of-type {\n",
       "        vertical-align: middle;\n",
       "    }\n",
       "\n",
       "    .dataframe tbody tr th {\n",
       "        vertical-align: top;\n",
       "    }\n",
       "\n",
       "    .dataframe thead th {\n",
       "        text-align: right;\n",
       "    }\n",
       "</style>\n",
       "<table border=\"1\" class=\"dataframe\">\n",
       "  <thead>\n",
       "    <tr style=\"text-align: right;\">\n",
       "      <th></th>\n",
       "      <th>distributor</th>\n",
       "      <th>counts</th>\n",
       "    </tr>\n",
       "  </thead>\n",
       "  <tbody>\n",
       "    <tr>\n",
       "      <th>0</th>\n",
       "      <td>CJ 엔터테인먼트</td>\n",
       "      <td>54</td>\n",
       "    </tr>\n",
       "    <tr>\n",
       "      <th>1</th>\n",
       "      <td>롯데엔터테인먼트</td>\n",
       "      <td>52</td>\n",
       "    </tr>\n",
       "    <tr>\n",
       "      <th>2</th>\n",
       "      <td>(주)NEW</td>\n",
       "      <td>30</td>\n",
       "    </tr>\n",
       "    <tr>\n",
       "      <th>3</th>\n",
       "      <td>(주)마운틴픽쳐스</td>\n",
       "      <td>29</td>\n",
       "    </tr>\n",
       "    <tr>\n",
       "      <th>4</th>\n",
       "      <td>인디스토리</td>\n",
       "      <td>26</td>\n",
       "    </tr>\n",
       "    <tr>\n",
       "      <th>...</th>\n",
       "      <td>...</td>\n",
       "      <td>...</td>\n",
       "    </tr>\n",
       "    <tr>\n",
       "      <th>164</th>\n",
       "      <td>KBS미디어(주)</td>\n",
       "      <td>1</td>\n",
       "    </tr>\n",
       "    <tr>\n",
       "      <th>165</th>\n",
       "      <td>(주)랠리버튼</td>\n",
       "      <td>1</td>\n",
       "    </tr>\n",
       "    <tr>\n",
       "      <th>166</th>\n",
       "      <td>(주)씨엠닉스</td>\n",
       "      <td>1</td>\n",
       "    </tr>\n",
       "    <tr>\n",
       "      <th>167</th>\n",
       "      <td>유니버설픽쳐스인터내셔널코리아</td>\n",
       "      <td>1</td>\n",
       "    </tr>\n",
       "    <tr>\n",
       "      <th>168</th>\n",
       "      <td>와이드릴리즈(주)</td>\n",
       "      <td>1</td>\n",
       "    </tr>\n",
       "  </tbody>\n",
       "</table>\n",
       "<p>169 rows × 2 columns</p>\n",
       "</div>"
      ],
      "text/plain": [
       "         distributor  counts\n",
       "0          CJ 엔터테인먼트      54\n",
       "1           롯데엔터테인먼트      52\n",
       "2             (주)NEW      30\n",
       "3          (주)마운틴픽쳐스      29\n",
       "4              인디스토리      26\n",
       "..               ...     ...\n",
       "164        KBS미디어(주)       1\n",
       "165          (주)랠리버튼       1\n",
       "166          (주)씨엠닉스       1\n",
       "167  유니버설픽쳐스인터내셔널코리아       1\n",
       "168        와이드릴리즈(주)       1\n",
       "\n",
       "[169 rows x 2 columns]"
      ]
     },
     "execution_count": 14,
     "metadata": {},
     "output_type": "execute_result"
    }
   ],
   "source": [
    "# 배급사별 배급한 영화 수\n",
    "distributor_counts=pd.DataFrame(movies_train['distributor'].value_counts()).reset_index()\n",
    "distributor_counts.columns=['distributor','counts']\n",
    "distributor_counts"
   ]
  },
  {
   "cell_type": "code",
   "execution_count": 15,
   "metadata": {},
   "outputs": [
    {
     "data": {
      "text/plain": [
       "Text(0.5, 1.0, '각 배급사 별 영화의 수 (5건 이상)')"
      ]
     },
     "execution_count": 15,
     "metadata": {},
     "output_type": "execute_result"
    },
    {
     "data": {
      "image/png": "[encoded data removed]",
      "text/plain": [
       "<Figure size 432x288 with 1 Axes>"
      ]
     },
     "metadata": {
      "needs_background": "light"
     },
     "output_type": "display_data"
    }
   ],
   "source": [
    "# 배급사별 영화 수 그래프\n",
    "bar_distributor_counts=plt.subplots()\n",
    "plt.xticks(rotation = 50, fontsize = 5)\n",
    "plt.yticks(fontsize=10)\n",
    "bar_distributor_counts=sns.barplot(x='distributor',y='counts',data=distributor_counts[distributor_counts['counts']>=5])\n",
    "bar_distributor_counts.set_title(\"각 배급사 별 영화의 수 (5건 이상)\", fontsize=12)"
   ]
  },
  {
   "cell_type": "code",
   "execution_count": 16,
   "metadata": {},
   "outputs": [
    {
     "data": {
      "text/html": [
       "<div>\n",
       "<style scoped>\n",
       "    .dataframe tbody tr th:only-of-type {\n",
       "        vertical-align: middle;\n",
       "    }\n",
       "\n",
       "    .dataframe tbody tr th {\n",
       "        vertical-align: top;\n",
       "    }\n",
       "\n",
       "    .dataframe thead th {\n",
       "        text-align: right;\n",
       "    }\n",
       "</style>\n",
       "<table border=\"1\" class=\"dataframe\">\n",
       "  <thead>\n",
       "    <tr style=\"text-align: right;\">\n",
       "      <th></th>\n",
       "      <th>distributor</th>\n",
       "      <th>time</th>\n",
       "      <th>dir_prev_bfnum</th>\n",
       "      <th>dir_prev_num</th>\n",
       "      <th>num_staff</th>\n",
       "      <th>num_actor</th>\n",
       "      <th>box_off_num</th>\n",
       "      <th>release_year</th>\n",
       "      <th>release_month</th>\n",
       "      <th>release_day</th>\n",
       "    </tr>\n",
       "  </thead>\n",
       "  <tbody>\n",
       "    <tr>\n",
       "      <th>49</th>\n",
       "      <td>CJ E&amp;M Pictures</td>\n",
       "      <td>115.000000</td>\n",
       "      <td>4.111671e+06</td>\n",
       "      <td>0.500000</td>\n",
       "      <td>335.000000</td>\n",
       "      <td>8.000000</td>\n",
       "      <td>4.122337e+06</td>\n",
       "      <td>2011.000000</td>\n",
       "      <td>5.500000</td>\n",
       "      <td>6.5</td>\n",
       "    </tr>\n",
       "    <tr>\n",
       "      <th>21</th>\n",
       "      <td>(주)쇼박스</td>\n",
       "      <td>126.538462</td>\n",
       "      <td>1.370236e+06</td>\n",
       "      <td>1.807692</td>\n",
       "      <td>360.384615</td>\n",
       "      <td>3.923077</td>\n",
       "      <td>3.386656e+06</td>\n",
       "      <td>2012.884615</td>\n",
       "      <td>7.076923</td>\n",
       "      <td>17.5</td>\n",
       "    </tr>\n",
       "    <tr>\n",
       "      <th>27</th>\n",
       "      <td>(주)아이필름코퍼레이션</td>\n",
       "      <td>121.000000</td>\n",
       "      <td>7.250000e+01</td>\n",
       "      <td>2.000000</td>\n",
       "      <td>458.000000</td>\n",
       "      <td>3.000000</td>\n",
       "      <td>3.117859e+06</td>\n",
       "      <td>2013.000000</td>\n",
       "      <td>8.000000</td>\n",
       "      <td>14.0</td>\n",
       "    </tr>\n",
       "    <tr>\n",
       "      <th>96</th>\n",
       "      <td>쇼박스(주)미디어플렉스</td>\n",
       "      <td>111.500000</td>\n",
       "      <td>5.000000e-01</td>\n",
       "      <td>0.500000</td>\n",
       "      <td>293.000000</td>\n",
       "      <td>2.500000</td>\n",
       "      <td>2.634823e+06</td>\n",
       "      <td>2010.500000</td>\n",
       "      <td>6.000000</td>\n",
       "      <td>15.5</td>\n",
       "    </tr>\n",
       "    <tr>\n",
       "      <th>121</th>\n",
       "      <td>영구아트무비</td>\n",
       "      <td>103.000000</td>\n",
       "      <td>7.855474e+06</td>\n",
       "      <td>1.000000</td>\n",
       "      <td>31.000000</td>\n",
       "      <td>5.000000</td>\n",
       "      <td>2.541603e+06</td>\n",
       "      <td>2010.000000</td>\n",
       "      <td>12.000000</td>\n",
       "      <td>29.0</td>\n",
       "    </tr>\n",
       "    <tr>\n",
       "      <th>...</th>\n",
       "      <td>...</td>\n",
       "      <td>...</td>\n",
       "      <td>...</td>\n",
       "      <td>...</td>\n",
       "      <td>...</td>\n",
       "      <td>...</td>\n",
       "      <td>...</td>\n",
       "      <td>...</td>\n",
       "      <td>...</td>\n",
       "      <td>...</td>\n",
       "    </tr>\n",
       "    <tr>\n",
       "      <th>68</th>\n",
       "      <td>나우콘텐츠</td>\n",
       "      <td>74.000000</td>\n",
       "      <td>1.556000e+03</td>\n",
       "      <td>1.000000</td>\n",
       "      <td>0.000000</td>\n",
       "      <td>2.000000</td>\n",
       "      <td>5.400000e+01</td>\n",
       "      <td>2014.000000</td>\n",
       "      <td>4.000000</td>\n",
       "      <td>17.0</td>\n",
       "    </tr>\n",
       "    <tr>\n",
       "      <th>131</th>\n",
       "      <td>위드시네마</td>\n",
       "      <td>86.000000</td>\n",
       "      <td>0.000000e+00</td>\n",
       "      <td>0.000000</td>\n",
       "      <td>0.000000</td>\n",
       "      <td>4.000000</td>\n",
       "      <td>4.600000e+01</td>\n",
       "      <td>2010.000000</td>\n",
       "      <td>11.000000</td>\n",
       "      <td>25.0</td>\n",
       "    </tr>\n",
       "    <tr>\n",
       "      <th>92</th>\n",
       "      <td>사람과 사람들</td>\n",
       "      <td>94.000000</td>\n",
       "      <td>0.000000e+00</td>\n",
       "      <td>0.000000</td>\n",
       "      <td>55.000000</td>\n",
       "      <td>2.000000</td>\n",
       "      <td>4.200000e+01</td>\n",
       "      <td>2012.000000</td>\n",
       "      <td>8.000000</td>\n",
       "      <td>23.0</td>\n",
       "    </tr>\n",
       "    <tr>\n",
       "      <th>65</th>\n",
       "      <td>고구마공작소</td>\n",
       "      <td>78.000000</td>\n",
       "      <td>1.761531e+07</td>\n",
       "      <td>1.000000</td>\n",
       "      <td>27.000000</td>\n",
       "      <td>3.000000</td>\n",
       "      <td>8.000000e+00</td>\n",
       "      <td>2015.000000</td>\n",
       "      <td>9.000000</td>\n",
       "      <td>3.0</td>\n",
       "    </tr>\n",
       "    <tr>\n",
       "      <th>141</th>\n",
       "      <td>인피니티엔터테인먼트</td>\n",
       "      <td>92.000000</td>\n",
       "      <td>0.000000e+00</td>\n",
       "      <td>0.000000</td>\n",
       "      <td>3.000000</td>\n",
       "      <td>4.000000</td>\n",
       "      <td>2.000000e+00</td>\n",
       "      <td>2014.000000</td>\n",
       "      <td>9.000000</td>\n",
       "      <td>25.0</td>\n",
       "    </tr>\n",
       "  </tbody>\n",
       "</table>\n",
       "<p>169 rows × 10 columns</p>\n",
       "</div>"
      ],
      "text/plain": [
       "         distributor        time  dir_prev_bfnum  dir_prev_num   num_staff  \\\n",
       "49   CJ E&M Pictures  115.000000    4.111671e+06      0.500000  335.000000   \n",
       "21            (주)쇼박스  126.538462    1.370236e+06      1.807692  360.384615   \n",
       "27      (주)아이필름코퍼레이션  121.000000    7.250000e+01      2.000000  458.000000   \n",
       "96      쇼박스(주)미디어플렉스  111.500000    5.000000e-01      0.500000  293.000000   \n",
       "121           영구아트무비  103.000000    7.855474e+06      1.000000   31.000000   \n",
       "..               ...         ...             ...           ...         ...   \n",
       "68             나우콘텐츠   74.000000    1.556000e+03      1.000000    0.000000   \n",
       "131            위드시네마   86.000000    0.000000e+00      0.000000    0.000000   \n",
       "92           사람과 사람들   94.000000    0.000000e+00      0.000000   55.000000   \n",
       "65            고구마공작소   78.000000    1.761531e+07      1.000000   27.000000   \n",
       "141       인피니티엔터테인먼트   92.000000    0.000000e+00      0.000000    3.000000   \n",
       "\n",
       "     num_actor   box_off_num  release_year  release_month  release_day  \n",
       "49    8.000000  4.122337e+06   2011.000000       5.500000          6.5  \n",
       "21    3.923077  3.386656e+06   2012.884615       7.076923         17.5  \n",
       "27    3.000000  3.117859e+06   2013.000000       8.000000         14.0  \n",
       "96    2.500000  2.634823e+06   2010.500000       6.000000         15.5  \n",
       "121   5.000000  2.541603e+06   2010.000000      12.000000         29.0  \n",
       "..         ...           ...           ...            ...          ...  \n",
       "68    2.000000  5.400000e+01   2014.000000       4.000000         17.0  \n",
       "131   4.000000  4.600000e+01   2010.000000      11.000000         25.0  \n",
       "92    2.000000  4.200000e+01   2012.000000       8.000000         23.0  \n",
       "65    3.000000  8.000000e+00   2015.000000       9.000000          3.0  \n",
       "141   4.000000  2.000000e+00   2014.000000       9.000000         25.0  \n",
       "\n",
       "[169 rows x 10 columns]"
      ]
     },
     "execution_count": 16,
     "metadata": {},
     "output_type": "execute_result"
    }
   ],
   "source": [
    "# 배급사별 평균 관객 수\n",
    "dist_bon_mean=pd.DataFrame(movies_train.groupby(['distributor'],as_index=False).mean().sort_values('box_off_num',axis=0,ascending=False))\n",
    "dist_bon_mean"
   ]
  },
  {
   "cell_type": "code",
   "execution_count": 17,
   "metadata": {},
   "outputs": [
    {
     "data": {
      "text/plain": [
       "Text(0.5, 1.0, '각 배급사 별 관객의 수(50000명 이상)')"
      ]
     },
     "execution_count": 17,
     "metadata": {},
     "output_type": "execute_result"
    },
    {
     "data": {
      "image/png": "[encoded data removed]",
      "text/plain": [
       "<Figure size 432x288 with 1 Axes>"
      ]
     },
     "metadata": {
      "needs_background": "light"
     },
     "output_type": "display_data"
    }
   ],
   "source": [
    "# 배급사 별 관객 수 그래프\n",
    "bar_dist_bon_mean=plt.subplots()\n",
    "plt.xticks(rotation = 50, fontsize=5)\n",
    "plt.yticks(fontsize=10)\n",
    "bar_dist_bon_mean=sns.barplot(x='distributor',y='box_off_num',data=dist_bon_mean[dist_bon_mean['box_off_num']>50000])\n",
    "bar_dist_bon_mean.set_title(\"각 배급사 별 관객의 수(50000명 이상)\", fontsize=12)"
   ]
  },
  {
   "cell_type": "markdown",
   "metadata": {},
   "source": [
    "* 영화를 많이 배급하는 배급사의 평균 관객수가 높지는 않다. 상관성이 낮음"
   ]
  },
  {
   "cell_type": "markdown",
   "metadata": {},
   "source": [
    "### 2. genre : 장르"
   ]
  },
  {
   "cell_type": "code",
   "execution_count": 18,
   "metadata": {},
   "outputs": [
    {
     "data": {
      "text/html": [
       "<div>\n",
       "<style scoped>\n",
       "    .dataframe tbody tr th:only-of-type {\n",
       "        vertical-align: middle;\n",
       "    }\n",
       "\n",
       "    .dataframe tbody tr th {\n",
       "        vertical-align: top;\n",
       "    }\n",
       "\n",
       "    .dataframe thead th {\n",
       "        text-align: right;\n",
       "    }\n",
       "</style>\n",
       "<table border=\"1\" class=\"dataframe\">\n",
       "  <thead>\n",
       "    <tr style=\"text-align: right;\">\n",
       "      <th></th>\n",
       "      <th>genre</th>\n",
       "      <th>counts</th>\n",
       "    </tr>\n",
       "  </thead>\n",
       "  <tbody>\n",
       "    <tr>\n",
       "      <th>0</th>\n",
       "      <td>드라마</td>\n",
       "      <td>221</td>\n",
       "    </tr>\n",
       "    <tr>\n",
       "      <th>1</th>\n",
       "      <td>다큐멘터리</td>\n",
       "      <td>93</td>\n",
       "    </tr>\n",
       "    <tr>\n",
       "      <th>2</th>\n",
       "      <td>멜로/로맨스</td>\n",
       "      <td>78</td>\n",
       "    </tr>\n",
       "    <tr>\n",
       "      <th>3</th>\n",
       "      <td>코미디</td>\n",
       "      <td>53</td>\n",
       "    </tr>\n",
       "    <tr>\n",
       "      <th>4</th>\n",
       "      <td>공포</td>\n",
       "      <td>42</td>\n",
       "    </tr>\n",
       "    <tr>\n",
       "      <th>5</th>\n",
       "      <td>액션</td>\n",
       "      <td>28</td>\n",
       "    </tr>\n",
       "    <tr>\n",
       "      <th>6</th>\n",
       "      <td>느와르</td>\n",
       "      <td>27</td>\n",
       "    </tr>\n",
       "    <tr>\n",
       "      <th>7</th>\n",
       "      <td>애니메이션</td>\n",
       "      <td>21</td>\n",
       "    </tr>\n",
       "    <tr>\n",
       "      <th>8</th>\n",
       "      <td>미스터리</td>\n",
       "      <td>17</td>\n",
       "    </tr>\n",
       "    <tr>\n",
       "      <th>9</th>\n",
       "      <td>SF</td>\n",
       "      <td>13</td>\n",
       "    </tr>\n",
       "    <tr>\n",
       "      <th>10</th>\n",
       "      <td>뮤지컬</td>\n",
       "      <td>5</td>\n",
       "    </tr>\n",
       "    <tr>\n",
       "      <th>11</th>\n",
       "      <td>서스펜스</td>\n",
       "      <td>2</td>\n",
       "    </tr>\n",
       "  </tbody>\n",
       "</table>\n",
       "</div>"
      ],
      "text/plain": [
       "     genre  counts\n",
       "0      드라마     221\n",
       "1    다큐멘터리      93\n",
       "2   멜로/로맨스      78\n",
       "3      코미디      53\n",
       "4       공포      42\n",
       "5       액션      28\n",
       "6      느와르      27\n",
       "7    애니메이션      21\n",
       "8     미스터리      17\n",
       "9       SF      13\n",
       "10     뮤지컬       5\n",
       "11    서스펜스       2"
      ]
     },
     "execution_count": 18,
     "metadata": {},
     "output_type": "execute_result"
    }
   ],
   "source": [
    "# 장르별 영화 수\n",
    "genre_counts=pd.DataFrame(movies_train['genre'].value_counts()).reset_index()\n",
    "genre_counts.columns=['genre','counts']\n",
    "genre_counts"
   ]
  },
  {
   "cell_type": "code",
   "execution_count": 19,
   "metadata": {
    "scrolled": false
   },
   "outputs": [
    {
     "data": {
      "text/plain": [
       "Text(0.5, 1.0, '각 장르 별 영화의 수 (5건 이상)')"
      ]
     },
     "execution_count": 19,
     "metadata": {},
     "output_type": "execute_result"
    },
    {
     "data": {
      "image/png": "[encoded data removed]",
      "text/plain": [
       "<Figure size 432x288 with 1 Axes>"
      ]
     },
     "metadata": {
      "needs_background": "light"
     },
     "output_type": "display_data"
    }
   ],
   "source": [
    "# 장르별 영화 수 그래프\n",
    "bar_genre_counts=plt.subplots()\n",
    "plt.xticks(rotation = 50, fontsize=9)\n",
    "plt.yticks(fontsize = 10)\n",
    "bar_genre_counts=sns.barplot(x='genre',y='counts',data=genre_counts)\n",
    "bar_genre_counts.set_title(\"각 장르 별 영화의 수 (5건 이상)\", fontsize=12)"
   ]
  },
  {
   "cell_type": "code",
   "execution_count": 20,
   "metadata": {},
   "outputs": [
    {
     "data": {
      "text/html": [
       "<div>\n",
       "<style scoped>\n",
       "    .dataframe tbody tr th:only-of-type {\n",
       "        vertical-align: middle;\n",
       "    }\n",
       "\n",
       "    .dataframe tbody tr th {\n",
       "        vertical-align: top;\n",
       "    }\n",
       "\n",
       "    .dataframe thead th {\n",
       "        text-align: right;\n",
       "    }\n",
       "</style>\n",
       "<table border=\"1\" class=\"dataframe\">\n",
       "  <thead>\n",
       "    <tr style=\"text-align: right;\">\n",
       "      <th></th>\n",
       "      <th>genre</th>\n",
       "      <th>time</th>\n",
       "      <th>dir_prev_bfnum</th>\n",
       "      <th>dir_prev_num</th>\n",
       "      <th>num_staff</th>\n",
       "      <th>num_actor</th>\n",
       "      <th>box_off_num</th>\n",
       "      <th>release_year</th>\n",
       "      <th>release_month</th>\n",
       "      <th>release_day</th>\n",
       "    </tr>\n",
       "  </thead>\n",
       "  <tbody>\n",
       "    <tr>\n",
       "      <th>2</th>\n",
       "      <td>느와르</td>\n",
       "      <td>115.370370</td>\n",
       "      <td>7.749172e+05</td>\n",
       "      <td>1.296296</td>\n",
       "      <td>311.074074</td>\n",
       "      <td>3.592593</td>\n",
       "      <td>2.263695e+06</td>\n",
       "      <td>2012.851852</td>\n",
       "      <td>6.481481</td>\n",
       "      <td>17.555556</td>\n",
       "    </tr>\n",
       "    <tr>\n",
       "      <th>10</th>\n",
       "      <td>액션</td>\n",
       "      <td>114.464286</td>\n",
       "      <td>1.061149e+06</td>\n",
       "      <td>1.857143</td>\n",
       "      <td>337.535714</td>\n",
       "      <td>3.607143</td>\n",
       "      <td>2.203974e+06</td>\n",
       "      <td>2012.642857</td>\n",
       "      <td>7.500000</td>\n",
       "      <td>18.821429</td>\n",
       "    </tr>\n",
       "    <tr>\n",
       "      <th>0</th>\n",
       "      <td>SF</td>\n",
       "      <td>101.384615</td>\n",
       "      <td>1.238218e+06</td>\n",
       "      <td>1.307692</td>\n",
       "      <td>197.307692</td>\n",
       "      <td>3.692308</td>\n",
       "      <td>1.788346e+06</td>\n",
       "      <td>2013.000000</td>\n",
       "      <td>6.846154</td>\n",
       "      <td>14.230769</td>\n",
       "    </tr>\n",
       "    <tr>\n",
       "      <th>11</th>\n",
       "      <td>코미디</td>\n",
       "      <td>105.264151</td>\n",
       "      <td>9.466686e+05</td>\n",
       "      <td>1.094340</td>\n",
       "      <td>209.075472</td>\n",
       "      <td>4.735849</td>\n",
       "      <td>1.193914e+06</td>\n",
       "      <td>2012.452830</td>\n",
       "      <td>6.660377</td>\n",
       "      <td>17.358491</td>\n",
       "    </tr>\n",
       "    <tr>\n",
       "      <th>4</th>\n",
       "      <td>드라마</td>\n",
       "      <td>104.651584</td>\n",
       "      <td>3.673737e+05</td>\n",
       "      <td>0.814480</td>\n",
       "      <td>164.484163</td>\n",
       "      <td>3.647059</td>\n",
       "      <td>6.256898e+05</td>\n",
       "      <td>2012.610860</td>\n",
       "      <td>6.990950</td>\n",
       "      <td>16.271493</td>\n",
       "    </tr>\n",
       "    <tr>\n",
       "      <th>1</th>\n",
       "      <td>공포</td>\n",
       "      <td>100.214286</td>\n",
       "      <td>5.398694e+05</td>\n",
       "      <td>1.095238</td>\n",
       "      <td>176.380952</td>\n",
       "      <td>3.880952</td>\n",
       "      <td>5.908325e+05</td>\n",
       "      <td>2012.857143</td>\n",
       "      <td>7.261905</td>\n",
       "      <td>17.547619</td>\n",
       "    </tr>\n",
       "    <tr>\n",
       "      <th>7</th>\n",
       "      <td>미스터리</td>\n",
       "      <td>102.588235</td>\n",
       "      <td>5.839898e+05</td>\n",
       "      <td>1.235294</td>\n",
       "      <td>117.352941</td>\n",
       "      <td>2.882353</td>\n",
       "      <td>5.275482e+05</td>\n",
       "      <td>2013.294118</td>\n",
       "      <td>7.470588</td>\n",
       "      <td>14.470588</td>\n",
       "    </tr>\n",
       "    <tr>\n",
       "      <th>5</th>\n",
       "      <td>멜로/로맨스</td>\n",
       "      <td>96.641026</td>\n",
       "      <td>6.158363e+05</td>\n",
       "      <td>0.987179</td>\n",
       "      <td>135.782051</td>\n",
       "      <td>3.410256</td>\n",
       "      <td>4.259680e+05</td>\n",
       "      <td>2013.051282</td>\n",
       "      <td>6.923077</td>\n",
       "      <td>16.448718</td>\n",
       "    </tr>\n",
       "    <tr>\n",
       "      <th>9</th>\n",
       "      <td>애니메이션</td>\n",
       "      <td>82.571429</td>\n",
       "      <td>2.535000e+03</td>\n",
       "      <td>0.047619</td>\n",
       "      <td>44.619048</td>\n",
       "      <td>5.666667</td>\n",
       "      <td>1.819267e+05</td>\n",
       "      <td>2013.142857</td>\n",
       "      <td>7.333333</td>\n",
       "      <td>18.047619</td>\n",
       "    </tr>\n",
       "    <tr>\n",
       "      <th>8</th>\n",
       "      <td>서스펜스</td>\n",
       "      <td>112.000000</td>\n",
       "      <td>2.671162e+05</td>\n",
       "      <td>1.000000</td>\n",
       "      <td>111.000000</td>\n",
       "      <td>3.000000</td>\n",
       "      <td>8.261100e+04</td>\n",
       "      <td>2013.500000</td>\n",
       "      <td>6.500000</td>\n",
       "      <td>17.500000</td>\n",
       "    </tr>\n",
       "    <tr>\n",
       "      <th>3</th>\n",
       "      <td>다큐멘터리</td>\n",
       "      <td>88.053763</td>\n",
       "      <td>4.623368e+04</td>\n",
       "      <td>0.397849</td>\n",
       "      <td>17.849462</td>\n",
       "      <td>3.268817</td>\n",
       "      <td>6.717226e+04</td>\n",
       "      <td>2012.698925</td>\n",
       "      <td>6.989247</td>\n",
       "      <td>15.591398</td>\n",
       "    </tr>\n",
       "    <tr>\n",
       "      <th>6</th>\n",
       "      <td>뮤지컬</td>\n",
       "      <td>107.000000</td>\n",
       "      <td>0.000000e+00</td>\n",
       "      <td>0.000000</td>\n",
       "      <td>2.200000</td>\n",
       "      <td>2.800000</td>\n",
       "      <td>6.627000e+03</td>\n",
       "      <td>2012.800000</td>\n",
       "      <td>9.200000</td>\n",
       "      <td>19.400000</td>\n",
       "    </tr>\n",
       "  </tbody>\n",
       "</table>\n",
       "</div>"
      ],
      "text/plain": [
       "     genre        time  dir_prev_bfnum  dir_prev_num   num_staff  num_actor  \\\n",
       "2      느와르  115.370370    7.749172e+05      1.296296  311.074074   3.592593   \n",
       "10      액션  114.464286    1.061149e+06      1.857143  337.535714   3.607143   \n",
       "0       SF  101.384615    1.238218e+06      1.307692  197.307692   3.692308   \n",
       "11     코미디  105.264151    9.466686e+05      1.094340  209.075472   4.735849   \n",
       "4      드라마  104.651584    3.673737e+05      0.814480  164.484163   3.647059   \n",
       "1       공포  100.214286    5.398694e+05      1.095238  176.380952   3.880952   \n",
       "7     미스터리  102.588235    5.839898e+05      1.235294  117.352941   2.882353   \n",
       "5   멜로/로맨스   96.641026    6.158363e+05      0.987179  135.782051   3.410256   \n",
       "9    애니메이션   82.571429    2.535000e+03      0.047619   44.619048   5.666667   \n",
       "8     서스펜스  112.000000    2.671162e+05      1.000000  111.000000   3.000000   \n",
       "3    다큐멘터리   88.053763    4.623368e+04      0.397849   17.849462   3.268817   \n",
       "6      뮤지컬  107.000000    0.000000e+00      0.000000    2.200000   2.800000   \n",
       "\n",
       "     box_off_num  release_year  release_month  release_day  \n",
       "2   2.263695e+06   2012.851852       6.481481    17.555556  \n",
       "10  2.203974e+06   2012.642857       7.500000    18.821429  \n",
       "0   1.788346e+06   2013.000000       6.846154    14.230769  \n",
       "11  1.193914e+06   2012.452830       6.660377    17.358491  \n",
       "4   6.256898e+05   2012.610860       6.990950    16.271493  \n",
       "1   5.908325e+05   2012.857143       7.261905    17.547619  \n",
       "7   5.275482e+05   2013.294118       7.470588    14.470588  \n",
       "5   4.259680e+05   2013.051282       6.923077    16.448718  \n",
       "9   1.819267e+05   2013.142857       7.333333    18.047619  \n",
       "8   8.261100e+04   2013.500000       6.500000    17.500000  \n",
       "3   6.717226e+04   2012.698925       6.989247    15.591398  \n",
       "6   6.627000e+03   2012.800000       9.200000    19.400000  "
      ]
     },
     "execution_count": 20,
     "metadata": {},
     "output_type": "execute_result"
    }
   ],
   "source": [
    "# 장르별 평균 관객 수\n",
    "genre_bon_mean=pd.DataFrame(movies_train.groupby(['genre'],as_index=False).mean().sort_values('box_off_num',axis=0,ascending=False))\n",
    "genre_bon_mean"
   ]
  },
  {
   "cell_type": "code",
   "execution_count": 21,
   "metadata": {
    "scrolled": true
   },
   "outputs": [
    {
     "data": {
      "text/plain": [
       "Text(0.5, 1.0, '각 장르 별 관객의 수')"
      ]
     },
     "execution_count": 21,
     "metadata": {},
     "output_type": "execute_result"
    },
    {
     "data": {
      "image/png": "[encoded data removed]",
      "text/plain": [
       "<Figure size 432x288 with 1 Axes>"
      ]
     },
     "metadata": {
      "needs_background": "light"
     },
     "output_type": "display_data"
    }
   ],
   "source": [
    "# 장르별 관객 수 그래프\n",
    "bar_genre_bon_mean=plt.subplots()\n",
    "plt.xticks(rotation = 50, fontsize=9)\n",
    "plt.yticks(fontsize = 10)\n",
    "bar_genre_bon_mean=sns.barplot(x='genre',y='box_off_num',data=genre_bon_mean)\n",
    "bar_genre_bon_mean.set_title(\"각 장르 별 관객의 수\", fontsize=12)"
   ]
  },
  {
   "cell_type": "markdown",
   "metadata": {},
   "source": [
    "### 3. release_time: 개봉일"
   ]
  },
  {
   "cell_type": "code",
   "execution_count": 22,
   "metadata": {},
   "outputs": [
    {
     "data": {
      "text/html": [
       "<div>\n",
       "<style scoped>\n",
       "    .dataframe tbody tr th:only-of-type {\n",
       "        vertical-align: middle;\n",
       "    }\n",
       "\n",
       "    .dataframe tbody tr th {\n",
       "        vertical-align: top;\n",
       "    }\n",
       "\n",
       "    .dataframe thead th {\n",
       "        text-align: right;\n",
       "    }\n",
       "</style>\n",
       "<table border=\"1\" class=\"dataframe\">\n",
       "  <thead>\n",
       "    <tr style=\"text-align: right;\">\n",
       "      <th></th>\n",
       "      <th>release_year</th>\n",
       "      <th>time</th>\n",
       "      <th>dir_prev_bfnum</th>\n",
       "      <th>dir_prev_num</th>\n",
       "      <th>num_staff</th>\n",
       "      <th>num_actor</th>\n",
       "      <th>box_off_num</th>\n",
       "      <th>release_month</th>\n",
       "      <th>release_day</th>\n",
       "    </tr>\n",
       "  </thead>\n",
       "  <tbody>\n",
       "    <tr>\n",
       "      <th>3</th>\n",
       "      <td>2013</td>\n",
       "      <td>101.505263</td>\n",
       "      <td>343786.224561</td>\n",
       "      <td>0.863158</td>\n",
       "      <td>114.284211</td>\n",
       "      <td>3.800000</td>\n",
       "      <td>1.007358e+06</td>\n",
       "      <td>7.347368</td>\n",
       "      <td>17.526316</td>\n",
       "    </tr>\n",
       "    <tr>\n",
       "      <th>2</th>\n",
       "      <td>2012</td>\n",
       "      <td>101.295455</td>\n",
       "      <td>391948.229167</td>\n",
       "      <td>1.011364</td>\n",
       "      <td>136.579545</td>\n",
       "      <td>3.465909</td>\n",
       "      <td>9.457252e+05</td>\n",
       "      <td>6.568182</td>\n",
       "      <td>16.738636</td>\n",
       "    </tr>\n",
       "    <tr>\n",
       "      <th>1</th>\n",
       "      <td>2011</td>\n",
       "      <td>101.600000</td>\n",
       "      <td>487726.002083</td>\n",
       "      <td>0.612500</td>\n",
       "      <td>133.637500</td>\n",
       "      <td>3.737500</td>\n",
       "      <td>6.288671e+05</td>\n",
       "      <td>6.775000</td>\n",
       "      <td>15.250000</td>\n",
       "    </tr>\n",
       "    <tr>\n",
       "      <th>5</th>\n",
       "      <td>2015</td>\n",
       "      <td>100.258333</td>\n",
       "      <td>713280.643194</td>\n",
       "      <td>1.191667</td>\n",
       "      <td>163.041667</td>\n",
       "      <td>3.450000</td>\n",
       "      <td>5.958692e+05</td>\n",
       "      <td>7.316667</td>\n",
       "      <td>16.983333</td>\n",
       "    </tr>\n",
       "    <tr>\n",
       "      <th>4</th>\n",
       "      <td>2014</td>\n",
       "      <td>98.645669</td>\n",
       "      <td>376068.879265</td>\n",
       "      <td>0.826772</td>\n",
       "      <td>154.393701</td>\n",
       "      <td>3.543307</td>\n",
       "      <td>5.938845e+05</td>\n",
       "      <td>6.976378</td>\n",
       "      <td>15.952756</td>\n",
       "    </tr>\n",
       "    <tr>\n",
       "      <th>0</th>\n",
       "      <td>2010</td>\n",
       "      <td>103.044444</td>\n",
       "      <td>489954.890741</td>\n",
       "      <td>0.644444</td>\n",
       "      <td>199.233333</td>\n",
       "      <td>4.388889</td>\n",
       "      <td>5.416582e+05</td>\n",
       "      <td>6.944444</td>\n",
       "      <td>16.744444</td>\n",
       "    </tr>\n",
       "  </tbody>\n",
       "</table>\n",
       "</div>"
      ],
      "text/plain": [
       "   release_year        time  dir_prev_bfnum  dir_prev_num   num_staff  \\\n",
       "3          2013  101.505263   343786.224561      0.863158  114.284211   \n",
       "2          2012  101.295455   391948.229167      1.011364  136.579545   \n",
       "1          2011  101.600000   487726.002083      0.612500  133.637500   \n",
       "5          2015  100.258333   713280.643194      1.191667  163.041667   \n",
       "4          2014   98.645669   376068.879265      0.826772  154.393701   \n",
       "0          2010  103.044444   489954.890741      0.644444  199.233333   \n",
       "\n",
       "   num_actor   box_off_num  release_month  release_day  \n",
       "3   3.800000  1.007358e+06       7.347368    17.526316  \n",
       "2   3.465909  9.457252e+05       6.568182    16.738636  \n",
       "1   3.737500  6.288671e+05       6.775000    15.250000  \n",
       "5   3.450000  5.958692e+05       7.316667    16.983333  \n",
       "4   3.543307  5.938845e+05       6.976378    15.952756  \n",
       "0   4.388889  5.416582e+05       6.944444    16.744444  "
      ]
     },
     "execution_count": 22,
     "metadata": {},
     "output_type": "execute_result"
    }
   ],
   "source": [
    "# 년도별 평균 관객 수\n",
    "year_bon_mean=pd.DataFrame(movies_train.groupby(['release_year'],as_index=False).mean().sort_values('box_off_num',axis=0,ascending=False))\n",
    "year_bon_mean"
   ]
  },
  {
   "cell_type": "code",
   "execution_count": 23,
   "metadata": {
    "scrolled": false
   },
   "outputs": [
    {
     "data": {
      "text/plain": [
       "Text(0.5, 1.0, '각 년도별 관객의 수')"
      ]
     },
     "execution_count": 23,
     "metadata": {},
     "output_type": "execute_result"
    },
    {
     "data": {
      "image/png": "[encoded data removed]",
      "text/plain": [
       "<Figure size 432x288 with 1 Axes>"
      ]
     },
     "metadata": {
      "needs_background": "light"
     },
     "output_type": "display_data"
    }
   ],
   "source": [
    "# 년도별 관객 수 그래프\n",
    "bar_year_bon_mean=plt.subplots()\n",
    "plt.xticks(rotation = 50, fontsize = 9)\n",
    "plt.yticks(fontsize = 10)\n",
    "bar_year_bon_mean=sns.barplot(x='release_year',y='box_off_num',data=year_bon_mean)\n",
    "bar_year_bon_mean.set_title(\"각 년도별 관객의 수\", fontsize=12)"
   ]
  },
  {
   "cell_type": "code",
   "execution_count": 24,
   "metadata": {},
   "outputs": [
    {
     "data": {
      "text/html": [
       "<div>\n",
       "<style scoped>\n",
       "    .dataframe tbody tr th:only-of-type {\n",
       "        vertical-align: middle;\n",
       "    }\n",
       "\n",
       "    .dataframe tbody tr th {\n",
       "        vertical-align: top;\n",
       "    }\n",
       "\n",
       "    .dataframe thead th {\n",
       "        text-align: right;\n",
       "    }\n",
       "</style>\n",
       "<table border=\"1\" class=\"dataframe\">\n",
       "  <thead>\n",
       "    <tr style=\"text-align: right;\">\n",
       "      <th></th>\n",
       "      <th>release_month</th>\n",
       "      <th>time</th>\n",
       "      <th>dir_prev_bfnum</th>\n",
       "      <th>dir_prev_num</th>\n",
       "      <th>num_staff</th>\n",
       "      <th>num_actor</th>\n",
       "      <th>box_off_num</th>\n",
       "      <th>release_year</th>\n",
       "      <th>release_day</th>\n",
       "    </tr>\n",
       "  </thead>\n",
       "  <tbody>\n",
       "    <tr>\n",
       "      <th>0</th>\n",
       "      <td>1</td>\n",
       "      <td>105.205128</td>\n",
       "      <td>669448.106838</td>\n",
       "      <td>1.102564</td>\n",
       "      <td>213.000000</td>\n",
       "      <td>3.205128</td>\n",
       "      <td>1.365931e+06</td>\n",
       "      <td>2012.743590</td>\n",
       "      <td>18.794872</td>\n",
       "    </tr>\n",
       "    <tr>\n",
       "      <th>11</th>\n",
       "      <td>12</td>\n",
       "      <td>105.122449</td>\n",
       "      <td>732059.164966</td>\n",
       "      <td>0.959184</td>\n",
       "      <td>184.306122</td>\n",
       "      <td>3.938776</td>\n",
       "      <td>1.288248e+06</td>\n",
       "      <td>2012.959184</td>\n",
       "      <td>13.897959</td>\n",
       "    </tr>\n",
       "    <tr>\n",
       "      <th>6</th>\n",
       "      <td>7</td>\n",
       "      <td>96.775510</td>\n",
       "      <td>442051.346939</td>\n",
       "      <td>0.755102</td>\n",
       "      <td>124.142857</td>\n",
       "      <td>4.163265</td>\n",
       "      <td>1.113807e+06</td>\n",
       "      <td>2012.755102</td>\n",
       "      <td>16.244898</td>\n",
       "    </tr>\n",
       "    <tr>\n",
       "      <th>7</th>\n",
       "      <td>8</td>\n",
       "      <td>101.218182</td>\n",
       "      <td>383681.891212</td>\n",
       "      <td>0.890909</td>\n",
       "      <td>177.254545</td>\n",
       "      <td>4.163636</td>\n",
       "      <td>1.029162e+06</td>\n",
       "      <td>2012.854545</td>\n",
       "      <td>17.054545</td>\n",
       "    </tr>\n",
       "    <tr>\n",
       "      <th>8</th>\n",
       "      <td>9</td>\n",
       "      <td>99.550000</td>\n",
       "      <td>773930.630556</td>\n",
       "      <td>0.816667</td>\n",
       "      <td>124.233333</td>\n",
       "      <td>3.833333</td>\n",
       "      <td>7.315286e+05</td>\n",
       "      <td>2012.500000</td>\n",
       "      <td>14.116667</td>\n",
       "    </tr>\n",
       "    <tr>\n",
       "      <th>1</th>\n",
       "      <td>2</td>\n",
       "      <td>106.741935</td>\n",
       "      <td>449489.233871</td>\n",
       "      <td>0.870968</td>\n",
       "      <td>163.838710</td>\n",
       "      <td>4.419355</td>\n",
       "      <td>6.630252e+05</td>\n",
       "      <td>2012.645161</td>\n",
       "      <td>16.806452</td>\n",
       "    </tr>\n",
       "    <tr>\n",
       "      <th>4</th>\n",
       "      <td>5</td>\n",
       "      <td>103.526316</td>\n",
       "      <td>441757.230994</td>\n",
       "      <td>0.807018</td>\n",
       "      <td>145.614035</td>\n",
       "      <td>3.807018</td>\n",
       "      <td>5.756852e+05</td>\n",
       "      <td>2012.491228</td>\n",
       "      <td>18.684211</td>\n",
       "    </tr>\n",
       "    <tr>\n",
       "      <th>5</th>\n",
       "      <td>6</td>\n",
       "      <td>100.379310</td>\n",
       "      <td>209894.759770</td>\n",
       "      <td>0.793103</td>\n",
       "      <td>113.000000</td>\n",
       "      <td>3.517241</td>\n",
       "      <td>5.122865e+05</td>\n",
       "      <td>2012.620690</td>\n",
       "      <td>16.482759</td>\n",
       "    </tr>\n",
       "    <tr>\n",
       "      <th>10</th>\n",
       "      <td>11</td>\n",
       "      <td>101.597222</td>\n",
       "      <td>531993.605324</td>\n",
       "      <td>0.875000</td>\n",
       "      <td>147.291667</td>\n",
       "      <td>3.250000</td>\n",
       "      <td>4.956539e+05</td>\n",
       "      <td>2012.736111</td>\n",
       "      <td>17.152778</td>\n",
       "    </tr>\n",
       "    <tr>\n",
       "      <th>9</th>\n",
       "      <td>10</td>\n",
       "      <td>97.033333</td>\n",
       "      <td>351079.612500</td>\n",
       "      <td>1.166667</td>\n",
       "      <td>162.166667</td>\n",
       "      <td>3.266667</td>\n",
       "      <td>3.859042e+05</td>\n",
       "      <td>2013.133333</td>\n",
       "      <td>18.150000</td>\n",
       "    </tr>\n",
       "    <tr>\n",
       "      <th>2</th>\n",
       "      <td>3</td>\n",
       "      <td>98.500000</td>\n",
       "      <td>277104.448718</td>\n",
       "      <td>0.615385</td>\n",
       "      <td>135.365385</td>\n",
       "      <td>3.557692</td>\n",
       "      <td>2.738874e+05</td>\n",
       "      <td>2012.480769</td>\n",
       "      <td>15.269231</td>\n",
       "    </tr>\n",
       "    <tr>\n",
       "      <th>3</th>\n",
       "      <td>4</td>\n",
       "      <td>97.914894</td>\n",
       "      <td>286432.414184</td>\n",
       "      <td>0.851064</td>\n",
       "      <td>128.021277</td>\n",
       "      <td>3.659574</td>\n",
       "      <td>2.581667e+05</td>\n",
       "      <td>2013.000000</td>\n",
       "      <td>16.000000</td>\n",
       "    </tr>\n",
       "  </tbody>\n",
       "</table>\n",
       "</div>"
      ],
      "text/plain": [
       "    release_month        time  dir_prev_bfnum  dir_prev_num   num_staff  \\\n",
       "0               1  105.205128   669448.106838      1.102564  213.000000   \n",
       "11             12  105.122449   732059.164966      0.959184  184.306122   \n",
       "6               7   96.775510   442051.346939      0.755102  124.142857   \n",
       "7               8  101.218182   383681.891212      0.890909  177.254545   \n",
       "8               9   99.550000   773930.630556      0.816667  124.233333   \n",
       "1               2  106.741935   449489.233871      0.870968  163.838710   \n",
       "4               5  103.526316   441757.230994      0.807018  145.614035   \n",
       "5               6  100.379310   209894.759770      0.793103  113.000000   \n",
       "10             11  101.597222   531993.605324      0.875000  147.291667   \n",
       "9              10   97.033333   351079.612500      1.166667  162.166667   \n",
       "2               3   98.500000   277104.448718      0.615385  135.365385   \n",
       "3               4   97.914894   286432.414184      0.851064  128.021277   \n",
       "\n",
       "    num_actor   box_off_num  release_year  release_day  \n",
       "0    3.205128  1.365931e+06   2012.743590    18.794872  \n",
       "11   3.938776  1.288248e+06   2012.959184    13.897959  \n",
       "6    4.163265  1.113807e+06   2012.755102    16.244898  \n",
       "7    4.163636  1.029162e+06   2012.854545    17.054545  \n",
       "8    3.833333  7.315286e+05   2012.500000    14.116667  \n",
       "1    4.419355  6.630252e+05   2012.645161    16.806452  \n",
       "4    3.807018  5.756852e+05   2012.491228    18.684211  \n",
       "5    3.517241  5.122865e+05   2012.620690    16.482759  \n",
       "10   3.250000  4.956539e+05   2012.736111    17.152778  \n",
       "9    3.266667  3.859042e+05   2013.133333    18.150000  \n",
       "2    3.557692  2.738874e+05   2012.480769    15.269231  \n",
       "3    3.659574  2.581667e+05   2013.000000    16.000000  "
      ]
     },
     "execution_count": 24,
     "metadata": {},
     "output_type": "execute_result"
    }
   ],
   "source": [
    "# 월별 평균 관객 수\n",
    "month_bon_mean=pd.DataFrame(movies_train.groupby(['release_month'],as_index=False).mean().sort_values('box_off_num',axis=0,ascending=False))\n",
    "month_bon_mean"
   ]
  },
  {
   "cell_type": "code",
   "execution_count": 25,
   "metadata": {},
   "outputs": [
    {
     "data": {
      "text/plain": [
       "Text(0.5, 1.0, '각 월별 관객의 수')"
      ]
     },
     "execution_count": 25,
     "metadata": {},
     "output_type": "execute_result"
    },
    {
     "data": {
      "image/png": "[encoded data removed]",
      "text/plain": [
       "<Figure size 432x288 with 1 Axes>"
      ]
     },
     "metadata": {
      "needs_background": "light"
     },
     "output_type": "display_data"
    }
   ],
   "source": [
    "# 월별 관객 수 그래프\n",
    "bar_month_bon_mean=plt.subplots()\n",
    "plt.xticks(rotation = 50, fontsize = 9)\n",
    "plt.yticks(fontsize = 10)\n",
    "bar_month_bon_mean=sns.barplot(x='release_month',y='box_off_num',data=month_bon_mean)\n",
    "bar_month_bon_mean.set_title(\"각 월별 관객의 수\", fontsize=12)"
   ]
  },
  {
   "cell_type": "markdown",
   "metadata": {},
   "source": [
    "### 4. time: 상영시간(분)"
   ]
  },
  {
   "cell_type": "code",
   "execution_count": 26,
   "metadata": {},
   "outputs": [
    {
     "data": {
      "text/html": [
       "<div>\n",
       "<style scoped>\n",
       "    .dataframe tbody tr th:only-of-type {\n",
       "        vertical-align: middle;\n",
       "    }\n",
       "\n",
       "    .dataframe tbody tr th {\n",
       "        vertical-align: top;\n",
       "    }\n",
       "\n",
       "    .dataframe thead th {\n",
       "        text-align: right;\n",
       "    }\n",
       "</style>\n",
       "<table border=\"1\" class=\"dataframe\">\n",
       "  <thead>\n",
       "    <tr style=\"text-align: right;\">\n",
       "      <th></th>\n",
       "      <th>time</th>\n",
       "      <th>counts</th>\n",
       "    </tr>\n",
       "  </thead>\n",
       "  <tbody>\n",
       "    <tr>\n",
       "      <th>85</th>\n",
       "      <td>45</td>\n",
       "      <td>1</td>\n",
       "    </tr>\n",
       "    <tr>\n",
       "      <th>70</th>\n",
       "      <td>60</td>\n",
       "      <td>1</td>\n",
       "    </tr>\n",
       "    <tr>\n",
       "      <th>62</th>\n",
       "      <td>61</td>\n",
       "      <td>2</td>\n",
       "    </tr>\n",
       "    <tr>\n",
       "      <th>60</th>\n",
       "      <td>62</td>\n",
       "      <td>2</td>\n",
       "    </tr>\n",
       "    <tr>\n",
       "      <th>69</th>\n",
       "      <td>63</td>\n",
       "      <td>1</td>\n",
       "    </tr>\n",
       "    <tr>\n",
       "      <th>...</th>\n",
       "      <td>...</td>\n",
       "      <td>...</td>\n",
       "    </tr>\n",
       "    <tr>\n",
       "      <th>82</th>\n",
       "      <td>153</td>\n",
       "      <td>1</td>\n",
       "    </tr>\n",
       "    <tr>\n",
       "      <th>83</th>\n",
       "      <td>156</td>\n",
       "      <td>1</td>\n",
       "    </tr>\n",
       "    <tr>\n",
       "      <th>84</th>\n",
       "      <td>163</td>\n",
       "      <td>1</td>\n",
       "    </tr>\n",
       "    <tr>\n",
       "      <th>73</th>\n",
       "      <td>166</td>\n",
       "      <td>1</td>\n",
       "    </tr>\n",
       "    <tr>\n",
       "      <th>72</th>\n",
       "      <td>180</td>\n",
       "      <td>1</td>\n",
       "    </tr>\n",
       "  </tbody>\n",
       "</table>\n",
       "<p>86 rows × 2 columns</p>\n",
       "</div>"
      ],
      "text/plain": [
       "    time  counts\n",
       "85    45       1\n",
       "70    60       1\n",
       "62    61       2\n",
       "60    62       2\n",
       "69    63       1\n",
       "..   ...     ...\n",
       "82   153       1\n",
       "83   156       1\n",
       "84   163       1\n",
       "73   166       1\n",
       "72   180       1\n",
       "\n",
       "[86 rows x 2 columns]"
      ]
     },
     "execution_count": 26,
     "metadata": {},
     "output_type": "execute_result"
    }
   ],
   "source": [
    "# 상영시간별 영화 수\n",
    "time_counts=pd.DataFrame(movies_train['time'].value_counts()).reset_index()\n",
    "time_counts.columns=['time','counts']\n",
    "time_counts=time_counts.sort_values(by=\"time\", ascending=True)\n",
    "time_counts"
   ]
  },
  {
   "cell_type": "code",
   "execution_count": 27,
   "metadata": {},
   "outputs": [
    {
     "data": {
      "text/plain": [
       "Text(0.5, 1.0, '상영시간별 영화 수')"
      ]
     },
     "execution_count": 27,
     "metadata": {},
     "output_type": "execute_result"
    },
    {
     "data": {
      "image/png": "[encoded data removed]",
      "text/plain": [
       "<Figure size 432x288 with 1 Axes>"
      ]
     },
     "metadata": {
      "needs_background": "light"
     },
     "output_type": "display_data"
    }
   ],
   "source": [
    "# 상영시간별 영화 수 그래프\n",
    "bar_time_counts=plt.subplots()\n",
    "plt.xticks(rotation = 50, fontsize=6)\n",
    "plt.yticks(fontsize=10)\n",
    "bar_time_counts=sns.barplot(x='time',y='counts',data=time_counts)\n",
    "bar_time_counts.set_xlabel('level',fontsize=12)\n",
    "bar_time_counts.set_ylabel('counts',fontsize=12)\n",
    "bar_time_counts.set_title(\"상영시간별 영화 수\", fontsize=12)"
   ]
  },
  {
   "cell_type": "code",
   "execution_count": 28,
   "metadata": {},
   "outputs": [],
   "source": [
    "# 상영시간 범주화해서 다시 확인\n",
    "bins = list(range(45, 180, 9)) # 구간 나누기\n",
    "bins_label = [str(x)+\"이상 \"+str(x+9)+\"미만\" for x in bins]\n",
    "movies_train[\"level\"] = pd.cut(movies_train[\"time\"], bins, right=False, labels=bins_label[:-1])"
   ]
  },
  {
   "cell_type": "code",
   "execution_count": 29,
   "metadata": {
    "scrolled": false
   },
   "outputs": [
    {
     "data": {
      "text/html": [
       "<div>\n",
       "<style scoped>\n",
       "    .dataframe tbody tr th:only-of-type {\n",
       "        vertical-align: middle;\n",
       "    }\n",
       "\n",
       "    .dataframe tbody tr th {\n",
       "        vertical-align: top;\n",
       "    }\n",
       "\n",
       "    .dataframe thead th {\n",
       "        text-align: right;\n",
       "    }\n",
       "</style>\n",
       "<table border=\"1\" class=\"dataframe\">\n",
       "  <thead>\n",
       "    <tr style=\"text-align: right;\">\n",
       "      <th></th>\n",
       "      <th>level</th>\n",
       "      <th>counts</th>\n",
       "    </tr>\n",
       "  </thead>\n",
       "  <tbody>\n",
       "    <tr>\n",
       "      <th>0</th>\n",
       "      <td>90이상 99미만</td>\n",
       "      <td>121</td>\n",
       "    </tr>\n",
       "    <tr>\n",
       "      <th>1</th>\n",
       "      <td>99이상 108미만</td>\n",
       "      <td>104</td>\n",
       "    </tr>\n",
       "    <tr>\n",
       "      <th>2</th>\n",
       "      <td>108이상 117미만</td>\n",
       "      <td>91</td>\n",
       "    </tr>\n",
       "    <tr>\n",
       "      <th>3</th>\n",
       "      <td>81이상 90미만</td>\n",
       "      <td>84</td>\n",
       "    </tr>\n",
       "    <tr>\n",
       "      <th>4</th>\n",
       "      <td>117이상 126미만</td>\n",
       "      <td>74</td>\n",
       "    </tr>\n",
       "    <tr>\n",
       "      <th>5</th>\n",
       "      <td>72이상 81미만</td>\n",
       "      <td>57</td>\n",
       "    </tr>\n",
       "    <tr>\n",
       "      <th>6</th>\n",
       "      <td>126이상 135미만</td>\n",
       "      <td>28</td>\n",
       "    </tr>\n",
       "    <tr>\n",
       "      <th>7</th>\n",
       "      <td>63이상 72미만</td>\n",
       "      <td>16</td>\n",
       "    </tr>\n",
       "    <tr>\n",
       "      <th>8</th>\n",
       "      <td>135이상 144미만</td>\n",
       "      <td>10</td>\n",
       "    </tr>\n",
       "    <tr>\n",
       "      <th>9</th>\n",
       "      <td>54이상 63미만</td>\n",
       "      <td>5</td>\n",
       "    </tr>\n",
       "    <tr>\n",
       "      <th>10</th>\n",
       "      <td>144이상 153미만</td>\n",
       "      <td>4</td>\n",
       "    </tr>\n",
       "    <tr>\n",
       "      <th>11</th>\n",
       "      <td>162이상 171미만</td>\n",
       "      <td>2</td>\n",
       "    </tr>\n",
       "    <tr>\n",
       "      <th>12</th>\n",
       "      <td>153이상 162미만</td>\n",
       "      <td>2</td>\n",
       "    </tr>\n",
       "    <tr>\n",
       "      <th>13</th>\n",
       "      <td>45이상 54미만</td>\n",
       "      <td>1</td>\n",
       "    </tr>\n",
       "  </tbody>\n",
       "</table>\n",
       "</div>"
      ],
      "text/plain": [
       "          level  counts\n",
       "0     90이상 99미만     121\n",
       "1    99이상 108미만     104\n",
       "2   108이상 117미만      91\n",
       "3     81이상 90미만      84\n",
       "4   117이상 126미만      74\n",
       "5     72이상 81미만      57\n",
       "6   126이상 135미만      28\n",
       "7     63이상 72미만      16\n",
       "8   135이상 144미만      10\n",
       "9     54이상 63미만       5\n",
       "10  144이상 153미만       4\n",
       "11  162이상 171미만       2\n",
       "12  153이상 162미만       2\n",
       "13    45이상 54미만       1"
      ]
     },
     "execution_count": 29,
     "metadata": {},
     "output_type": "execute_result"
    }
   ],
   "source": [
    "# 상영시간 구간별 영화 수 데이터프레임 만들기\n",
    "time_movie_counts=movies_train[\"level\"].value_counts()\n",
    "time_movie_counts=pd.DataFrame(movies_train['level'].value_counts()).reset_index()\n",
    "time_movie_counts.columns=['level','counts']\n",
    "time_movie_counts"
   ]
  },
  {
   "cell_type": "code",
   "execution_count": 30,
   "metadata": {},
   "outputs": [
    {
     "data": {
      "text/plain": [
       "Text(0.5, 1.0, '상영시간 구간별 영화 수')"
      ]
     },
     "execution_count": 30,
     "metadata": {},
     "output_type": "execute_result"
    },
    {
     "data": {
      "image/png": "[encoded data removed]",
      "text/plain": [
       "<Figure size 432x288 with 1 Axes>"
      ]
     },
     "metadata": {
      "needs_background": "light"
     },
     "output_type": "display_data"
    }
   ],
   "source": [
    "# 상영시간 구간별 영화 수 그래프\n",
    "bar_time_movie_counts=plt.subplots()\n",
    "plt.xticks(rotation = 50, fontsize=9)\n",
    "plt.yticks(fontsize=10)\n",
    "plt.rcParams[\"font.size\"] = 10\n",
    "bar_time_movie_counts=sns.barplot(x='level',y='counts',data=time_movie_counts)\n",
    "bar_time_movie_counts.set_xlabel('level',fontsize=12)\n",
    "bar_time_movie_counts.set_ylabel('counts',fontsize=12)\n",
    "bar_time_movie_counts.set_title(\"상영시간 구간별 영화 수\", fontsize=12)"
   ]
  },
  {
   "cell_type": "markdown",
   "metadata": {},
   "source": [
    "* 90분대의 영화가 가장 많고, 러닝타임 평균인 100분 근처의 러닝타임 영화가 훨씬 많다. 80분 이하이거나 120분 이상인 영화가 상대적으로 훨씬 적다. "
   ]
  },
  {
   "cell_type": "code",
   "execution_count": 31,
   "metadata": {},
   "outputs": [
    {
     "data": {
      "text/html": [
       "<div>\n",
       "<style scoped>\n",
       "    .dataframe tbody tr th:only-of-type {\n",
       "        vertical-align: middle;\n",
       "    }\n",
       "\n",
       "    .dataframe tbody tr th {\n",
       "        vertical-align: top;\n",
       "    }\n",
       "\n",
       "    .dataframe thead th {\n",
       "        text-align: right;\n",
       "    }\n",
       "</style>\n",
       "<table border=\"1\" class=\"dataframe\">\n",
       "  <thead>\n",
       "    <tr style=\"text-align: right;\">\n",
       "      <th></th>\n",
       "      <th>time</th>\n",
       "      <th>box_off_num</th>\n",
       "    </tr>\n",
       "  </thead>\n",
       "  <tbody>\n",
       "    <tr>\n",
       "      <th>time</th>\n",
       "      <td>1.000000</td>\n",
       "      <td>0.441452</td>\n",
       "    </tr>\n",
       "    <tr>\n",
       "      <th>box_off_num</th>\n",
       "      <td>0.441452</td>\n",
       "      <td>1.000000</td>\n",
       "    </tr>\n",
       "  </tbody>\n",
       "</table>\n",
       "</div>"
      ],
      "text/plain": [
       "                 time  box_off_num\n",
       "time         1.000000     0.441452\n",
       "box_off_num  0.441452     1.000000"
      ]
     },
     "execution_count": 31,
     "metadata": {},
     "output_type": "execute_result"
    }
   ],
   "source": [
    "# 상영시간과 관객 수의 상관관계\n",
    "movies_train[[\"time\",\"box_off_num\"]].corr(method='pearson')"
   ]
  },
  {
   "cell_type": "code",
   "execution_count": 32,
   "metadata": {},
   "outputs": [
    {
     "data": {
      "text/plain": [
       "<AxesSubplot:xlabel='time', ylabel='box_off_num'>"
      ]
     },
     "execution_count": 32,
     "metadata": {},
     "output_type": "execute_result"
    },
    {
     "data": {
      "image/png": "[encoded data removed]",
      "text/plain": [
       "<Figure size 432x288 with 1 Axes>"
      ]
     },
     "metadata": {
      "needs_background": "light"
     },
     "output_type": "display_data"
    }
   ],
   "source": [
    "# 상영시간과 관객 수의 관계 그래프\n",
    "sns.scatterplot(data=movies_train, x='time', y='box_off_num', alpha=0.3)"
   ]
  },
  {
   "cell_type": "code",
   "execution_count": 33,
   "metadata": {},
   "outputs": [
    {
     "data": {
      "text/plain": [
       "<AxesSubplot:xlabel='time', ylabel='box_off_num'>"
      ]
     },
     "execution_count": 33,
     "metadata": {},
     "output_type": "execute_result"
    },
    {
     "data": {
      "image/png": "[encoded data removed]",
      "text/plain": [
       "<Figure size 432x288 with 1 Axes>"
      ]
     },
     "metadata": {
      "needs_background": "light"
     },
     "output_type": "display_data"
    }
   ],
   "source": [
    "sns.regplot(data=movies_train, x='time', y='box_off_num')"
   ]
  },
  {
   "cell_type": "markdown",
   "metadata": {},
   "source": [
    "* 높은 관객 수를 기록 한 영화들은 대게 120~140분 러닝타임의 영화다."
   ]
  },
  {
   "cell_type": "markdown",
   "metadata": {},
   "source": [
    "### 5. screening_rat : 상영등급"
   ]
  },
  {
   "cell_type": "code",
   "execution_count": 34,
   "metadata": {
    "scrolled": true
   },
   "outputs": [
    {
     "data": {
      "text/html": [
       "<div>\n",
       "<style scoped>\n",
       "    .dataframe tbody tr th:only-of-type {\n",
       "        vertical-align: middle;\n",
       "    }\n",
       "\n",
       "    .dataframe tbody tr th {\n",
       "        vertical-align: top;\n",
       "    }\n",
       "\n",
       "    .dataframe thead th {\n",
       "        text-align: right;\n",
       "    }\n",
       "</style>\n",
       "<table border=\"1\" class=\"dataframe\">\n",
       "  <thead>\n",
       "    <tr style=\"text-align: right;\">\n",
       "      <th></th>\n",
       "      <th>screening_rat</th>\n",
       "      <th>counts</th>\n",
       "    </tr>\n",
       "  </thead>\n",
       "  <tbody>\n",
       "    <tr>\n",
       "      <th>0</th>\n",
       "      <td>청소년 관람불가</td>\n",
       "      <td>204</td>\n",
       "    </tr>\n",
       "    <tr>\n",
       "      <th>1</th>\n",
       "      <td>15세 관람가</td>\n",
       "      <td>202</td>\n",
       "    </tr>\n",
       "    <tr>\n",
       "      <th>2</th>\n",
       "      <td>12세 관람가</td>\n",
       "      <td>102</td>\n",
       "    </tr>\n",
       "    <tr>\n",
       "      <th>3</th>\n",
       "      <td>전체 관람가</td>\n",
       "      <td>92</td>\n",
       "    </tr>\n",
       "  </tbody>\n",
       "</table>\n",
       "</div>"
      ],
      "text/plain": [
       "  screening_rat  counts\n",
       "0      청소년 관람불가     204\n",
       "1       15세 관람가     202\n",
       "2       12세 관람가     102\n",
       "3        전체 관람가      92"
      ]
     },
     "execution_count": 34,
     "metadata": {},
     "output_type": "execute_result"
    }
   ],
   "source": [
    "# 상영등급별 영화 수\n",
    "scr_rat_counts = movies_train['screening_rat'].value_counts().reset_index()\n",
    "scr_rat_counts.columns=['screening_rat','counts']\n",
    "scr_rat_counts"
   ]
  },
  {
   "cell_type": "code",
   "execution_count": 35,
   "metadata": {},
   "outputs": [
    {
     "data": {
      "text/plain": [
       "Text(0.5, 1.0, '상영등급별 영화 수')"
      ]
     },
     "execution_count": 35,
     "metadata": {},
     "output_type": "execute_result"
    },
    {
     "data": {
      "image/png": "[encoded data removed]",
      "text/plain": [
       "<Figure size 432x288 with 1 Axes>"
      ]
     },
     "metadata": {
      "needs_background": "light"
     },
     "output_type": "display_data"
    }
   ],
   "source": [
    "# 상영등급별 영화 수 그래프\n",
    "scr_rat_counts_plot = plt.subplots()\n",
    "plt.xticks(fontsize=9)\n",
    "plt.yticks(fontsize=10)\n",
    "scr_rat_counts_plot = sns.countplot('screening_rat', data=movies_train)\n",
    "scr_rat_counts_plot.set_xlabel('screening_rat', fontsize=12)\n",
    "scr_rat_counts_plot.set_ylabel('count', fontsize=12)\n",
    "scr_rat_counts_plot.set_title(\"상영등급별 영화 수\", fontsize=12)"
   ]
  },
  {
   "cell_type": "code",
   "execution_count": 36,
   "metadata": {
    "scrolled": true
   },
   "outputs": [
    {
     "data": {
      "text/html": [
       "<div>\n",
       "<style scoped>\n",
       "    .dataframe tbody tr th:only-of-type {\n",
       "        vertical-align: middle;\n",
       "    }\n",
       "\n",
       "    .dataframe tbody tr th {\n",
       "        vertical-align: top;\n",
       "    }\n",
       "\n",
       "    .dataframe thead th {\n",
       "        text-align: right;\n",
       "    }\n",
       "</style>\n",
       "<table border=\"1\" class=\"dataframe\">\n",
       "  <thead>\n",
       "    <tr style=\"text-align: right;\">\n",
       "      <th></th>\n",
       "      <th>screening_rat</th>\n",
       "      <th>box_off_num</th>\n",
       "    </tr>\n",
       "  </thead>\n",
       "  <tbody>\n",
       "    <tr>\n",
       "      <th>0</th>\n",
       "      <td>전체 관람가</td>\n",
       "      <td>12429242</td>\n",
       "    </tr>\n",
       "    <tr>\n",
       "      <th>1</th>\n",
       "      <td>청소년 관람불가</td>\n",
       "      <td>74292991</td>\n",
       "    </tr>\n",
       "    <tr>\n",
       "      <th>2</th>\n",
       "      <td>12세 관람가</td>\n",
       "      <td>86188052</td>\n",
       "    </tr>\n",
       "    <tr>\n",
       "      <th>3</th>\n",
       "      <td>15세 관람가</td>\n",
       "      <td>251998766</td>\n",
       "    </tr>\n",
       "  </tbody>\n",
       "</table>\n",
       "</div>"
      ],
      "text/plain": [
       "  screening_rat  box_off_num\n",
       "0        전체 관람가     12429242\n",
       "1      청소년 관람불가     74292991\n",
       "2       12세 관람가     86188052\n",
       "3       15세 관람가    251998766"
      ]
     },
     "execution_count": 36,
     "metadata": {},
     "output_type": "execute_result"
    }
   ],
   "source": [
    "# 상영등급별 관객 수\n",
    "pd.options.display.float_format = '{:.1f}'.format\n",
    "scr_rat_bfnum = movies_train[['screening_rat','box_off_num']].groupby('screening_rat').sum().sort_values('box_off_num').reset_index()\n",
    "scr_rat_bfnum.columns=['screening_rat','box_off_num']\n",
    "scr_rat_bfnum"
   ]
  },
  {
   "cell_type": "code",
   "execution_count": 37,
   "metadata": {
    "scrolled": false
   },
   "outputs": [
    {
     "data": {
      "text/plain": [
       "Text(0.5, 1.0, '상영등급별 관객 수')"
      ]
     },
     "execution_count": 37,
     "metadata": {},
     "output_type": "execute_result"
    },
    {
     "data": {
      "image/png": "[encoded data removed]",
      "text/plain": [
       "<Figure size 432x288 with 1 Axes>"
      ]
     },
     "metadata": {
      "needs_background": "light"
     },
     "output_type": "display_data"
    }
   ],
   "source": [
    "# 상영등급별 관객 수 그래프\n",
    "scr_rat_plot = plt.subplots()\n",
    "plt.xticks(fontsize=9)\n",
    "plt.yticks(fontsize=10)\n",
    "scr_rat_plot = sns.barplot(x='screening_rat', y='box_off_num', data=scr_rat_bfnum)\n",
    "scr_rat_plot.set_xlabel('screening_rat',fontsize=12)\n",
    "scr_rat_plot.set_ylabel('box_off_num', fontsize=12)\n",
    "scr_rat_plot.set_title(\"상영등급별 관객 수\", fontsize=12)"
   ]
  },
  {
   "cell_type": "markdown",
   "metadata": {},
   "source": [
    "* 15세 관람가 > 12세 관람가 > 청소년 관람불가 > 전체 관람가 순으로 관객 수가 많다."
   ]
  },
  {
   "cell_type": "code",
   "execution_count": 38,
   "metadata": {},
   "outputs": [
    {
     "data": {
      "text/html": [
       "<div>\n",
       "<style scoped>\n",
       "    .dataframe tbody tr th:only-of-type {\n",
       "        vertical-align: middle;\n",
       "    }\n",
       "\n",
       "    .dataframe tbody tr th {\n",
       "        vertical-align: top;\n",
       "    }\n",
       "\n",
       "    .dataframe thead th {\n",
       "        text-align: right;\n",
       "    }\n",
       "</style>\n",
       "<table border=\"1\" class=\"dataframe\">\n",
       "  <thead>\n",
       "    <tr style=\"text-align: right;\">\n",
       "      <th></th>\n",
       "      <th>screening_rat</th>\n",
       "      <th>box_off_num</th>\n",
       "    </tr>\n",
       "  </thead>\n",
       "  <tbody>\n",
       "    <tr>\n",
       "      <th>0</th>\n",
       "      <td>전체 관람가</td>\n",
       "      <td>135100.5</td>\n",
       "    </tr>\n",
       "    <tr>\n",
       "      <th>1</th>\n",
       "      <td>청소년 관람불가</td>\n",
       "      <td>364181.3</td>\n",
       "    </tr>\n",
       "    <tr>\n",
       "      <th>2</th>\n",
       "      <td>12세 관람가</td>\n",
       "      <td>844980.9</td>\n",
       "    </tr>\n",
       "    <tr>\n",
       "      <th>3</th>\n",
       "      <td>15세 관람가</td>\n",
       "      <td>1247518.6</td>\n",
       "    </tr>\n",
       "  </tbody>\n",
       "</table>\n",
       "</div>"
      ],
      "text/plain": [
       "  screening_rat  box_off_num\n",
       "0        전체 관람가     135100.5\n",
       "1      청소년 관람불가     364181.3\n",
       "2       12세 관람가     844980.9\n",
       "3       15세 관람가    1247518.6"
      ]
     },
     "execution_count": 38,
     "metadata": {},
     "output_type": "execute_result"
    }
   ],
   "source": [
    "# 상영등급별 평균 관객 수\n",
    "scr_rat_bfnum_avg = movies_train[['screening_rat','box_off_num']].groupby('screening_rat').mean().sort_values('box_off_num').reset_index()\n",
    "scr_rat_bfnum_avg.columns= ['screening_rat','box_off_num']\n",
    "scr_rat_bfnum_avg"
   ]
  },
  {
   "cell_type": "markdown",
   "metadata": {},
   "source": [
    "### 6. director : 감독이름"
   ]
  },
  {
   "cell_type": "code",
   "execution_count": 39,
   "metadata": {
    "scrolled": false
   },
   "outputs": [
    {
     "data": {
      "text/html": [
       "<div>\n",
       "<style scoped>\n",
       "    .dataframe tbody tr th:only-of-type {\n",
       "        vertical-align: middle;\n",
       "    }\n",
       "\n",
       "    .dataframe tbody tr th {\n",
       "        vertical-align: top;\n",
       "    }\n",
       "\n",
       "    .dataframe thead th {\n",
       "        text-align: right;\n",
       "    }\n",
       "</style>\n",
       "<table border=\"1\" class=\"dataframe\">\n",
       "  <thead>\n",
       "    <tr style=\"text-align: right;\">\n",
       "      <th></th>\n",
       "      <th>director</th>\n",
       "      <th>counts</th>\n",
       "    </tr>\n",
       "  </thead>\n",
       "  <tbody>\n",
       "    <tr>\n",
       "      <th>0</th>\n",
       "      <td>홍상수</td>\n",
       "      <td>7</td>\n",
       "    </tr>\n",
       "    <tr>\n",
       "      <th>1</th>\n",
       "      <td>장률</td>\n",
       "      <td>4</td>\n",
       "    </tr>\n",
       "    <tr>\n",
       "      <th>2</th>\n",
       "      <td>노진수</td>\n",
       "      <td>4</td>\n",
       "    </tr>\n",
       "    <tr>\n",
       "      <th>3</th>\n",
       "      <td>전규환</td>\n",
       "      <td>4</td>\n",
       "    </tr>\n",
       "    <tr>\n",
       "      <th>4</th>\n",
       "      <td>신재호</td>\n",
       "      <td>4</td>\n",
       "    </tr>\n",
       "    <tr>\n",
       "      <th>...</th>\n",
       "      <td>...</td>\n",
       "      <td>...</td>\n",
       "    </tr>\n",
       "    <tr>\n",
       "      <th>467</th>\n",
       "      <td>정지영</td>\n",
       "      <td>1</td>\n",
       "    </tr>\n",
       "    <tr>\n",
       "      <th>468</th>\n",
       "      <td>구자홍</td>\n",
       "      <td>1</td>\n",
       "    </tr>\n",
       "    <tr>\n",
       "      <th>469</th>\n",
       "      <td>김광태</td>\n",
       "      <td>1</td>\n",
       "    </tr>\n",
       "    <tr>\n",
       "      <th>470</th>\n",
       "      <td>이홍기</td>\n",
       "      <td>1</td>\n",
       "    </tr>\n",
       "    <tr>\n",
       "      <th>471</th>\n",
       "      <td>홍석재</td>\n",
       "      <td>1</td>\n",
       "    </tr>\n",
       "  </tbody>\n",
       "</table>\n",
       "<p>472 rows × 2 columns</p>\n",
       "</div>"
      ],
      "text/plain": [
       "    director  counts\n",
       "0        홍상수       7\n",
       "1         장률       4\n",
       "2        노진수       4\n",
       "3        전규환       4\n",
       "4        신재호       4\n",
       "..       ...     ...\n",
       "467      정지영       1\n",
       "468      구자홍       1\n",
       "469      김광태       1\n",
       "470      이홍기       1\n",
       "471      홍석재       1\n",
       "\n",
       "[472 rows x 2 columns]"
      ]
     },
     "execution_count": 39,
     "metadata": {},
     "output_type": "execute_result"
    }
   ],
   "source": [
    "# 감독별 제작에 참여한 영화 수\n",
    "dir_counts = pd.DataFrame(movies_train['director'].value_counts()).reset_index()\n",
    "dir_counts.columns=['director','counts']\n",
    "dir_counts"
   ]
  },
  {
   "cell_type": "code",
   "execution_count": 40,
   "metadata": {
    "scrolled": false
   },
   "outputs": [
    {
     "data": {
      "text/plain": [
       "Text(0.5, 1.0, '감독별 제작에 참여한 영화 수 (3개 이상)')"
      ]
     },
     "execution_count": 40,
     "metadata": {},
     "output_type": "execute_result"
    },
    {
     "data": {
      "image/png": "[encoded data removed]",
      "text/plain": [
       "<Figure size 432x288 with 1 Axes>"
      ]
     },
     "metadata": {
      "needs_background": "light"
     },
     "output_type": "display_data"
    }
   ],
   "source": [
    "# 감독별 제작에 참여한 영화 수 (3개 이상) 그래프\n",
    "dir_counts_3 = dir_counts[(dir_counts['counts'] > 2)]\n",
    "dir_counts_3\n",
    "\n",
    "dir_counts_3_plot = plt.subplots()\n",
    "dir_counts_3_plot = sns.barplot(x='director', y='counts', data=dir_counts_3)\n",
    "plt.xticks(rotation=45, fontsize=9)\n",
    "plt.yticks(fontsize=10)\n",
    "dir_counts_3_plot.set_xlabel('director', fontsize=12)\n",
    "dir_counts_3_plot.set_ylabel('counts', fontsize=12)\n",
    "dir_counts_3_plot.set_title(\"감독별 제작에 참여한 영화 수 (3개 이상)\", fontsize=12)"
   ]
  },
  {
   "cell_type": "code",
   "execution_count": 41,
   "metadata": {
    "scrolled": false
   },
   "outputs": [
    {
     "data": {
      "text/html": [
       "<div>\n",
       "<style scoped>\n",
       "    .dataframe tbody tr th:only-of-type {\n",
       "        vertical-align: middle;\n",
       "    }\n",
       "\n",
       "    .dataframe tbody tr th {\n",
       "        vertical-align: top;\n",
       "    }\n",
       "\n",
       "    .dataframe thead th {\n",
       "        text-align: right;\n",
       "    }\n",
       "</style>\n",
       "<table border=\"1\" class=\"dataframe\">\n",
       "  <thead>\n",
       "    <tr style=\"text-align: right;\">\n",
       "      <th></th>\n",
       "      <th>num_movies</th>\n",
       "      <th>dir_counts</th>\n",
       "    </tr>\n",
       "  </thead>\n",
       "  <tbody>\n",
       "    <tr>\n",
       "      <th>0</th>\n",
       "      <td>1</td>\n",
       "      <td>373</td>\n",
       "    </tr>\n",
       "    <tr>\n",
       "      <th>1</th>\n",
       "      <td>2</td>\n",
       "      <td>79</td>\n",
       "    </tr>\n",
       "    <tr>\n",
       "      <th>2</th>\n",
       "      <td>3</td>\n",
       "      <td>14</td>\n",
       "    </tr>\n",
       "    <tr>\n",
       "      <th>3</th>\n",
       "      <td>4</td>\n",
       "      <td>5</td>\n",
       "    </tr>\n",
       "    <tr>\n",
       "      <th>4</th>\n",
       "      <td>7</td>\n",
       "      <td>1</td>\n",
       "    </tr>\n",
       "  </tbody>\n",
       "</table>\n",
       "</div>"
      ],
      "text/plain": [
       "   num_movies  dir_counts\n",
       "0           1         373\n",
       "1           2          79\n",
       "2           3          14\n",
       "3           4           5\n",
       "4           7           1"
      ]
     },
     "execution_count": 41,
     "metadata": {},
     "output_type": "execute_result"
    }
   ],
   "source": [
    "# 제작에 참여한 영화 수별 감독 수\n",
    "by_counts = pd.DataFrame(dir_counts['counts'].value_counts()).reset_index()\n",
    "by_counts.columns = ['num_movies','dir_counts']\n",
    "by_counts"
   ]
  },
  {
   "cell_type": "code",
   "execution_count": 42,
   "metadata": {},
   "outputs": [
    {
     "data": {
      "text/plain": [
       "Text(0.5, 1.0, '제작에 참여한 영화 수별 감독 수')"
      ]
     },
     "execution_count": 42,
     "metadata": {},
     "output_type": "execute_result"
    },
    {
     "data": {
      "image/png": "[encoded data removed]",
      "text/plain": [
       "<Figure size 432x288 with 1 Axes>"
      ]
     },
     "metadata": {
      "needs_background": "light"
     },
     "output_type": "display_data"
    }
   ],
   "source": [
    "# 제작에 참여한 영화 수별 감독 수 그래프\n",
    "by_counts_plot = plt.subplots()\n",
    "by_counts_plot = sns.barplot(x='num_movies', y='dir_counts', data=by_counts)\n",
    "plt.xticks(fontsize=10)\n",
    "plt.yticks(fontsize=10)\n",
    "by_counts_plot.set_xlabel('num_movies', fontsize=12)\n",
    "by_counts_plot.set_ylabel('dir_counts', fontsize=12)\n",
    "by_counts_plot.set_title(\"제작에 참여한 영화 수별 감독 수\", fontsize=12)"
   ]
  },
  {
   "cell_type": "markdown",
   "metadata": {},
   "source": [
    "* 제작 영화 수는 1~3개 사이에 대부분이 분포하고 있으며 1개인 경우에서 관측값이 압도적으로 많다."
   ]
  },
  {
   "cell_type": "code",
   "execution_count": 43,
   "metadata": {
    "scrolled": false
   },
   "outputs": [
    {
     "data": {
      "text/html": [
       "<div>\n",
       "<style scoped>\n",
       "    .dataframe tbody tr th:only-of-type {\n",
       "        vertical-align: middle;\n",
       "    }\n",
       "\n",
       "    .dataframe tbody tr th {\n",
       "        vertical-align: top;\n",
       "    }\n",
       "\n",
       "    .dataframe thead th {\n",
       "        text-align: right;\n",
       "    }\n",
       "</style>\n",
       "<table border=\"1\" class=\"dataframe\">\n",
       "  <thead>\n",
       "    <tr style=\"text-align: right;\">\n",
       "      <th></th>\n",
       "      <th>director</th>\n",
       "      <th>box_off_num</th>\n",
       "    </tr>\n",
       "  </thead>\n",
       "  <tbody>\n",
       "    <tr>\n",
       "      <th>0</th>\n",
       "      <td>최동훈</td>\n",
       "      <td>25690504</td>\n",
       "    </tr>\n",
       "    <tr>\n",
       "      <th>1</th>\n",
       "      <td>이석훈</td>\n",
       "      <td>16425919</td>\n",
       "    </tr>\n",
       "    <tr>\n",
       "      <th>2</th>\n",
       "      <td>윤제균</td>\n",
       "      <td>14262766</td>\n",
       "    </tr>\n",
       "    <tr>\n",
       "      <th>3</th>\n",
       "      <td>추창민</td>\n",
       "      <td>13973002</td>\n",
       "    </tr>\n",
       "    <tr>\n",
       "      <th>4</th>\n",
       "      <td>이환경</td>\n",
       "      <td>13347092</td>\n",
       "    </tr>\n",
       "    <tr>\n",
       "      <th>...</th>\n",
       "      <td>...</td>\n",
       "      <td>...</td>\n",
       "    </tr>\n",
       "    <tr>\n",
       "      <th>467</th>\n",
       "      <td>진광교</td>\n",
       "      <td>36</td>\n",
       "    </tr>\n",
       "    <tr>\n",
       "      <th>468</th>\n",
       "      <td>이세일</td>\n",
       "      <td>10</td>\n",
       "    </tr>\n",
       "    <tr>\n",
       "      <th>469</th>\n",
       "      <td>고구마</td>\n",
       "      <td>8</td>\n",
       "    </tr>\n",
       "    <tr>\n",
       "      <th>470</th>\n",
       "      <td>김정호</td>\n",
       "      <td>2</td>\n",
       "    </tr>\n",
       "    <tr>\n",
       "      <th>471</th>\n",
       "      <td>노성수</td>\n",
       "      <td>1</td>\n",
       "    </tr>\n",
       "  </tbody>\n",
       "</table>\n",
       "<p>472 rows × 2 columns</p>\n",
       "</div>"
      ],
      "text/plain": [
       "    director  box_off_num\n",
       "0        최동훈     25690504\n",
       "1        이석훈     16425919\n",
       "2        윤제균     14262766\n",
       "3        추창민     13973002\n",
       "4        이환경     13347092\n",
       "..       ...          ...\n",
       "467      진광교           36\n",
       "468      이세일           10\n",
       "469      고구마            8\n",
       "470      김정호            2\n",
       "471      노성수            1\n",
       "\n",
       "[472 rows x 2 columns]"
      ]
     },
     "execution_count": 43,
     "metadata": {},
     "output_type": "execute_result"
    }
   ],
   "source": [
    "# 감독별 관객 수\n",
    "dir_bfnum = movies_train[['director','box_off_num']].groupby('director').sum().sort_values('box_off_num', ascending=False).reset_index()\n",
    "dir_bfnum.columns=['director','box_off_num']\n",
    "dir_bfnum.sort_values(by=['box_off_num'],ascending=False)"
   ]
  },
  {
   "cell_type": "code",
   "execution_count": 44,
   "metadata": {},
   "outputs": [
    {
     "data": {
      "text/plain": [
       "Text(0.5, 1.0, '감독별 관객수 (500만 이상)')"
      ]
     },
     "execution_count": 44,
     "metadata": {},
     "output_type": "execute_result"
    },
    {
     "data": {
      "image/png": "[encoded data removed]",
      "text/plain": [
       "<Figure size 432x288 with 1 Axes>"
      ]
     },
     "metadata": {
      "needs_background": "light"
     },
     "output_type": "display_data"
    }
   ],
   "source": [
    "# 감독별 관객 수 그래프 (500만 이상)\n",
    "dir_bfnum_500 = dir_bfnum[(dir_bfnum['box_off_num'] >= 5000000)]\n",
    "dir_bfnum_500\n",
    "\n",
    "dir_bfnum_500_plot = plt.subplots()\n",
    "dir_bfnum_500_plot = sns.barplot(x='director', y='box_off_num', data=dir_bfnum_500)\n",
    "plt.xticks(rotation=45, fontsize=9)\n",
    "plt.yticks(fontsize=10)\n",
    "dir_bfnum_500_plot.set_xlabel('director', fontsize=12)\n",
    "dir_bfnum_500_plot.set_ylabel('box_off_num', fontsize=12)\n",
    "dir_bfnum_500_plot.set_title(\"감독별 관객수 (500만 이상)\", fontsize=12)"
   ]
  },
  {
   "cell_type": "code",
   "execution_count": 45,
   "metadata": {},
   "outputs": [
    {
     "data": {
      "text/plain": [
       "Text(0.5, 1.0, '감독별 관객수 (200만 이상 500만 미만)')"
      ]
     },
     "execution_count": 45,
     "metadata": {},
     "output_type": "execute_result"
    },
    {
     "data": {
      "image/png": "[encoded data removed]",
      "text/plain": [
       "<Figure size 432x288 with 1 Axes>"
      ]
     },
     "metadata": {
      "needs_background": "light"
     },
     "output_type": "display_data"
    }
   ],
   "source": [
    "# 감독별 관객 수 그래프 (200만 이상 500만 미만)\n",
    "dir_bfnum_200 = dir_bfnum[(dir_bfnum['box_off_num'] >= 2000000)]\n",
    "dir_bfnum_200 = dir_bfnum_200[(dir_bfnum['box_off_num'] < 5000000)]\n",
    "\n",
    "dir_bfnum_200_plot = plt.subplots()\n",
    "dir_bfnum_200_plot = sns.barplot(x='director', y='box_off_num', data=dir_bfnum_200)\n",
    "plt.xticks(rotation=45, fontsize=7)\n",
    "plt.yticks(fontsize=9)\n",
    "dir_bfnum_200_plot.set_xlabel('director', fontsize=12)\n",
    "dir_bfnum_200_plot.set_ylabel('box_off_num', fontsize=12)\n",
    "dir_bfnum_200_plot.set_title(\"감독별 관객수 (200만 이상 500만 미만)\", fontsize=12)"
   ]
  },
  {
   "cell_type": "code",
   "execution_count": 46,
   "metadata": {},
   "outputs": [
    {
     "data": {
      "text/plain": [
       "Text(0.5, 1.0, '감독별 관객수 (100만 이상 200만 미만)')"
      ]
     },
     "execution_count": 46,
     "metadata": {},
     "output_type": "execute_result"
    },
    {
     "data": {
      "image/png": "[encoded data removed]",
      "text/plain": [
       "<Figure size 432x288 with 1 Axes>"
      ]
     },
     "metadata": {
      "needs_background": "light"
     },
     "output_type": "display_data"
    }
   ],
   "source": [
    "# 감독별 관객 수 그래프 (100만 이상 200만 미만)\n",
    "dir_bfnum_100 = dir_bfnum[(dir_bfnum['box_off_num'] >= 1000000)]\n",
    "dir_bfnum_100 = dir_bfnum_100[(dir_bfnum['box_off_num'] < 2000000)]\n",
    "\n",
    "dir_bfnum_100_plot = plt.subplots()\n",
    "dir_bfnum_100_plot = sns.barplot(x='director', y='box_off_num', data=dir_bfnum_100)\n",
    "plt.xticks(rotation=45, fontsize=7)\n",
    "plt.yticks(fontsize=8)\n",
    "dir_bfnum_100_plot.set_xlabel('director', fontsize=12)\n",
    "dir_bfnum_100_plot.set_ylabel('box_off_num', fontsize=12)\n",
    "dir_bfnum_100_plot.set_title(\"감독별 관객수 (100만 이상 200만 미만)\", fontsize=12)"
   ]
  },
  {
   "cell_type": "code",
   "execution_count": 47,
   "metadata": {
    "scrolled": false
   },
   "outputs": [
    {
     "data": {
      "text/plain": [
       "Text(0.5, 1.0, '감독별 관객수 (50만 이상 100만 미만)')"
      ]
     },
     "execution_count": 47,
     "metadata": {},
     "output_type": "execute_result"
    },
    {
     "data": {
      "image/png": "[encoded data removed]",
      "text/plain": [
       "<Figure size 432x288 with 1 Axes>"
      ]
     },
     "metadata": {
      "needs_background": "light"
     },
     "output_type": "display_data"
    }
   ],
   "source": [
    "# 감독별 관객 수 그래프 (50만 이상 100만 미만)\n",
    "dir_bfnum_50 = dir_bfnum[(dir_bfnum['box_off_num'] >= 500000)]\n",
    "dir_bfnum_50 = dir_bfnum_50[(dir_bfnum['box_off_num'] < 1000000)]\n",
    "\n",
    "dir_bfnum_50_plot = plt.subplots()\n",
    "dir_bfnum_50_plot = sns.barplot(x='director', y='box_off_num', data=dir_bfnum_50)\n",
    "plt.xticks(rotation=45, fontsize=8)\n",
    "plt.yticks(fontsize=8)\n",
    "dir_bfnum_50_plot.set_xlabel('director', fontsize=12)\n",
    "dir_bfnum_50_plot.set_ylabel('box_off_num', fontsize=12)\n",
    "dir_bfnum_50_plot.set_title(\"감독별 관객수 (50만 이상 100만 미만)\", fontsize=12)"
   ]
  },
  {
   "cell_type": "markdown",
   "metadata": {},
   "source": [
    "* 감독별 관객 수는 1부터 25690504까지로 범위가 굉장히 넓다."
   ]
  },
  {
   "cell_type": "code",
   "execution_count": 48,
   "metadata": {
    "scrolled": false
   },
   "outputs": [
    {
     "data": {
      "text/html": [
       "<div>\n",
       "<style scoped>\n",
       "    .dataframe tbody tr th:only-of-type {\n",
       "        vertical-align: middle;\n",
       "    }\n",
       "\n",
       "    .dataframe tbody tr th {\n",
       "        vertical-align: top;\n",
       "    }\n",
       "\n",
       "    .dataframe thead th {\n",
       "        text-align: right;\n",
       "    }\n",
       "</style>\n",
       "<table border=\"1\" class=\"dataframe\">\n",
       "  <thead>\n",
       "    <tr style=\"text-align: right;\">\n",
       "      <th></th>\n",
       "      <th>director</th>\n",
       "      <th>box_off_num</th>\n",
       "    </tr>\n",
       "  </thead>\n",
       "  <tbody>\n",
       "    <tr>\n",
       "      <th>471</th>\n",
       "      <td>윤제균</td>\n",
       "      <td>14262766.0</td>\n",
       "    </tr>\n",
       "    <tr>\n",
       "      <th>470</th>\n",
       "      <td>최동훈</td>\n",
       "      <td>12845252.0</td>\n",
       "    </tr>\n",
       "    <tr>\n",
       "      <th>469</th>\n",
       "      <td>양우석</td>\n",
       "      <td>11374879.0</td>\n",
       "    </tr>\n",
       "    <tr>\n",
       "      <th>468</th>\n",
       "      <td>봉준호</td>\n",
       "      <td>9350351.0</td>\n",
       "    </tr>\n",
       "    <tr>\n",
       "      <th>467</th>\n",
       "      <td>한재림</td>\n",
       "      <td>9135806.0</td>\n",
       "    </tr>\n",
       "    <tr>\n",
       "      <th>...</th>\n",
       "      <td>...</td>\n",
       "      <td>...</td>\n",
       "    </tr>\n",
       "    <tr>\n",
       "      <th>4</th>\n",
       "      <td>진광교</td>\n",
       "      <td>36.0</td>\n",
       "    </tr>\n",
       "    <tr>\n",
       "      <th>3</th>\n",
       "      <td>이세일</td>\n",
       "      <td>10.0</td>\n",
       "    </tr>\n",
       "    <tr>\n",
       "      <th>2</th>\n",
       "      <td>고구마</td>\n",
       "      <td>8.0</td>\n",
       "    </tr>\n",
       "    <tr>\n",
       "      <th>1</th>\n",
       "      <td>김정호</td>\n",
       "      <td>2.0</td>\n",
       "    </tr>\n",
       "    <tr>\n",
       "      <th>0</th>\n",
       "      <td>노성수</td>\n",
       "      <td>1.0</td>\n",
       "    </tr>\n",
       "  </tbody>\n",
       "</table>\n",
       "<p>472 rows × 2 columns</p>\n",
       "</div>"
      ],
      "text/plain": [
       "    director  box_off_num\n",
       "471      윤제균   14262766.0\n",
       "470      최동훈   12845252.0\n",
       "469      양우석   11374879.0\n",
       "468      봉준호    9350351.0\n",
       "467      한재림    9135806.0\n",
       "..       ...          ...\n",
       "4        진광교         36.0\n",
       "3        이세일         10.0\n",
       "2        고구마          8.0\n",
       "1        김정호          2.0\n",
       "0        노성수          1.0\n",
       "\n",
       "[472 rows x 2 columns]"
      ]
     },
     "execution_count": 48,
     "metadata": {},
     "output_type": "execute_result"
    }
   ],
   "source": [
    "# 감독별 평균 관객 수\n",
    "dir_bfnum_avg = movies_train[['director','box_off_num']].groupby('director').mean().sort_values('box_off_num').reset_index()\n",
    "dir_bfnum_avg.columns = ['director','box_off_num']\n",
    "dir_bfnum_avg.sort_values(by=['box_off_num'],ascending=False)"
   ]
  },
  {
   "cell_type": "code",
   "execution_count": 49,
   "metadata": {
    "scrolled": false
   },
   "outputs": [
    {
     "data": {
      "text/html": [
       "<div>\n",
       "<style scoped>\n",
       "    .dataframe tbody tr th:only-of-type {\n",
       "        vertical-align: middle;\n",
       "    }\n",
       "\n",
       "    .dataframe tbody tr th {\n",
       "        vertical-align: top;\n",
       "    }\n",
       "\n",
       "    .dataframe thead th {\n",
       "        text-align: right;\n",
       "    }\n",
       "</style>\n",
       "<table border=\"1\" class=\"dataframe\">\n",
       "  <thead>\n",
       "    <tr style=\"text-align: right;\">\n",
       "      <th></th>\n",
       "      <th>level</th>\n",
       "      <th>level_counts</th>\n",
       "    </tr>\n",
       "  </thead>\n",
       "  <tbody>\n",
       "    <tr>\n",
       "      <th>0</th>\n",
       "      <td>0만 이상 100만 미만</td>\n",
       "      <td>376</td>\n",
       "    </tr>\n",
       "    <tr>\n",
       "      <th>1</th>\n",
       "      <td>100만 이상 200만 미만</td>\n",
       "      <td>40</td>\n",
       "    </tr>\n",
       "    <tr>\n",
       "      <th>2</th>\n",
       "      <td>200만 이상 300만 미만</td>\n",
       "      <td>16</td>\n",
       "    </tr>\n",
       "    <tr>\n",
       "      <th>3</th>\n",
       "      <td>300만 이상 400만 미만</td>\n",
       "      <td>11</td>\n",
       "    </tr>\n",
       "    <tr>\n",
       "      <th>4</th>\n",
       "      <td>400만 이상 500만 미만</td>\n",
       "      <td>7</td>\n",
       "    </tr>\n",
       "    <tr>\n",
       "      <th>5</th>\n",
       "      <td>500만 이상 600만 미만</td>\n",
       "      <td>5</td>\n",
       "    </tr>\n",
       "    <tr>\n",
       "      <th>9</th>\n",
       "      <td>600만 이상 700만 미만</td>\n",
       "      <td>2</td>\n",
       "    </tr>\n",
       "    <tr>\n",
       "      <th>10</th>\n",
       "      <td>700만 이상 800만 미만</td>\n",
       "      <td>2</td>\n",
       "    </tr>\n",
       "    <tr>\n",
       "      <th>11</th>\n",
       "      <td>800만 이상 900만 미만</td>\n",
       "      <td>2</td>\n",
       "    </tr>\n",
       "    <tr>\n",
       "      <th>6</th>\n",
       "      <td>900만 이상 1000만 미만</td>\n",
       "      <td>3</td>\n",
       "    </tr>\n",
       "    <tr>\n",
       "      <th>16</th>\n",
       "      <td>1000만 이상 1100만 미만</td>\n",
       "      <td>0</td>\n",
       "    </tr>\n",
       "    <tr>\n",
       "      <th>7</th>\n",
       "      <td>1100만 이상 1200만 미만</td>\n",
       "      <td>3</td>\n",
       "    </tr>\n",
       "    <tr>\n",
       "      <th>25</th>\n",
       "      <td>1200만 이상 1300만 미만</td>\n",
       "      <td>0</td>\n",
       "    </tr>\n",
       "    <tr>\n",
       "      <th>8</th>\n",
       "      <td>1300만 이상 1400만 미만</td>\n",
       "      <td>2</td>\n",
       "    </tr>\n",
       "    <tr>\n",
       "      <th>13</th>\n",
       "      <td>1400만 이상 1500만 미만</td>\n",
       "      <td>1</td>\n",
       "    </tr>\n",
       "    <tr>\n",
       "      <th>17</th>\n",
       "      <td>1500만 이상 1600만 미만</td>\n",
       "      <td>0</td>\n",
       "    </tr>\n",
       "    <tr>\n",
       "      <th>14</th>\n",
       "      <td>1600만 이상 1700만 미만</td>\n",
       "      <td>1</td>\n",
       "    </tr>\n",
       "    <tr>\n",
       "      <th>18</th>\n",
       "      <td>1700만 이상 1800만 미만</td>\n",
       "      <td>0</td>\n",
       "    </tr>\n",
       "    <tr>\n",
       "      <th>19</th>\n",
       "      <td>1800만 이상 1900만 미만</td>\n",
       "      <td>0</td>\n",
       "    </tr>\n",
       "    <tr>\n",
       "      <th>20</th>\n",
       "      <td>1900만 이상 2000만 미만</td>\n",
       "      <td>0</td>\n",
       "    </tr>\n",
       "    <tr>\n",
       "      <th>21</th>\n",
       "      <td>2000만 이상 2100만 미만</td>\n",
       "      <td>0</td>\n",
       "    </tr>\n",
       "    <tr>\n",
       "      <th>22</th>\n",
       "      <td>2100만 이상 2200만 미만</td>\n",
       "      <td>0</td>\n",
       "    </tr>\n",
       "    <tr>\n",
       "      <th>23</th>\n",
       "      <td>2200만 이상 2300만 미만</td>\n",
       "      <td>0</td>\n",
       "    </tr>\n",
       "    <tr>\n",
       "      <th>24</th>\n",
       "      <td>2300만 이상 2400만 미만</td>\n",
       "      <td>0</td>\n",
       "    </tr>\n",
       "    <tr>\n",
       "      <th>15</th>\n",
       "      <td>2400만 이상 2500만 미만</td>\n",
       "      <td>0</td>\n",
       "    </tr>\n",
       "    <tr>\n",
       "      <th>12</th>\n",
       "      <td>2500만 이상 2600만 미만</td>\n",
       "      <td>1</td>\n",
       "    </tr>\n",
       "  </tbody>\n",
       "</table>\n",
       "</div>"
      ],
      "text/plain": [
       "                level  level_counts\n",
       "0       0만 이상 100만 미만           376\n",
       "1     100만 이상 200만 미만            40\n",
       "2     200만 이상 300만 미만            16\n",
       "3     300만 이상 400만 미만            11\n",
       "4     400만 이상 500만 미만             7\n",
       "5     500만 이상 600만 미만             5\n",
       "9     600만 이상 700만 미만             2\n",
       "10    700만 이상 800만 미만             2\n",
       "11    800만 이상 900만 미만             2\n",
       "6    900만 이상 1000만 미만             3\n",
       "16  1000만 이상 1100만 미만             0\n",
       "7   1100만 이상 1200만 미만             3\n",
       "25  1200만 이상 1300만 미만             0\n",
       "8   1300만 이상 1400만 미만             2\n",
       "13  1400만 이상 1500만 미만             1\n",
       "17  1500만 이상 1600만 미만             0\n",
       "14  1600만 이상 1700만 미만             1\n",
       "18  1700만 이상 1800만 미만             0\n",
       "19  1800만 이상 1900만 미만             0\n",
       "20  1900만 이상 2000만 미만             0\n",
       "21  2000만 이상 2100만 미만             0\n",
       "22  2100만 이상 2200만 미만             0\n",
       "23  2200만 이상 2300만 미만             0\n",
       "24  2300만 이상 2400만 미만             0\n",
       "15  2400만 이상 2500만 미만             0\n",
       "12  2500만 이상 2600만 미만             1"
      ]
     },
     "execution_count": 49,
     "metadata": {},
     "output_type": "execute_result"
    }
   ],
   "source": [
    "# 관객 수별 감독 수\n",
    "bins_dir_bfnum = list(range(0, 27000000, 1000000)) # 구간 나누기\n",
    "bins_label = [str(\"%g\" %(x/10000))+\"만 이상 \"+str(\"%g\" %(x/10000+100))+\"만 미만\" for x in bins_dir_bfnum]\n",
    "\n",
    "dir_bfnum[\"level\"] = pd.cut(dir_bfnum[\"box_off_num\"], bins_dir_bfnum, right=False, labels=bins_label[:-1])\n",
    "\n",
    "by_counts_dir_bfnum = pd.DataFrame(dir_bfnum['level'].value_counts()).reset_index()\n",
    "by_counts_dir_bfnum.columns = ['level','level_counts']\n",
    "by_counts_dir_bfnum.sort_values(by=['level'])"
   ]
  },
  {
   "cell_type": "code",
   "execution_count": 50,
   "metadata": {},
   "outputs": [
    {
     "data": {
      "text/plain": [
       "Text(0.5, 1.0, '관객 수별 감독 수')"
      ]
     },
     "execution_count": 50,
     "metadata": {},
     "output_type": "execute_result"
    },
    {
     "data": {
      "image/png": "[encoded data removed]",
      "text/plain": [
       "<Figure size 432x288 with 1 Axes>"
      ]
     },
     "metadata": {
      "needs_background": "light"
     },
     "output_type": "display_data"
    }
   ],
   "source": [
    "# 관객 수별 감독 수 그래프\n",
    "by_counts_dir_bfnum_plot = plt.subplots()\n",
    "by_counts_dir_bfnum_plot = sns.barplot(x='level', y='level_counts', data=by_counts_dir_bfnum)\n",
    "plt.xticks(rotation=90, fontsize=8)\n",
    "plt.yticks(fontsize=10)\n",
    "by_counts_dir_bfnum_plot.set_xlabel('level', fontsize=12)\n",
    "by_counts_dir_bfnum_plot.set_ylabel('counts', fontsize=12)\n",
    "by_counts_dir_bfnum_plot.set_title(\"관객 수별 감독 수\", fontsize=12)"
   ]
  },
  {
   "cell_type": "markdown",
   "metadata": {},
   "source": [
    "* 관객 수가 100만 미만인 감독 수가 가장 많고, 1700만 미만인 범위에 대부분이 분포하고 있다."
   ]
  },
  {
   "cell_type": "markdown",
   "metadata": {},
   "source": [
    "### 7. dir_prev_bfnum\n",
    "#### : 해당 감독이 이 영화를 만들기 전 제작에 참여한 영화에서의 평균 관객 수(단 관객 수가 알려지지 않은 영화 제외)"
   ]
  },
  {
   "cell_type": "code",
   "execution_count": 51,
   "metadata": {
    "scrolled": false
   },
   "outputs": [
    {
     "data": {
      "text/html": [
       "<div>\n",
       "<style scoped>\n",
       "    .dataframe tbody tr th:only-of-type {\n",
       "        vertical-align: middle;\n",
       "    }\n",
       "\n",
       "    .dataframe tbody tr th {\n",
       "        vertical-align: top;\n",
       "    }\n",
       "\n",
       "    .dataframe thead th {\n",
       "        text-align: right;\n",
       "    }\n",
       "</style>\n",
       "<table border=\"1\" class=\"dataframe\">\n",
       "  <thead>\n",
       "    <tr style=\"text-align: right;\">\n",
       "      <th></th>\n",
       "      <th>director</th>\n",
       "      <th>dir_prev_bfnum</th>\n",
       "    </tr>\n",
       "  </thead>\n",
       "  <tbody>\n",
       "    <tr>\n",
       "      <th>0</th>\n",
       "      <td>New Pistol</td>\n",
       "      <td>0.0</td>\n",
       "    </tr>\n",
       "    <tr>\n",
       "      <th>1</th>\n",
       "      <td>강석필</td>\n",
       "      <td>0.0</td>\n",
       "    </tr>\n",
       "    <tr>\n",
       "      <th>2</th>\n",
       "      <td>강성옥</td>\n",
       "      <td>0.0</td>\n",
       "    </tr>\n",
       "    <tr>\n",
       "      <th>3</th>\n",
       "      <td>강우석</td>\n",
       "      <td>844821.0</td>\n",
       "    </tr>\n",
       "    <tr>\n",
       "      <th>4</th>\n",
       "      <td>강의석</td>\n",
       "      <td>0.0</td>\n",
       "    </tr>\n",
       "    <tr>\n",
       "      <th>...</th>\n",
       "      <td>...</td>\n",
       "      <td>...</td>\n",
       "    </tr>\n",
       "    <tr>\n",
       "      <th>467</th>\n",
       "      <td>황석호</td>\n",
       "      <td>0.0</td>\n",
       "    </tr>\n",
       "    <tr>\n",
       "      <th>468</th>\n",
       "      <td>황욱</td>\n",
       "      <td>0.0</td>\n",
       "    </tr>\n",
       "    <tr>\n",
       "      <th>469</th>\n",
       "      <td>황유식</td>\n",
       "      <td>506419.0</td>\n",
       "    </tr>\n",
       "    <tr>\n",
       "      <th>470</th>\n",
       "      <td>황인호</td>\n",
       "      <td>1264761.5</td>\n",
       "    </tr>\n",
       "    <tr>\n",
       "      <th>471</th>\n",
       "      <td>황철민</td>\n",
       "      <td>0.0</td>\n",
       "    </tr>\n",
       "  </tbody>\n",
       "</table>\n",
       "<p>472 rows × 2 columns</p>\n",
       "</div>"
      ],
      "text/plain": [
       "       director  dir_prev_bfnum\n",
       "0    New Pistol             0.0\n",
       "1           강석필             0.0\n",
       "2           강성옥             0.0\n",
       "3           강우석        844821.0\n",
       "4           강의석             0.0\n",
       "..          ...             ...\n",
       "467         황석호             0.0\n",
       "468          황욱             0.0\n",
       "469         황유식        506419.0\n",
       "470         황인호       1264761.5\n",
       "471         황철민             0.0\n",
       "\n",
       "[472 rows x 2 columns]"
      ]
     },
     "execution_count": 51,
     "metadata": {},
     "output_type": "execute_result"
    }
   ],
   "source": [
    "# 감독별 평균 관객 수가 가장 많은 경우를 선택\n",
    "dir_prev_counts_max = movies_train[['director','dir_prev_bfnum']].groupby('director').max().reset_index()\n",
    "dir_prev_counts_max.columns=['director','dir_prev_bfnum']\n",
    "dir_prev_counts_max"
   ]
  },
  {
   "cell_type": "code",
   "execution_count": 52,
   "metadata": {
    "scrolled": true
   },
   "outputs": [
    {
     "data": {
      "text/plain": [
       "17615314.0"
      ]
     },
     "execution_count": 52,
     "metadata": {},
     "output_type": "execute_result"
    }
   ],
   "source": [
    "dir_prev_counts_max['dir_prev_bfnum'].max()"
   ]
  },
  {
   "cell_type": "code",
   "execution_count": 53,
   "metadata": {},
   "outputs": [
    {
     "data": {
      "text/html": [
       "<div>\n",
       "<style scoped>\n",
       "    .dataframe tbody tr th:only-of-type {\n",
       "        vertical-align: middle;\n",
       "    }\n",
       "\n",
       "    .dataframe tbody tr th {\n",
       "        vertical-align: top;\n",
       "    }\n",
       "\n",
       "    .dataframe thead th {\n",
       "        text-align: right;\n",
       "    }\n",
       "</style>\n",
       "<table border=\"1\" class=\"dataframe\">\n",
       "  <thead>\n",
       "    <tr style=\"text-align: right;\">\n",
       "      <th></th>\n",
       "      <th>level</th>\n",
       "      <th>level_counts</th>\n",
       "    </tr>\n",
       "  </thead>\n",
       "  <tbody>\n",
       "    <tr>\n",
       "      <th>0</th>\n",
       "      <td>0만 이상 100만 미만</td>\n",
       "      <td>399</td>\n",
       "    </tr>\n",
       "    <tr>\n",
       "      <th>1</th>\n",
       "      <td>100만 이상 200만 미만</td>\n",
       "      <td>40</td>\n",
       "    </tr>\n",
       "    <tr>\n",
       "      <th>2</th>\n",
       "      <td>200만 이상 300만 미만</td>\n",
       "      <td>15</td>\n",
       "    </tr>\n",
       "    <tr>\n",
       "      <th>3</th>\n",
       "      <td>300만 이상 400만 미만</td>\n",
       "      <td>5</td>\n",
       "    </tr>\n",
       "    <tr>\n",
       "      <th>4</th>\n",
       "      <td>500만 이상 600만 미만</td>\n",
       "      <td>4</td>\n",
       "    </tr>\n",
       "    <tr>\n",
       "      <th>5</th>\n",
       "      <td>400만 이상 500만 미만</td>\n",
       "      <td>3</td>\n",
       "    </tr>\n",
       "    <tr>\n",
       "      <th>6</th>\n",
       "      <td>600만 이상 700만 미만</td>\n",
       "      <td>2</td>\n",
       "    </tr>\n",
       "    <tr>\n",
       "      <th>7</th>\n",
       "      <td>800만 이상 900만 미만</td>\n",
       "      <td>2</td>\n",
       "    </tr>\n",
       "    <tr>\n",
       "      <th>8</th>\n",
       "      <td>700만 이상 800만 미만</td>\n",
       "      <td>1</td>\n",
       "    </tr>\n",
       "    <tr>\n",
       "      <th>9</th>\n",
       "      <td>1700만 이상 1800만 미만</td>\n",
       "      <td>1</td>\n",
       "    </tr>\n",
       "    <tr>\n",
       "      <th>10</th>\n",
       "      <td>900만 이상 1000만 미만</td>\n",
       "      <td>0</td>\n",
       "    </tr>\n",
       "    <tr>\n",
       "      <th>11</th>\n",
       "      <td>1600만 이상 1700만 미만</td>\n",
       "      <td>0</td>\n",
       "    </tr>\n",
       "    <tr>\n",
       "      <th>12</th>\n",
       "      <td>1000만 이상 1100만 미만</td>\n",
       "      <td>0</td>\n",
       "    </tr>\n",
       "    <tr>\n",
       "      <th>13</th>\n",
       "      <td>1100만 이상 1200만 미만</td>\n",
       "      <td>0</td>\n",
       "    </tr>\n",
       "    <tr>\n",
       "      <th>14</th>\n",
       "      <td>1200만 이상 1300만 미만</td>\n",
       "      <td>0</td>\n",
       "    </tr>\n",
       "    <tr>\n",
       "      <th>15</th>\n",
       "      <td>1300만 이상 1400만 미만</td>\n",
       "      <td>0</td>\n",
       "    </tr>\n",
       "    <tr>\n",
       "      <th>16</th>\n",
       "      <td>1400만 이상 1500만 미만</td>\n",
       "      <td>0</td>\n",
       "    </tr>\n",
       "    <tr>\n",
       "      <th>17</th>\n",
       "      <td>1500만 이상 1600만 미만</td>\n",
       "      <td>0</td>\n",
       "    </tr>\n",
       "  </tbody>\n",
       "</table>\n",
       "</div>"
      ],
      "text/plain": [
       "                level  level_counts\n",
       "0       0만 이상 100만 미만           399\n",
       "1     100만 이상 200만 미만            40\n",
       "2     200만 이상 300만 미만            15\n",
       "3     300만 이상 400만 미만             5\n",
       "4     500만 이상 600만 미만             4\n",
       "5     400만 이상 500만 미만             3\n",
       "6     600만 이상 700만 미만             2\n",
       "7     800만 이상 900만 미만             2\n",
       "8     700만 이상 800만 미만             1\n",
       "9   1700만 이상 1800만 미만             1\n",
       "10   900만 이상 1000만 미만             0\n",
       "11  1600만 이상 1700만 미만             0\n",
       "12  1000만 이상 1100만 미만             0\n",
       "13  1100만 이상 1200만 미만             0\n",
       "14  1200만 이상 1300만 미만             0\n",
       "15  1300만 이상 1400만 미만             0\n",
       "16  1400만 이상 1500만 미만             0\n",
       "17  1500만 이상 1600만 미만             0"
      ]
     },
     "execution_count": 53,
     "metadata": {},
     "output_type": "execute_result"
    }
   ],
   "source": [
    "# 평균 관객 수(최대값)별 감독 수 \n",
    "bins_prev_bfnum_avg = list(range(0, 19000000, 1000000)) # 구간 나누기\n",
    "bins_label = [str(\"%g\" %(x/10000))+\"만 이상 \"+str(\"%g\" %(x/10000+100))+\"만 미만\" for x in bins_prev_bfnum_avg]\n",
    "\n",
    "dir_prev_counts_max[\"level\"] = pd.cut(dir_prev_counts_max[\"dir_prev_bfnum\"], bins_prev_bfnum_avg, right=False, labels=bins_label[:-1])\n",
    "\n",
    "by_counts_bfnum = pd.DataFrame(dir_prev_counts_max['level'].value_counts()).reset_index()\n",
    "by_counts_bfnum.columns = ['level','level_counts']\n",
    "by_counts_bfnum"
   ]
  },
  {
   "cell_type": "code",
   "execution_count": 54,
   "metadata": {},
   "outputs": [
    {
     "data": {
      "text/plain": [
       "Text(0.5, 1.0, '평균 관객 수(최댓값)별 감독 수')"
      ]
     },
     "execution_count": 54,
     "metadata": {},
     "output_type": "execute_result"
    },
    {
     "data": {
      "image/png": "[encoded data removed]",
      "text/plain": [
       "<Figure size 432x288 with 1 Axes>"
      ]
     },
     "metadata": {
      "needs_background": "light"
     },
     "output_type": "display_data"
    }
   ],
   "source": [
    "# 평균 관객 수(최댓값)별 감독 수 그래프\n",
    "by_counts_bfnum_plot = plt.subplots()\n",
    "by_counts_bfnum_plot = sns.barplot(x='level', y='level_counts', data=by_counts_bfnum)\n",
    "plt.xticks(rotation=90, fontsize=8)\n",
    "by_counts_bfnum_plot.set_xlabel('level', fontsize=12)\n",
    "by_counts_bfnum_plot.set_ylabel('level_counts', fontsize=12)\n",
    "by_counts_bfnum_plot.set_title(\"평균 관객 수(최댓값)별 감독 수\", fontsize=12)"
   ]
  },
  {
   "cell_type": "code",
   "execution_count": 55,
   "metadata": {},
   "outputs": [
    {
     "data": {
      "text/html": [
       "<div>\n",
       "<style scoped>\n",
       "    .dataframe tbody tr th:only-of-type {\n",
       "        vertical-align: middle;\n",
       "    }\n",
       "\n",
       "    .dataframe tbody tr th {\n",
       "        vertical-align: top;\n",
       "    }\n",
       "\n",
       "    .dataframe thead th {\n",
       "        text-align: right;\n",
       "    }\n",
       "</style>\n",
       "<table border=\"1\" class=\"dataframe\">\n",
       "  <thead>\n",
       "    <tr style=\"text-align: right;\">\n",
       "      <th></th>\n",
       "      <th>level</th>\n",
       "      <th>level_counts</th>\n",
       "    </tr>\n",
       "  </thead>\n",
       "  <tbody>\n",
       "    <tr>\n",
       "      <th>0</th>\n",
       "      <td>0이상 100미만</td>\n",
       "      <td>258</td>\n",
       "    </tr>\n",
       "    <tr>\n",
       "      <th>7</th>\n",
       "      <td>100이상 200미만</td>\n",
       "      <td>2</td>\n",
       "    </tr>\n",
       "    <tr>\n",
       "      <th>6</th>\n",
       "      <td>200이상 300미만</td>\n",
       "      <td>2</td>\n",
       "    </tr>\n",
       "    <tr>\n",
       "      <th>2</th>\n",
       "      <td>300이상 400미만</td>\n",
       "      <td>4</td>\n",
       "    </tr>\n",
       "    <tr>\n",
       "      <th>5</th>\n",
       "      <td>400이상 500미만</td>\n",
       "      <td>2</td>\n",
       "    </tr>\n",
       "    <tr>\n",
       "      <th>8</th>\n",
       "      <td>500이상 600미만</td>\n",
       "      <td>1</td>\n",
       "    </tr>\n",
       "    <tr>\n",
       "      <th>9</th>\n",
       "      <td>600이상 700미만</td>\n",
       "      <td>0</td>\n",
       "    </tr>\n",
       "    <tr>\n",
       "      <th>3</th>\n",
       "      <td>700이상 800미만</td>\n",
       "      <td>3</td>\n",
       "    </tr>\n",
       "    <tr>\n",
       "      <th>1</th>\n",
       "      <td>800이상 900미만</td>\n",
       "      <td>4</td>\n",
       "    </tr>\n",
       "    <tr>\n",
       "      <th>4</th>\n",
       "      <td>900이상 1000미만</td>\n",
       "      <td>2</td>\n",
       "    </tr>\n",
       "  </tbody>\n",
       "</table>\n",
       "</div>"
      ],
      "text/plain": [
       "          level  level_counts\n",
       "0     0이상 100미만           258\n",
       "7   100이상 200미만             2\n",
       "6   200이상 300미만             2\n",
       "2   300이상 400미만             4\n",
       "5   400이상 500미만             2\n",
       "8   500이상 600미만             1\n",
       "9   600이상 700미만             0\n",
       "3   700이상 800미만             3\n",
       "1   800이상 900미만             4\n",
       "4  900이상 1000미만             2"
      ]
     },
     "execution_count": 55,
     "metadata": {},
     "output_type": "execute_result"
    }
   ],
   "source": [
    "# 1천 미만인 경우\n",
    "bins_prev_bfnum_avg_2 = list(range(0, 1100, 100)) # 구간 나누기\n",
    "bins_label_2 = [str(x)+\"이상 \"+str(x+100)+\"미만\" for x in bins_prev_bfnum_avg_2]\n",
    "\n",
    "dir_prev_counts_max[\"level\"] = pd.cut(dir_prev_counts_max[\"dir_prev_bfnum\"], bins_prev_bfnum_avg_2, right=False, labels=bins_label_2[:-1])\n",
    "\n",
    "by_counts_bfnum_below = pd.DataFrame(dir_prev_counts_max['level'].value_counts()).reset_index()\n",
    "by_counts_bfnum_below.columns = ['level','level_counts']\n",
    "by_counts_bfnum_below.sort_values(by=['level'])"
   ]
  },
  {
   "cell_type": "code",
   "execution_count": 56,
   "metadata": {},
   "outputs": [
    {
     "data": {
      "text/plain": [
       "director          250\n",
       "dir_prev_bfnum    250\n",
       "level             250\n",
       "dtype: int64"
      ]
     },
     "execution_count": 56,
     "metadata": {},
     "output_type": "execute_result"
    }
   ],
   "source": [
    "dir_prev_counts_max[(dir_prev_counts_max['dir_prev_bfnum'] == 0)].count() # dir_prev_bfnum 이 0인 경우가 250건"
   ]
  },
  {
   "cell_type": "code",
   "execution_count": 57,
   "metadata": {
    "scrolled": true
   },
   "outputs": [
    {
     "data": {
      "text/html": [
       "<div>\n",
       "<style scoped>\n",
       "    .dataframe tbody tr th:only-of-type {\n",
       "        vertical-align: middle;\n",
       "    }\n",
       "\n",
       "    .dataframe tbody tr th {\n",
       "        vertical-align: top;\n",
       "    }\n",
       "\n",
       "    .dataframe thead th {\n",
       "        text-align: right;\n",
       "    }\n",
       "</style>\n",
       "<table border=\"1\" class=\"dataframe\">\n",
       "  <thead>\n",
       "    <tr style=\"text-align: right;\">\n",
       "      <th></th>\n",
       "      <th>director</th>\n",
       "      <th>dir_prev_bfnum</th>\n",
       "      <th>level</th>\n",
       "    </tr>\n",
       "  </thead>\n",
       "  <tbody>\n",
       "    <tr>\n",
       "      <th>10</th>\n",
       "      <td>고구마</td>\n",
       "      <td>17615314.0</td>\n",
       "      <td>NaN</td>\n",
       "    </tr>\n",
       "  </tbody>\n",
       "</table>\n",
       "</div>"
      ],
      "text/plain": [
       "   director  dir_prev_bfnum level\n",
       "10      고구마      17615314.0   NaN"
      ]
     },
     "execution_count": 57,
     "metadata": {},
     "output_type": "execute_result"
    }
   ],
   "source": [
    "# 극단값\n",
    "dir_prev_counts_max[(dir_prev_counts_max['dir_prev_bfnum'] > 17000000)]"
   ]
  },
  {
   "cell_type": "markdown",
   "metadata": {},
   "source": [
    "* 해당 감독이 처음 제작에 참여한 영화이거나 관객수가 알려지지 않은 경우가 대부분이다. "
   ]
  },
  {
   "cell_type": "code",
   "execution_count": 58,
   "metadata": {},
   "outputs": [
    {
     "data": {
      "text/plain": [
       "Text(0.5, 1.0, 'dir_prev_bfnum와 관객 수의 관계')"
      ]
     },
     "execution_count": 58,
     "metadata": {},
     "output_type": "execute_result"
    },
    {
     "data": {
      "image/png": "[encoded data removed]",
      "text/plain": [
       "<Figure size 432x288 with 1 Axes>"
      ]
     },
     "metadata": {
      "needs_background": "light"
     },
     "output_type": "display_data"
    }
   ],
   "source": [
    "# dir_prev_bfnum와 관객 수의 관계 그래프\n",
    "bfnum_scatter = plt.figure()\n",
    "dir_prev_bfnum_plot = bfnum_scatter.add_subplot(1,1,1)\n",
    "dir_prev_bfnum_plot.scatter(movies_train['dir_prev_bfnum'],movies_train['box_off_num'])\n",
    "dir_prev_bfnum_plot.set_xlabel('dir_prev_bfnum', fontsize=12)\n",
    "dir_prev_bfnum_plot.set_ylabel('box_off_num', fontsize=12)\n",
    "dir_prev_bfnum_plot.set_title(\"dir_prev_bfnum와 관객 수의 관계\", fontsize=12)"
   ]
  },
  {
   "cell_type": "markdown",
   "metadata": {},
   "source": [
    "* dir_prev_bfnum과 관객 수 간 상관관계가 없다."
   ]
  },
  {
   "cell_type": "markdown",
   "metadata": {},
   "source": [
    "### 8. dir_prev_num\n",
    "#### : 해당 감독이 이 영화를 만들기 전 제작에 참여한 영화의 개수(단 관객수가 알려지지 않은 영화 제외)"
   ]
  },
  {
   "cell_type": "code",
   "execution_count": 59,
   "metadata": {},
   "outputs": [
    {
     "data": {
      "text/html": [
       "<div>\n",
       "<style scoped>\n",
       "    .dataframe tbody tr th:only-of-type {\n",
       "        vertical-align: middle;\n",
       "    }\n",
       "\n",
       "    .dataframe tbody tr th {\n",
       "        vertical-align: top;\n",
       "    }\n",
       "\n",
       "    .dataframe thead th {\n",
       "        text-align: right;\n",
       "    }\n",
       "</style>\n",
       "<table border=\"1\" class=\"dataframe\">\n",
       "  <thead>\n",
       "    <tr style=\"text-align: right;\">\n",
       "      <th></th>\n",
       "      <th>director</th>\n",
       "      <th>dir_prev_num</th>\n",
       "    </tr>\n",
       "  </thead>\n",
       "  <tbody>\n",
       "    <tr>\n",
       "      <th>324</th>\n",
       "      <td>이해영</td>\n",
       "      <td>5</td>\n",
       "    </tr>\n",
       "    <tr>\n",
       "      <th>118</th>\n",
       "      <td>김휘</td>\n",
       "      <td>5</td>\n",
       "    </tr>\n",
       "    <tr>\n",
       "      <th>98</th>\n",
       "      <td>김진영</td>\n",
       "      <td>5</td>\n",
       "    </tr>\n",
       "    <tr>\n",
       "      <th>325</th>\n",
       "      <td>이해준</td>\n",
       "      <td>5</td>\n",
       "    </tr>\n",
       "    <tr>\n",
       "      <th>192</th>\n",
       "      <td>백승창</td>\n",
       "      <td>4</td>\n",
       "    </tr>\n",
       "    <tr>\n",
       "      <th>...</th>\n",
       "      <td>...</td>\n",
       "      <td>...</td>\n",
       "    </tr>\n",
       "    <tr>\n",
       "      <th>193</th>\n",
       "      <td>백승화</td>\n",
       "      <td>0</td>\n",
       "    </tr>\n",
       "    <tr>\n",
       "      <th>190</th>\n",
       "      <td>백승기</td>\n",
       "      <td>0</td>\n",
       "    </tr>\n",
       "    <tr>\n",
       "      <th>189</th>\n",
       "      <td>백동훈</td>\n",
       "      <td>0</td>\n",
       "    </tr>\n",
       "    <tr>\n",
       "      <th>187</th>\n",
       "      <td>배창호</td>\n",
       "      <td>0</td>\n",
       "    </tr>\n",
       "    <tr>\n",
       "      <th>471</th>\n",
       "      <td>황철민</td>\n",
       "      <td>0</td>\n",
       "    </tr>\n",
       "  </tbody>\n",
       "</table>\n",
       "<p>472 rows × 2 columns</p>\n",
       "</div>"
      ],
      "text/plain": [
       "    director  dir_prev_num\n",
       "324      이해영             5\n",
       "118       김휘             5\n",
       "98       김진영             5\n",
       "325      이해준             5\n",
       "192      백승창             4\n",
       "..       ...           ...\n",
       "193      백승화             0\n",
       "190      백승기             0\n",
       "189      백동훈             0\n",
       "187      배창호             0\n",
       "471      황철민             0\n",
       "\n",
       "[472 rows x 2 columns]"
      ]
     },
     "execution_count": 59,
     "metadata": {},
     "output_type": "execute_result"
    }
   ],
   "source": [
    "# 감독별 제작에 참여한 영화의 개수가 가장 많은 경우를 선택\n",
    "dir_prev_num_max = movies_train[['director','dir_prev_num']].groupby('director').max().reset_index()\n",
    "dir_prev_num_max.columns=['director','dir_prev_num']\n",
    "dir_prev_num_max.sort_values(by=['dir_prev_num'],ascending=False)"
   ]
  },
  {
   "cell_type": "code",
   "execution_count": 60,
   "metadata": {},
   "outputs": [
    {
     "data": {
      "text/html": [
       "<div>\n",
       "<style scoped>\n",
       "    .dataframe tbody tr th:only-of-type {\n",
       "        vertical-align: middle;\n",
       "    }\n",
       "\n",
       "    .dataframe tbody tr th {\n",
       "        vertical-align: top;\n",
       "    }\n",
       "\n",
       "    .dataframe thead th {\n",
       "        text-align: right;\n",
       "    }\n",
       "</style>\n",
       "<table border=\"1\" class=\"dataframe\">\n",
       "  <thead>\n",
       "    <tr style=\"text-align: right;\">\n",
       "      <th></th>\n",
       "      <th>num_prev_movies</th>\n",
       "      <th>dir_counts</th>\n",
       "    </tr>\n",
       "  </thead>\n",
       "  <tbody>\n",
       "    <tr>\n",
       "      <th>0</th>\n",
       "      <td>0</td>\n",
       "      <td>250</td>\n",
       "    </tr>\n",
       "    <tr>\n",
       "      <th>1</th>\n",
       "      <td>1</td>\n",
       "      <td>95</td>\n",
       "    </tr>\n",
       "    <tr>\n",
       "      <th>2</th>\n",
       "      <td>2</td>\n",
       "      <td>68</td>\n",
       "    </tr>\n",
       "    <tr>\n",
       "      <th>3</th>\n",
       "      <td>3</td>\n",
       "      <td>36</td>\n",
       "    </tr>\n",
       "    <tr>\n",
       "      <th>4</th>\n",
       "      <td>4</td>\n",
       "      <td>19</td>\n",
       "    </tr>\n",
       "    <tr>\n",
       "      <th>5</th>\n",
       "      <td>5</td>\n",
       "      <td>4</td>\n",
       "    </tr>\n",
       "  </tbody>\n",
       "</table>\n",
       "</div>"
      ],
      "text/plain": [
       "   num_prev_movies  dir_counts\n",
       "0                0         250\n",
       "1                1          95\n",
       "2                2          68\n",
       "3                3          36\n",
       "4                4          19\n",
       "5                5           4"
      ]
     },
     "execution_count": 60,
     "metadata": {},
     "output_type": "execute_result"
    }
   ],
   "source": [
    "# 제작에 참여한 영화 개수(최댓값)별 감독 수 \n",
    "dir_prev_num_avg = pd.DataFrame(dir_prev_num_max['dir_prev_num'].value_counts()).reset_index()\n",
    "dir_prev_num_avg.columns = ['num_prev_movies','dir_counts']\n",
    "dir_prev_num_avg"
   ]
  },
  {
   "cell_type": "code",
   "execution_count": 61,
   "metadata": {
    "scrolled": false
   },
   "outputs": [
    {
     "data": {
      "text/plain": [
       "Text(0.5, 1.0, '제작에 참여한 영화 개수(최댓값)별 감독 수')"
      ]
     },
     "execution_count": 61,
     "metadata": {},
     "output_type": "execute_result"
    },
    {
     "data": {
      "image/png": "[encoded data removed]",
      "text/plain": [
       "<Figure size 432x288 with 1 Axes>"
      ]
     },
     "metadata": {
      "needs_background": "light"
     },
     "output_type": "display_data"
    }
   ],
   "source": [
    "# 제작에 참여한 영화 개수(최댓값)별 감독 수 그래프\n",
    "dir_prev_num_avg_plot = plt.subplots()\n",
    "dir_prev_num_avg_plot = sns.barplot(x='num_prev_movies', y='dir_counts', data=dir_prev_num_avg)\n",
    "plt.xticks(fontsize=10)\n",
    "dir_prev_num_avg_plot.set_xlabel('num_prev_movies', fontsize=12)\n",
    "dir_prev_num_avg_plot.set_ylabel('dir_counts', fontsize=12)\n",
    "dir_prev_num_avg_plot.set_title(\"제작에 참여한 영화 개수(최댓값)별 감독 수\", fontsize=12)"
   ]
  },
  {
   "cell_type": "markdown",
   "metadata": {},
   "source": [
    "* 해당 감독이 처음 제작에 참여한 영화이거나 관객 수가 알려지지 않은 경우가 대부분이다."
   ]
  },
  {
   "cell_type": "code",
   "execution_count": 62,
   "metadata": {},
   "outputs": [
    {
     "data": {
      "text/plain": [
       "Text(0.5, 1.0, 'dir_prev_num와 관객 수의 관계')"
      ]
     },
     "execution_count": 62,
     "metadata": {},
     "output_type": "execute_result"
    },
    {
     "data": {
      "image/png": "[encoded data removed]",
      "text/plain": [
       "<Figure size 432x288 with 1 Axes>"
      ]
     },
     "metadata": {
      "needs_background": "light"
     },
     "output_type": "display_data"
    }
   ],
   "source": [
    "# dir_prev_num와 관객 수의 관계 그래프\n",
    "dir_prev_dfnum_plot = plt.subplots()\n",
    "dir_prev_dfnum_plot = sns.barplot(x='dir_prev_num', y='box_off_num', data=movies_train)\n",
    "dir_prev_dfnum_plot.set_xlabel('dir_prev_num', fontsize=12)\n",
    "dir_prev_dfnum_plot.set_ylabel('box_off_num', fontsize=12)\n",
    "dir_prev_dfnum_plot.set_title(\"dir_prev_num와 관객 수의 관계\", fontsize=12)"
   ]
  },
  {
   "cell_type": "code",
   "execution_count": 63,
   "metadata": {
    "scrolled": false
   },
   "outputs": [
    {
     "data": {
      "text/plain": [
       "Text(0.5, 1.0, 'dir_prev_num와 관객 수의 관계')"
      ]
     },
     "execution_count": 63,
     "metadata": {},
     "output_type": "execute_result"
    },
    {
     "data": {
      "image/png": "[encoded data removed]",
      "text/plain": [
       "<Figure size 432x288 with 1 Axes>"
      ]
     },
     "metadata": {
      "needs_background": "light"
     },
     "output_type": "display_data"
    }
   ],
   "source": [
    "dir_prev_dfnum_plot_2 = plt.subplots()\n",
    "dir_prev_dfnum_plot_2 = sns.boxplot(x='dir_prev_num', y='box_off_num', data=movies_train)\n",
    "dir_prev_dfnum_plot_2.set_xlabel('dir_prev_num', fontsize=12)\n",
    "dir_prev_dfnum_plot_2.set_ylabel('box_off_num', fontsize=12)\n",
    "dir_prev_dfnum_plot_2.set_title(\"dir_prev_num와 관객 수의 관계\", fontsize=12)"
   ]
  },
  {
   "cell_type": "markdown",
   "metadata": {},
   "source": [
    "* dir_prev_num이 5인 경우를 제외하고는 dir_prev_num이 많을수록 관객 수의 중간값이 높다."
   ]
  },
  {
   "cell_type": "markdown",
   "metadata": {},
   "source": [
    "### 9. num_staff : 스태프 수"
   ]
  },
  {
   "cell_type": "code",
   "execution_count": 64,
   "metadata": {},
   "outputs": [
    {
     "data": {
      "text/html": [
       "<div>\n",
       "<style scoped>\n",
       "    .dataframe tbody tr th:only-of-type {\n",
       "        vertical-align: middle;\n",
       "    }\n",
       "\n",
       "    .dataframe tbody tr th {\n",
       "        vertical-align: top;\n",
       "    }\n",
       "\n",
       "    .dataframe thead th {\n",
       "        text-align: right;\n",
       "    }\n",
       "</style>\n",
       "<table border=\"1\" class=\"dataframe\">\n",
       "  <thead>\n",
       "    <tr style=\"text-align: right;\">\n",
       "      <th></th>\n",
       "      <th>num_staff</th>\n",
       "      <th>counts</th>\n",
       "    </tr>\n",
       "  </thead>\n",
       "  <tbody>\n",
       "    <tr>\n",
       "      <th>0</th>\n",
       "      <td>0</td>\n",
       "      <td>32</td>\n",
       "    </tr>\n",
       "    <tr>\n",
       "      <th>1</th>\n",
       "      <td>1</td>\n",
       "      <td>15</td>\n",
       "    </tr>\n",
       "    <tr>\n",
       "      <th>2</th>\n",
       "      <td>2</td>\n",
       "      <td>15</td>\n",
       "    </tr>\n",
       "    <tr>\n",
       "      <th>3</th>\n",
       "      <td>3</td>\n",
       "      <td>12</td>\n",
       "    </tr>\n",
       "    <tr>\n",
       "      <th>9</th>\n",
       "      <td>4</td>\n",
       "      <td>7</td>\n",
       "    </tr>\n",
       "    <tr>\n",
       "      <th>...</th>\n",
       "      <td>...</td>\n",
       "      <td>...</td>\n",
       "    </tr>\n",
       "    <tr>\n",
       "      <th>206</th>\n",
       "      <td>683</td>\n",
       "      <td>1</td>\n",
       "    </tr>\n",
       "    <tr>\n",
       "      <th>205</th>\n",
       "      <td>687</td>\n",
       "      <td>1</td>\n",
       "    </tr>\n",
       "    <tr>\n",
       "      <th>204</th>\n",
       "      <td>719</td>\n",
       "      <td>1</td>\n",
       "    </tr>\n",
       "    <tr>\n",
       "      <th>248</th>\n",
       "      <td>868</td>\n",
       "      <td>1</td>\n",
       "    </tr>\n",
       "    <tr>\n",
       "      <th>169</th>\n",
       "      <td>869</td>\n",
       "      <td>1</td>\n",
       "    </tr>\n",
       "  </tbody>\n",
       "</table>\n",
       "<p>296 rows × 2 columns</p>\n",
       "</div>"
      ],
      "text/plain": [
       "     num_staff  counts\n",
       "0            0      32\n",
       "1            1      15\n",
       "2            2      15\n",
       "3            3      12\n",
       "9            4       7\n",
       "..         ...     ...\n",
       "206        683       1\n",
       "205        687       1\n",
       "204        719       1\n",
       "248        868       1\n",
       "169        869       1\n",
       "\n",
       "[296 rows x 2 columns]"
      ]
     },
     "execution_count": 64,
     "metadata": {},
     "output_type": "execute_result"
    }
   ],
   "source": [
    "# 스태프 수별 영화 수\n",
    "staff_counts=pd.DataFrame(movies_train['num_staff'].value_counts()).reset_index()\n",
    "staff_counts.columns=['num_staff','counts']\n",
    "staff_counts=staff_counts.sort_values(by=\"num_staff\", ascending=True)\n",
    "staff_counts"
   ]
  },
  {
   "cell_type": "code",
   "execution_count": 65,
   "metadata": {},
   "outputs": [
    {
     "data": {
      "text/plain": [
       "Text(0.5, 1.0, '스태프 수별 영화 수')"
      ]
     },
     "execution_count": 65,
     "metadata": {},
     "output_type": "execute_result"
    },
    {
     "data": {
      "image/png": "[encoded data removed]",
      "text/plain": [
       "<Figure size 432x288 with 1 Axes>"
      ]
     },
     "metadata": {
      "needs_background": "light"
     },
     "output_type": "display_data"
    }
   ],
   "source": [
    "# 스태프 수별 영화 수 그래프\n",
    "bar_staff_counts=plt.subplots()\n",
    "plt.xticks(rotation = 50, fontsize=3)\n",
    "bar_staff_counts=sns.barplot(x='num_staff',y='counts',data=staff_counts)\n",
    "bar_staff_counts.set_title(\"스태프 수별 영화 수\", fontsize=12)"
   ]
  },
  {
   "cell_type": "code",
   "execution_count": 66,
   "metadata": {},
   "outputs": [],
   "source": [
    "# 스태프 수 범주화해서 다시 확인\n",
    "bins2 = list(range(0, 870, 30)) # 구간 나누기\n",
    "bins2_label = [str(x)+\"이상 \"+str(x+30)+\"미만\" for x in bins2]\n",
    "movies_train[\"level2\"] = pd.cut(movies_train[\"num_staff\"], bins2, right=False, labels=bins2_label[:-1])"
   ]
  },
  {
   "cell_type": "code",
   "execution_count": 67,
   "metadata": {},
   "outputs": [
    {
     "data": {
      "text/html": [
       "<div>\n",
       "<style scoped>\n",
       "    .dataframe tbody tr th:only-of-type {\n",
       "        vertical-align: middle;\n",
       "    }\n",
       "\n",
       "    .dataframe tbody tr th {\n",
       "        vertical-align: top;\n",
       "    }\n",
       "\n",
       "    .dataframe thead th {\n",
       "        text-align: right;\n",
       "    }\n",
       "</style>\n",
       "<table border=\"1\" class=\"dataframe\">\n",
       "  <thead>\n",
       "    <tr style=\"text-align: right;\">\n",
       "      <th></th>\n",
       "      <th>level2</th>\n",
       "      <th>counts</th>\n",
       "    </tr>\n",
       "  </thead>\n",
       "  <tbody>\n",
       "    <tr>\n",
       "      <th>0</th>\n",
       "      <td>0이상 30미만</td>\n",
       "      <td>199</td>\n",
       "    </tr>\n",
       "    <tr>\n",
       "      <th>1</th>\n",
       "      <td>30이상 60미만</td>\n",
       "      <td>66</td>\n",
       "    </tr>\n",
       "    <tr>\n",
       "      <th>2</th>\n",
       "      <td>90이상 120미만</td>\n",
       "      <td>43</td>\n",
       "    </tr>\n",
       "    <tr>\n",
       "      <th>3</th>\n",
       "      <td>60이상 90미만</td>\n",
       "      <td>41</td>\n",
       "    </tr>\n",
       "    <tr>\n",
       "      <th>4</th>\n",
       "      <td>120이상 150미만</td>\n",
       "      <td>28</td>\n",
       "    </tr>\n",
       "    <tr>\n",
       "      <th>5</th>\n",
       "      <td>240이상 270미만</td>\n",
       "      <td>24</td>\n",
       "    </tr>\n",
       "    <tr>\n",
       "      <th>6</th>\n",
       "      <td>330이상 360미만</td>\n",
       "      <td>24</td>\n",
       "    </tr>\n",
       "    <tr>\n",
       "      <th>7</th>\n",
       "      <td>270이상 300미만</td>\n",
       "      <td>23</td>\n",
       "    </tr>\n",
       "    <tr>\n",
       "      <th>8</th>\n",
       "      <td>300이상 330미만</td>\n",
       "      <td>23</td>\n",
       "    </tr>\n",
       "    <tr>\n",
       "      <th>9</th>\n",
       "      <td>180이상 210미만</td>\n",
       "      <td>20</td>\n",
       "    </tr>\n",
       "    <tr>\n",
       "      <th>10</th>\n",
       "      <td>360이상 390미만</td>\n",
       "      <td>18</td>\n",
       "    </tr>\n",
       "    <tr>\n",
       "      <th>11</th>\n",
       "      <td>150이상 180미만</td>\n",
       "      <td>18</td>\n",
       "    </tr>\n",
       "    <tr>\n",
       "      <th>12</th>\n",
       "      <td>210이상 240미만</td>\n",
       "      <td>13</td>\n",
       "    </tr>\n",
       "    <tr>\n",
       "      <th>13</th>\n",
       "      <td>420이상 450미만</td>\n",
       "      <td>13</td>\n",
       "    </tr>\n",
       "    <tr>\n",
       "      <th>14</th>\n",
       "      <td>390이상 420미만</td>\n",
       "      <td>11</td>\n",
       "    </tr>\n",
       "    <tr>\n",
       "      <th>15</th>\n",
       "      <td>450이상 480미만</td>\n",
       "      <td>9</td>\n",
       "    </tr>\n",
       "    <tr>\n",
       "      <th>16</th>\n",
       "      <td>480이상 510미만</td>\n",
       "      <td>6</td>\n",
       "    </tr>\n",
       "    <tr>\n",
       "      <th>17</th>\n",
       "      <td>570이상 600미만</td>\n",
       "      <td>5</td>\n",
       "    </tr>\n",
       "    <tr>\n",
       "      <th>18</th>\n",
       "      <td>510이상 540미만</td>\n",
       "      <td>3</td>\n",
       "    </tr>\n",
       "    <tr>\n",
       "      <th>19</th>\n",
       "      <td>540이상 570미만</td>\n",
       "      <td>3</td>\n",
       "    </tr>\n",
       "    <tr>\n",
       "      <th>20</th>\n",
       "      <td>600이상 630미만</td>\n",
       "      <td>3</td>\n",
       "    </tr>\n",
       "    <tr>\n",
       "      <th>21</th>\n",
       "      <td>630이상 660미만</td>\n",
       "      <td>2</td>\n",
       "    </tr>\n",
       "    <tr>\n",
       "      <th>22</th>\n",
       "      <td>660이상 690미만</td>\n",
       "      <td>2</td>\n",
       "    </tr>\n",
       "    <tr>\n",
       "      <th>23</th>\n",
       "      <td>690이상 720미만</td>\n",
       "      <td>1</td>\n",
       "    </tr>\n",
       "    <tr>\n",
       "      <th>24</th>\n",
       "      <td>780이상 810미만</td>\n",
       "      <td>0</td>\n",
       "    </tr>\n",
       "    <tr>\n",
       "      <th>25</th>\n",
       "      <td>720이상 750미만</td>\n",
       "      <td>0</td>\n",
       "    </tr>\n",
       "    <tr>\n",
       "      <th>26</th>\n",
       "      <td>750이상 780미만</td>\n",
       "      <td>0</td>\n",
       "    </tr>\n",
       "    <tr>\n",
       "      <th>27</th>\n",
       "      <td>810이상 840미만</td>\n",
       "      <td>0</td>\n",
       "    </tr>\n",
       "  </tbody>\n",
       "</table>\n",
       "</div>"
      ],
      "text/plain": [
       "         level2  counts\n",
       "0      0이상 30미만     199\n",
       "1     30이상 60미만      66\n",
       "2    90이상 120미만      43\n",
       "3     60이상 90미만      41\n",
       "4   120이상 150미만      28\n",
       "5   240이상 270미만      24\n",
       "6   330이상 360미만      24\n",
       "7   270이상 300미만      23\n",
       "8   300이상 330미만      23\n",
       "9   180이상 210미만      20\n",
       "10  360이상 390미만      18\n",
       "11  150이상 180미만      18\n",
       "12  210이상 240미만      13\n",
       "13  420이상 450미만      13\n",
       "14  390이상 420미만      11\n",
       "15  450이상 480미만       9\n",
       "16  480이상 510미만       6\n",
       "17  570이상 600미만       5\n",
       "18  510이상 540미만       3\n",
       "19  540이상 570미만       3\n",
       "20  600이상 630미만       3\n",
       "21  630이상 660미만       2\n",
       "22  660이상 690미만       2\n",
       "23  690이상 720미만       1\n",
       "24  780이상 810미만       0\n",
       "25  720이상 750미만       0\n",
       "26  750이상 780미만       0\n",
       "27  810이상 840미만       0"
      ]
     },
     "execution_count": 67,
     "metadata": {},
     "output_type": "execute_result"
    }
   ],
   "source": [
    "# 스태프 수 구간별 영화 수 데이터프레임 만들기\n",
    "staff_movie_counts=movies_train['level2'].value_counts()\n",
    "staff_movie_counts=pd.DataFrame(movies_train['level2'].value_counts()).reset_index()\n",
    "staff_movie_counts.columns=['level2','counts']\n",
    "staff_movie_counts"
   ]
  },
  {
   "cell_type": "code",
   "execution_count": 68,
   "metadata": {
    "scrolled": false
   },
   "outputs": [
    {
     "data": {
      "text/plain": [
       "Text(0.5, 1.0, '스태프 수 구간별 영화 수')"
      ]
     },
     "execution_count": 68,
     "metadata": {},
     "output_type": "execute_result"
    },
    {
     "data": {
      "image/png": "[encoded data removed]",
      "text/plain": [
       "<Figure size 432x288 with 1 Axes>"
      ]
     },
     "metadata": {
      "needs_background": "light"
     },
     "output_type": "display_data"
    }
   ],
   "source": [
    "# 스태프 수 구간별 영화 수 그래프\n",
    "bar_staff_movie_counts=plt.subplots()\n",
    "plt.xticks(rotation = 50, fontsize=7)\n",
    "bar_staff_movie_counts=sns.barplot(x='level2',y='counts',data=staff_movie_counts)\n",
    "bar_staff_movie_counts.set_xlabel('level2', fontsize=12)\n",
    "bar_staff_movie_counts.set_ylabel('counts', fontsize=12)\n",
    "bar_staff_movie_counts.set_title(\"스태프 수 구간별 영화 수\", fontsize=12)"
   ]
  },
  {
   "cell_type": "markdown",
   "metadata": {},
   "source": [
    "* 전체 600개의 영화 중 약 200개가 30명 이하의 스태프를 동원했다. 스태프 수가 약 400명 이상인 경우는 거의 드물다."
   ]
  },
  {
   "cell_type": "code",
   "execution_count": 69,
   "metadata": {},
   "outputs": [
    {
     "data": {
      "text/html": [
       "<div>\n",
       "<style scoped>\n",
       "    .dataframe tbody tr th:only-of-type {\n",
       "        vertical-align: middle;\n",
       "    }\n",
       "\n",
       "    .dataframe tbody tr th {\n",
       "        vertical-align: top;\n",
       "    }\n",
       "\n",
       "    .dataframe thead th {\n",
       "        text-align: right;\n",
       "    }\n",
       "</style>\n",
       "<table border=\"1\" class=\"dataframe\">\n",
       "  <thead>\n",
       "    <tr style=\"text-align: right;\">\n",
       "      <th></th>\n",
       "      <th>num_staff</th>\n",
       "      <th>box_off_num</th>\n",
       "    </tr>\n",
       "  </thead>\n",
       "  <tbody>\n",
       "    <tr>\n",
       "      <th>num_staff</th>\n",
       "      <td>1.0</td>\n",
       "      <td>0.5</td>\n",
       "    </tr>\n",
       "    <tr>\n",
       "      <th>box_off_num</th>\n",
       "      <td>0.5</td>\n",
       "      <td>1.0</td>\n",
       "    </tr>\n",
       "  </tbody>\n",
       "</table>\n",
       "</div>"
      ],
      "text/plain": [
       "             num_staff  box_off_num\n",
       "num_staff          1.0          0.5\n",
       "box_off_num        0.5          1.0"
      ]
     },
     "execution_count": 69,
     "metadata": {},
     "output_type": "execute_result"
    }
   ],
   "source": [
    "# 스태프 수와 관객 수의 상관관계\n",
    "movies_train[[\"num_staff\",\"box_off_num\"]].corr(method='pearson')"
   ]
  },
  {
   "cell_type": "code",
   "execution_count": 70,
   "metadata": {},
   "outputs": [
    {
     "data": {
      "text/plain": [
       "<AxesSubplot:xlabel='num_staff', ylabel='box_off_num'>"
      ]
     },
     "execution_count": 70,
     "metadata": {},
     "output_type": "execute_result"
    },
    {
     "data": {
      "image/png": "[encoded data removed]",
      "text/plain": [
       "<Figure size 432x288 with 1 Axes>"
      ]
     },
     "metadata": {
      "needs_background": "light"
     },
     "output_type": "display_data"
    }
   ],
   "source": [
    "# 스태프 수와 관객 수의 관계 그래프\n",
    "sns.scatterplot(data=movies_train, x='num_staff', y='box_off_num', alpha=0.3)"
   ]
  },
  {
   "cell_type": "code",
   "execution_count": 71,
   "metadata": {
    "scrolled": true
   },
   "outputs": [
    {
     "data": {
      "text/plain": [
       "<AxesSubplot:xlabel='num_staff', ylabel='box_off_num'>"
      ]
     },
     "execution_count": 71,
     "metadata": {},
     "output_type": "execute_result"
    },
    {
     "data": {
      "image/png": "[encoded data removed]",
      "text/plain": [
       "<Figure size 432x288 with 1 Axes>"
      ]
     },
     "metadata": {
      "needs_background": "light"
     },
     "output_type": "display_data"
    }
   ],
   "source": [
    "sns.regplot(data=movies_train, x='num_staff', y='box_off_num')"
   ]
  },
  {
   "cell_type": "markdown",
   "metadata": {},
   "source": [
    "* 높은 관객 수를 기록한 영화의 스태프 수는 그 분포가 다양하지만, 관객 수 상위권의 영화들은 약 300명 이상의 스태프를 동원한 것으로 보인다."
   ]
  },
  {
   "cell_type": "markdown",
   "metadata": {},
   "source": [
    "### 10. num_actor : 주연배우 수"
   ]
  },
  {
   "cell_type": "code",
   "execution_count": 72,
   "metadata": {},
   "outputs": [
    {
     "data": {
      "text/html": [
       "<div>\n",
       "<style scoped>\n",
       "    .dataframe tbody tr th:only-of-type {\n",
       "        vertical-align: middle;\n",
       "    }\n",
       "\n",
       "    .dataframe tbody tr th {\n",
       "        vertical-align: top;\n",
       "    }\n",
       "\n",
       "    .dataframe thead th {\n",
       "        text-align: right;\n",
       "    }\n",
       "</style>\n",
       "<table border=\"1\" class=\"dataframe\">\n",
       "  <thead>\n",
       "    <tr style=\"text-align: right;\">\n",
       "      <th></th>\n",
       "      <th>num_actor</th>\n",
       "      <th>counts</th>\n",
       "    </tr>\n",
       "  </thead>\n",
       "  <tbody>\n",
       "    <tr>\n",
       "      <th>8</th>\n",
       "      <td>0</td>\n",
       "      <td>9</td>\n",
       "    </tr>\n",
       "    <tr>\n",
       "      <th>4</th>\n",
       "      <td>1</td>\n",
       "      <td>35</td>\n",
       "    </tr>\n",
       "    <tr>\n",
       "      <th>0</th>\n",
       "      <td>2</td>\n",
       "      <td>154</td>\n",
       "    </tr>\n",
       "    <tr>\n",
       "      <th>1</th>\n",
       "      <td>3</td>\n",
       "      <td>143</td>\n",
       "    </tr>\n",
       "    <tr>\n",
       "      <th>2</th>\n",
       "      <td>4</td>\n",
       "      <td>114</td>\n",
       "    </tr>\n",
       "    <tr>\n",
       "      <th>3</th>\n",
       "      <td>5</td>\n",
       "      <td>58</td>\n",
       "    </tr>\n",
       "    <tr>\n",
       "      <th>5</th>\n",
       "      <td>6</td>\n",
       "      <td>33</td>\n",
       "    </tr>\n",
       "    <tr>\n",
       "      <th>7</th>\n",
       "      <td>7</td>\n",
       "      <td>16</td>\n",
       "    </tr>\n",
       "    <tr>\n",
       "      <th>6</th>\n",
       "      <td>8</td>\n",
       "      <td>16</td>\n",
       "    </tr>\n",
       "    <tr>\n",
       "      <th>11</th>\n",
       "      <td>9</td>\n",
       "      <td>3</td>\n",
       "    </tr>\n",
       "    <tr>\n",
       "      <th>9</th>\n",
       "      <td>10</td>\n",
       "      <td>8</td>\n",
       "    </tr>\n",
       "    <tr>\n",
       "      <th>10</th>\n",
       "      <td>11</td>\n",
       "      <td>4</td>\n",
       "    </tr>\n",
       "    <tr>\n",
       "      <th>12</th>\n",
       "      <td>13</td>\n",
       "      <td>2</td>\n",
       "    </tr>\n",
       "    <tr>\n",
       "      <th>13</th>\n",
       "      <td>14</td>\n",
       "      <td>2</td>\n",
       "    </tr>\n",
       "    <tr>\n",
       "      <th>15</th>\n",
       "      <td>16</td>\n",
       "      <td>1</td>\n",
       "    </tr>\n",
       "    <tr>\n",
       "      <th>14</th>\n",
       "      <td>22</td>\n",
       "      <td>1</td>\n",
       "    </tr>\n",
       "    <tr>\n",
       "      <th>16</th>\n",
       "      <td>25</td>\n",
       "      <td>1</td>\n",
       "    </tr>\n",
       "  </tbody>\n",
       "</table>\n",
       "</div>"
      ],
      "text/plain": [
       "    num_actor  counts\n",
       "8           0       9\n",
       "4           1      35\n",
       "0           2     154\n",
       "1           3     143\n",
       "2           4     114\n",
       "3           5      58\n",
       "5           6      33\n",
       "7           7      16\n",
       "6           8      16\n",
       "11          9       3\n",
       "9          10       8\n",
       "10         11       4\n",
       "12         13       2\n",
       "13         14       2\n",
       "15         16       1\n",
       "14         22       1\n",
       "16         25       1"
      ]
     },
     "execution_count": 72,
     "metadata": {},
     "output_type": "execute_result"
    }
   ],
   "source": [
    "# 주연배우 수별 영화 수\n",
    "actor_counts=pd.DataFrame(movies_train['num_actor'].value_counts()).reset_index()\n",
    "actor_counts.columns=['num_actor','counts']\n",
    "actor_counts=actor_counts.sort_values(by=\"num_actor\", ascending=True)\n",
    "actor_counts"
   ]
  },
  {
   "cell_type": "code",
   "execution_count": 73,
   "metadata": {
    "scrolled": false
   },
   "outputs": [
    {
     "data": {
      "text/plain": [
       "Text(0.5, 1.0, '주연배우 수별 영화 수')"
      ]
     },
     "execution_count": 73,
     "metadata": {},
     "output_type": "execute_result"
    },
    {
     "data": {
      "image/png": "[encoded data removed]",
      "text/plain": [
       "<Figure size 432x288 with 1 Axes>"
      ]
     },
     "metadata": {
      "needs_background": "light"
     },
     "output_type": "display_data"
    }
   ],
   "source": [
    "# 주연배우 수별 영화 수 그래프\n",
    "bar_actor_counts=plt.subplots()\n",
    "plt.xticks(rotation = 50, fontsize=7)\n",
    "bar_actor_counts=sns.barplot(x='num_actor',y='counts',data=actor_counts)\n",
    "bar_staff_movie_counts.set_xlabel('num_actor', fontsize=12)\n",
    "bar_staff_movie_counts.set_ylabel('counts', fontsize=12)\n",
    "bar_actor_counts.set_title(\"주연배우 수별 영화 수\", fontsize=12)"
   ]
  },
  {
   "cell_type": "markdown",
   "metadata": {},
   "source": [
    "* 주연배우가 2명, 3명, 4명인 순으로 영화가 많고 전체 영화 수의 약 70%를 차지한다."
   ]
  },
  {
   "cell_type": "code",
   "execution_count": 74,
   "metadata": {},
   "outputs": [
    {
     "data": {
      "text/html": [
       "<div>\n",
       "<style scoped>\n",
       "    .dataframe tbody tr th:only-of-type {\n",
       "        vertical-align: middle;\n",
       "    }\n",
       "\n",
       "    .dataframe tbody tr th {\n",
       "        vertical-align: top;\n",
       "    }\n",
       "\n",
       "    .dataframe thead th {\n",
       "        text-align: right;\n",
       "    }\n",
       "</style>\n",
       "<table border=\"1\" class=\"dataframe\">\n",
       "  <thead>\n",
       "    <tr style=\"text-align: right;\">\n",
       "      <th></th>\n",
       "      <th>num_actor</th>\n",
       "      <th>box_off_num</th>\n",
       "    </tr>\n",
       "  </thead>\n",
       "  <tbody>\n",
       "    <tr>\n",
       "      <th>num_actor</th>\n",
       "      <td>1.0</td>\n",
       "      <td>0.1</td>\n",
       "    </tr>\n",
       "    <tr>\n",
       "      <th>box_off_num</th>\n",
       "      <td>0.1</td>\n",
       "      <td>1.0</td>\n",
       "    </tr>\n",
       "  </tbody>\n",
       "</table>\n",
       "</div>"
      ],
      "text/plain": [
       "             num_actor  box_off_num\n",
       "num_actor          1.0          0.1\n",
       "box_off_num        0.1          1.0"
      ]
     },
     "execution_count": 74,
     "metadata": {},
     "output_type": "execute_result"
    }
   ],
   "source": [
    "# 주연배우 수와 관객 수의 상관관계\n",
    "movies_train[[\"num_actor\",\"box_off_num\"]].corr(method='pearson')"
   ]
  },
  {
   "cell_type": "code",
   "execution_count": 75,
   "metadata": {},
   "outputs": [
    {
     "data": {
      "text/plain": [
       "<seaborn.axisgrid.JointGrid at 0x1fed4b01dc0>"
      ]
     },
     "execution_count": 75,
     "metadata": {},
     "output_type": "execute_result"
    },
    {
     "data": {
      "image/png": "[encoded data removed]",
      "text/plain": [
       "<Figure size 432x432 with 3 Axes>"
      ]
     },
     "metadata": {
      "needs_background": "light"
     },
     "output_type": "display_data"
    }
   ],
   "source": [
    "# 주연배우 수와 관객 수의 관계 그래프\n",
    "sns.jointplot(data=movies_train, x='num_actor', y='box_off_num', alpha=0.3)"
   ]
  },
  {
   "cell_type": "code",
   "execution_count": 76,
   "metadata": {},
   "outputs": [
    {
     "data": {
      "text/plain": [
       "<AxesSubplot:xlabel='num_actor', ylabel='box_off_num'>"
      ]
     },
     "execution_count": 76,
     "metadata": {},
     "output_type": "execute_result"
    },
    {
     "data": {
      "image/png": "[encoded data removed]",
      "text/plain": [
       "<Figure size 432x288 with 1 Axes>"
      ]
     },
     "metadata": {
      "needs_background": "light"
     },
     "output_type": "display_data"
    }
   ],
   "source": [
    "sns.regplot(data=movies_train, x='num_actor', y='box_off_num')"
   ]
  },
  {
   "cell_type": "markdown",
   "metadata": {},
   "source": [
    "## 2. 관객수 예측 모델링"
   ]
  },
  {
   "cell_type": "markdown",
   "metadata": {},
   "source": [
    "### 1. basemodel 결정"
   ]
  },
  {
   "cell_type": "code",
   "execution_count": 77,
   "metadata": {},
   "outputs": [],
   "source": [
    "from sklearn.metrics import mean_squared_error, mean_absolute_error\n",
    "#Rmsle계산 함수 제작\n",
    "def rmsle(y,pred):\n",
    "    log_y=np.log1p(y)\n",
    "    log_pred=np.log1p(pred)\n",
    "    squared_error=(log_y-log_pred)**2\n",
    "    rmsle=np.sqrt(np.mean(squared_error))\n",
    "    return rmsle\n",
    "\n",
    "# Rsme 계산 함수\n",
    "def rmse(y,pred):\n",
    "    return np.sqrt(mean_squared_error(y,pred))\n",
    "\n",
    "def evaluate_regr(y,pred):\n",
    "    rmsle_val=rmsle(y,pred)\n",
    "    rmse_val=rmse(y,pred)\n",
    "    mae_val=mean_absolute_error(y,pred)\n",
    "    print('RMSLE: {0:.3f}, RMSE: {1:.3F}, MAE: {2:.3f}'.format(rmsle_val,rmse_val,mae_val))"
   ]
  },
  {
   "cell_type": "code",
   "execution_count": 78,
   "metadata": {},
   "outputs": [],
   "source": [
    "from sklearn.model_selection import train_test_split, GridSearchCV\n",
    "from sklearn.linear_model import LinearRegression,Ridge,Lasso\n",
    "import lightgbm as lgb\n",
    "from sklearn.ensemble import GradientBoostingRegressor \n",
    "\n",
    "y_target=movies_train['box_off_num']\n",
    "X_features=movies_train[['time','dir_prev_num', 'num_staff', 'num_actor','genre']]\n",
    "X_train,X_test,y_train,y_test=train_test_split(X_features,y_target,test_size=0.3,random_state=132)"
   ]
  },
  {
   "cell_type": "code",
   "execution_count": 79,
   "metadata": {},
   "outputs": [],
   "source": [
    "# 장르 변수 원핫 인코딩 적용 데이터로 학습/예측 데이터 분할\n",
    "X_features_ohe=pd.get_dummies(X_features,columns=['genre'])\n",
    "X_features_ohe=pd.get_dummies(X_features,columns=['genre'])\n",
    "X_train,X_test,y_train,y_test=train_test_split(X_features_ohe,y_target,test_size=0.3,random_state=0)\n",
    "\n",
    "def get_model_predict(model,X_train,X_test,y_train,y_test,is_expm1=False):\n",
    "    model.fit(X_train,y_train)\n",
    "    pred=model.predict(X_test)\n",
    "    if is_expm1:\n",
    "        y_test=np.expm1(y_test)\n",
    "        pred=np.expm1(pred)\n",
    "    print('###',model.__class__.__name__,'###')\n",
    "    evaluate_regr(y_test,pred)\n",
    "    "
   ]
  },
  {
   "cell_type": "code",
   "execution_count": 80,
   "metadata": {},
   "outputs": [
    {
     "data": {
      "text/plain": [
       "<AxesSubplot:>"
      ]
     },
     "execution_count": 80,
     "metadata": {},
     "output_type": "execute_result"
    },
    {
     "data": {
      "image/png": "[encoded data removed]",
      "text/plain": [
       "<Figure size 432x288 with 1 Axes>"
      ]
     },
     "metadata": {
      "needs_background": "light"
     },
     "output_type": "display_data"
    }
   ],
   "source": [
    "#box_off_num의 분포 확인\n",
    "y_target.hist()"
   ]
  },
  {
   "cell_type": "code",
   "execution_count": 81,
   "metadata": {},
   "outputs": [
    {
     "data": {
      "text/plain": [
       "<AxesSubplot:>"
      ]
     },
     "execution_count": 81,
     "metadata": {},
     "output_type": "execute_result"
    },
    {
     "data": {
      "image/png": "[encoded data removed]",
      "text/plain": [
       "<Figure size 432x288 with 1 Axes>"
      ]
     },
     "metadata": {
      "needs_background": "light"
     },
     "output_type": "display_data"
    }
   ],
   "source": [
    "#box_off_num의 정규화 (로그변환)\n",
    "y_log_transform=np.log1p(y_target)\n",
    "y_log_transform.hist()"
   ]
  },
  {
   "cell_type": "code",
   "execution_count": 82,
   "metadata": {},
   "outputs": [
    {
     "name": "stdout",
     "output_type": "stream",
     "text": [
      "RMSLE: 2.160, RMSE: 27857854.661, MAE: 3324216.308\n"
     ]
    }
   ],
   "source": [
    "#타겟 칼럼 box_off_num값 log1p로 로그 변환 후 재학습\n",
    "y_target_log=np.log1p(y_target)\n",
    "X_train,X_test,y_train,y_test=train_test_split(X_features_ohe,y_target_log,test_size=0.3,random_state=0)\n",
    "\n",
    "lr_reg=LinearRegression()\n",
    "lr_reg.fit(X_train,y_train)\n",
    "pred=lr_reg.predict(X_test)\n",
    "\n",
    "#로그 변환된 target값,예측값 원 스케일로 변환\n",
    "y_test_exp=np.expm1(y_test)\n",
    "pred_exp=np.expm1(pred)\n",
    "evaluate_regr(y_test_exp,pred_exp)"
   ]
  },
  {
   "cell_type": "code",
   "execution_count": 83,
   "metadata": {},
   "outputs": [
    {
     "name": "stdout",
     "output_type": "stream",
     "text": [
      "### RandomForestRegressor ###\n",
      "RMSLE: 2.026, RMSE: 1691958.479, MAE: 535048.423\n",
      "### GradientBoostingRegressor ###\n",
      "RMSLE: 2.244, RMSE: 1720515.401, MAE: 563156.495\n",
      "### XGBRegressor ###\n",
      "RMSLE: 2.175, RMSE: 1703504.663, MAE: 541423.681\n",
      "### LGBMRegressor ###\n",
      "RMSLE: 2.009, RMSE: 1722075.779, MAE: 504335.464\n"
     ]
    }
   ],
   "source": [
    "#회귀 트리 이용 회귀 예측\n",
    "from sklearn.ensemble import RandomForestRegressor, GradientBoostingRegressor\n",
    "from xgboost import XGBRegressor\n",
    "\n",
    "\n",
    "rf_reg=RandomForestRegressor(n_estimators=600)\n",
    "gbm_reg=GradientBoostingRegressor(n_estimators=600)\n",
    "xgb_reg=XGBRegressor(n_estimators=600)\n",
    "lgbm_reg=lgb.LGBMRegressor(random_state=123, n_estimators=1000, learning_rate= 0.003, min_child_samples=30)\n",
    "\n",
    "for model in [rf_reg,gbm_reg,xgb_reg,lgbm_reg]:\n",
    "    get_model_predict(model,X_train.values,X_test.values,y_train.values,y_test.values,is_expm1=True)\n"
   ]
  },
  {
   "cell_type": "markdown",
   "metadata": {},
   "source": [
    "#### LGBMRegressor와 RandomForestRegressor의 rmsle, mae 값이 작게 나옴 -> basemodel로 채택"
   ]
  },
  {
   "cell_type": "markdown",
   "metadata": {},
   "source": [
    "------------------------------------------------------------------------------------------------------------------------"
   ]
  },
  {
   "cell_type": "markdown",
   "metadata": {},
   "source": [
    "### 2. LightGBM"
   ]
  },
  {
   "cell_type": "code",
   "execution_count": 84,
   "metadata": {},
   "outputs": [],
   "source": [
    "model = lgb.LGBMRegressor(random_state=123, n_estimators=1000)"
   ]
  },
  {
   "cell_type": "code",
   "execution_count": 85,
   "metadata": {},
   "outputs": [],
   "source": [
    "features = ['time', 'dir_prev_num', 'num_staff', 'num_actor']\n",
    "target = ['box_off_num']"
   ]
  },
  {
   "cell_type": "code",
   "execution_count": 86,
   "metadata": {},
   "outputs": [],
   "source": [
    "X_train, X_test, y_train = movies_train[features], movies_test[features], movies_train[target]"
   ]
  },
  {
   "cell_type": "code",
   "execution_count": 87,
   "metadata": {},
   "outputs": [
    {
     "data": {
      "text/plain": [
       "LGBMRegressor(n_estimators=1000, random_state=123)"
      ]
     },
     "execution_count": 87,
     "metadata": {},
     "output_type": "execute_result"
    }
   ],
   "source": [
    "model.fit(X_train, y_train)"
   ]
  },
  {
   "cell_type": "code",
   "execution_count": 88,
   "metadata": {},
   "outputs": [
    {
     "data": {
      "text/html": [
       "<div>\n",
       "<style scoped>\n",
       "    .dataframe tbody tr th:only-of-type {\n",
       "        vertical-align: middle;\n",
       "    }\n",
       "\n",
       "    .dataframe tbody tr th {\n",
       "        vertical-align: top;\n",
       "    }\n",
       "\n",
       "    .dataframe thead th {\n",
       "        text-align: right;\n",
       "    }\n",
       "</style>\n",
       "<table border=\"1\" class=\"dataframe\">\n",
       "  <thead>\n",
       "    <tr style=\"text-align: right;\">\n",
       "      <th></th>\n",
       "      <th>title</th>\n",
       "      <th>box_off_num</th>\n",
       "    </tr>\n",
       "  </thead>\n",
       "  <tbody>\n",
       "    <tr>\n",
       "      <th>0</th>\n",
       "      <td>용서는 없다</td>\n",
       "      <td>2817995.2</td>\n",
       "    </tr>\n",
       "    <tr>\n",
       "      <th>1</th>\n",
       "      <td>아빠가 여자를 좋아해</td>\n",
       "      <td>375377.2</td>\n",
       "    </tr>\n",
       "    <tr>\n",
       "      <th>2</th>\n",
       "      <td>하모니</td>\n",
       "      <td>-569324.3</td>\n",
       "    </tr>\n",
       "    <tr>\n",
       "      <th>3</th>\n",
       "      <td>의형제</td>\n",
       "      <td>1581189.0</td>\n",
       "    </tr>\n",
       "    <tr>\n",
       "      <th>4</th>\n",
       "      <td>평행 이론</td>\n",
       "      <td>-527780.6</td>\n",
       "    </tr>\n",
       "  </tbody>\n",
       "</table>\n",
       "</div>"
      ],
      "text/plain": [
       "         title  box_off_num\n",
       "0       용서는 없다    2817995.2\n",
       "1  아빠가 여자를 좋아해     375377.2\n",
       "2          하모니    -569324.3\n",
       "3          의형제    1581189.0\n",
       "4        평행 이론    -527780.6"
      ]
     },
     "execution_count": 88,
     "metadata": {},
     "output_type": "execute_result"
    }
   ],
   "source": [
    "singleLGBM = movies_submission.copy()\n",
    "singleLGBM['box_off_num'] = model.predict(X_test)\n",
    "singleLGBM.to_csv('singleLGBM.csv', index = False)\n",
    "singleLGBM.head()"
   ]
  },
  {
   "cell_type": "markdown",
   "metadata": {},
   "source": [
    "### 2-1. k-fold 교차검증"
   ]
  },
  {
   "cell_type": "code",
   "execution_count": 89,
   "metadata": {},
   "outputs": [],
   "source": [
    "from sklearn.model_selection import KFold"
   ]
  },
  {
   "cell_type": "code",
   "execution_count": 90,
   "metadata": {},
   "outputs": [],
   "source": [
    "k_fold = KFold(n_splits=5, shuffle=True, random_state=123)"
   ]
  },
  {
   "cell_type": "code",
   "execution_count": 91,
   "metadata": {},
   "outputs": [
    {
     "name": "stdout",
     "output_type": "stream",
     "text": [
      "Training until validation scores don't improve for 100 rounds\n",
      "[100]\tvalid_0's l2: 3.20394e+12\n",
      "Early stopping, best iteration is:\n",
      "[37]\tvalid_0's l2: 3.02539e+12\n",
      "Training until validation scores don't improve for 100 rounds\n",
      "[100]\tvalid_0's l2: 2.26173e+12\n",
      "Early stopping, best iteration is:\n",
      "[6]\tvalid_0's l2: 1.65838e+12\n",
      "Training until validation scores don't improve for 100 rounds\n",
      "[100]\tvalid_0's l2: 9.17903e+11\n",
      "Early stopping, best iteration is:\n",
      "[21]\tvalid_0's l2: 8.49509e+11\n",
      "Training until validation scores don't improve for 100 rounds\n",
      "[100]\tvalid_0's l2: 2.28177e+12\n",
      "Early stopping, best iteration is:\n",
      "[9]\tvalid_0's l2: 2.08241e+12\n",
      "Training until validation scores don't improve for 100 rounds\n",
      "[100]\tvalid_0's l2: 3.32139e+12\n",
      "Early stopping, best iteration is:\n",
      "[94]\tvalid_0's l2: 3.31907e+12\n"
     ]
    }
   ],
   "source": [
    "model = lgb.LGBMRegressor(random_state=123, n_estimators=1000)\n",
    "\n",
    "models = []\n",
    "\n",
    "for train_idx, val_idx in k_fold.split(X_train):\n",
    "    x_t = X_train.iloc[train_idx]\n",
    "    y_t = y_train.iloc[train_idx]\n",
    "    x_val = X_train.iloc[val_idx]\n",
    "    y_val = y_train.iloc[val_idx]\n",
    "    \n",
    "    models.append(model.fit(x_t, y_t, eval_set =(x_val, y_val), early_stopping_rounds=100, verbose = 100))"
   ]
  },
  {
   "cell_type": "code",
   "execution_count": 92,
   "metadata": {},
   "outputs": [
    {
     "data": {
      "text/plain": [
       "[LGBMRegressor(n_estimators=1000, random_state=123),\n",
       " LGBMRegressor(n_estimators=1000, random_state=123),\n",
       " LGBMRegressor(n_estimators=1000, random_state=123),\n",
       " LGBMRegressor(n_estimators=1000, random_state=123),\n",
       " LGBMRegressor(n_estimators=1000, random_state=123)]"
      ]
     },
     "execution_count": 92,
     "metadata": {},
     "output_type": "execute_result"
    }
   ],
   "source": [
    "models"
   ]
  },
  {
   "cell_type": "code",
   "execution_count": 93,
   "metadata": {},
   "outputs": [
    {
     "data": {
      "text/plain": [
       "5"
      ]
     },
     "execution_count": 93,
     "metadata": {},
     "output_type": "execute_result"
    }
   ],
   "source": [
    "preds = []\n",
    "for model in models:\n",
    "    preds.append(model.predict(X_test))\n",
    "len(preds)"
   ]
  },
  {
   "cell_type": "code",
   "execution_count": 94,
   "metadata": {},
   "outputs": [
    {
     "data": {
      "text/html": [
       "<div>\n",
       "<style scoped>\n",
       "    .dataframe tbody tr th:only-of-type {\n",
       "        vertical-align: middle;\n",
       "    }\n",
       "\n",
       "    .dataframe tbody tr th {\n",
       "        vertical-align: top;\n",
       "    }\n",
       "\n",
       "    .dataframe thead th {\n",
       "        text-align: right;\n",
       "    }\n",
       "</style>\n",
       "<table border=\"1\" class=\"dataframe\">\n",
       "  <thead>\n",
       "    <tr style=\"text-align: right;\">\n",
       "      <th></th>\n",
       "      <th>title</th>\n",
       "      <th>box_off_num</th>\n",
       "    </tr>\n",
       "  </thead>\n",
       "  <tbody>\n",
       "    <tr>\n",
       "      <th>0</th>\n",
       "      <td>용서는 없다</td>\n",
       "      <td>3342389.6</td>\n",
       "    </tr>\n",
       "    <tr>\n",
       "      <th>1</th>\n",
       "      <td>아빠가 여자를 좋아해</td>\n",
       "      <td>1091181.5</td>\n",
       "    </tr>\n",
       "    <tr>\n",
       "      <th>2</th>\n",
       "      <td>하모니</td>\n",
       "      <td>60913.0</td>\n",
       "    </tr>\n",
       "    <tr>\n",
       "      <th>3</th>\n",
       "      <td>의형제</td>\n",
       "      <td>1604975.4</td>\n",
       "    </tr>\n",
       "    <tr>\n",
       "      <th>4</th>\n",
       "      <td>평행 이론</td>\n",
       "      <td>1011963.8</td>\n",
       "    </tr>\n",
       "  </tbody>\n",
       "</table>\n",
       "</div>"
      ],
      "text/plain": [
       "         title  box_off_num\n",
       "0       용서는 없다    3342389.6\n",
       "1  아빠가 여자를 좋아해    1091181.5\n",
       "2          하모니      60913.0\n",
       "3          의형제    1604975.4\n",
       "4        평행 이론    1011963.8"
      ]
     },
     "execution_count": 94,
     "metadata": {},
     "output_type": "execute_result"
    }
   ],
   "source": [
    "kfoldLightGBM = movies_submission.copy()\n",
    "kfoldLightGBM['box_off_num'] = np.mean(preds, axis = 0)\n",
    "kfoldLightGBM.to_csv('kfoldLightGBM.csv', index = False)\n",
    "kfoldLightGBM.head()"
   ]
  },
  {
   "cell_type": "markdown",
   "metadata": {},
   "source": [
    "### 2-2. feature engineering"
   ]
  },
  {
   "cell_type": "code",
   "execution_count": 95,
   "metadata": {},
   "outputs": [],
   "source": [
    "from sklearn import preprocessing\n",
    "le = preprocessing.LabelEncoder()\n",
    "movies_train['genre'] = le.fit_transform(movies_train['genre'])"
   ]
  },
  {
   "cell_type": "code",
   "execution_count": 96,
   "metadata": {},
   "outputs": [
    {
     "data": {
      "text/plain": [
       "0      10\n",
       "1       2\n",
       "2      10\n",
       "3      11\n",
       "4      11\n",
       "       ..\n",
       "595     4\n",
       "596     4\n",
       "597     1\n",
       "598     2\n",
       "599    10\n",
       "Name: genre, Length: 600, dtype: int32"
      ]
     },
     "execution_count": 96,
     "metadata": {},
     "output_type": "execute_result"
    }
   ],
   "source": [
    "movies_train['genre']"
   ]
  },
  {
   "cell_type": "code",
   "execution_count": 97,
   "metadata": {},
   "outputs": [],
   "source": [
    "movies_test['genre'] = le.transform(movies_test['genre'])"
   ]
  },
  {
   "cell_type": "code",
   "execution_count": 98,
   "metadata": {},
   "outputs": [],
   "source": [
    "features = ['time', 'dir_prev_num', 'num_staff', 'num_actor', 'dir_prev_bfnum', 'genre']"
   ]
  },
  {
   "cell_type": "code",
   "execution_count": 99,
   "metadata": {},
   "outputs": [],
   "source": [
    "X_train, X_test, y_train = movies_train[features], movies_test[features], movies_train[target]"
   ]
  },
  {
   "cell_type": "code",
   "execution_count": 100,
   "metadata": {},
   "outputs": [
    {
     "name": "stdout",
     "output_type": "stream",
     "text": [
      "Training until validation scores don't improve for 100 rounds\n",
      "[100]\tvalid_0's l2: 3.18117e+12\n",
      "Early stopping, best iteration is:\n",
      "[31]\tvalid_0's l2: 2.88521e+12\n",
      "Training until validation scores don't improve for 100 rounds\n",
      "[100]\tvalid_0's l2: 2.19085e+12\n",
      "Early stopping, best iteration is:\n",
      "[7]\tvalid_0's l2: 1.61496e+12\n",
      "Training until validation scores don't improve for 100 rounds\n",
      "[100]\tvalid_0's l2: 9.22976e+11\n",
      "Early stopping, best iteration is:\n",
      "[48]\tvalid_0's l2: 8.69332e+11\n",
      "Training until validation scores don't improve for 100 rounds\n",
      "[100]\tvalid_0's l2: 2.37487e+12\n",
      "Early stopping, best iteration is:\n",
      "[8]\tvalid_0's l2: 2.12748e+12\n",
      "Training until validation scores don't improve for 100 rounds\n",
      "[100]\tvalid_0's l2: 3.44921e+12\n",
      "Early stopping, best iteration is:\n",
      "[65]\tvalid_0's l2: 3.40972e+12\n"
     ]
    }
   ],
   "source": [
    "model = lgb.LGBMRegressor(random_state=123, n_estimators=1000)\n",
    "\n",
    "models = []\n",
    "\n",
    "for train_idx, val_idx in k_fold.split(X_train):\n",
    "    x_t = X_train.iloc[train_idx]\n",
    "    y_t = y_train.iloc[train_idx]\n",
    "    x_val = X_train.iloc[val_idx]\n",
    "    y_val = y_train.iloc[val_idx]\n",
    "    \n",
    "    models.append(model.fit(x_t, y_t, eval_set=(x_val, y_val), early_stopping_rounds=100, verbose= 100))"
   ]
  },
  {
   "cell_type": "code",
   "execution_count": 101,
   "metadata": {},
   "outputs": [
    {
     "data": {
      "text/plain": [
       "5"
      ]
     },
     "execution_count": 101,
     "metadata": {},
     "output_type": "execute_result"
    }
   ],
   "source": [
    "preds = []\n",
    "for model in models:\n",
    "    preds.append(model.predict(X_test))\n",
    "len(preds)"
   ]
  },
  {
   "cell_type": "code",
   "execution_count": 102,
   "metadata": {},
   "outputs": [],
   "source": [
    "feLightGBM = movies_submission.copy()"
   ]
  },
  {
   "cell_type": "code",
   "execution_count": 103,
   "metadata": {},
   "outputs": [],
   "source": [
    "feLightGBM['box_off_num'] = np.mean(preds, axis = 0)"
   ]
  },
  {
   "cell_type": "code",
   "execution_count": 104,
   "metadata": {},
   "outputs": [],
   "source": [
    "feLightGBM.to_csv('feLightGBM.csv', index = False)"
   ]
  },
  {
   "cell_type": "markdown",
   "metadata": {},
   "source": [
    "### 2-3. Grid Search"
   ]
  },
  {
   "cell_type": "code",
   "execution_count": 105,
   "metadata": {},
   "outputs": [],
   "source": [
    "from sklearn.model_selection import GridSearchCV"
   ]
  },
  {
   "cell_type": "code",
   "execution_count": 106,
   "metadata": {},
   "outputs": [],
   "source": [
    "model = lgb.LGBMRegressor(random_state=123, n_estimators=1000)\n",
    "\n",
    "params = {\n",
    "    'learning_rate': [0.1, 0.01, 0.003],\n",
    "    'min_child_samples': [20, 30]}\n",
    "\n",
    "gs = GridSearchCV(estimator=model,\n",
    "                 param_grid=params,\n",
    "                 scoring='neg_mean_squared_error',\n",
    "                 cv = 5)"
   ]
  },
  {
   "cell_type": "code",
   "execution_count": 107,
   "metadata": {},
   "outputs": [
    {
     "data": {
      "text/plain": [
       "GridSearchCV(cv=5, estimator=LGBMRegressor(n_estimators=1000, random_state=123),\n",
       "             param_grid={'learning_rate': [0.1, 0.01, 0.003],\n",
       "                         'min_child_samples': [20, 30]},\n",
       "             scoring='neg_mean_squared_error')"
      ]
     },
     "execution_count": 107,
     "metadata": {},
     "output_type": "execute_result"
    }
   ],
   "source": [
    "gs.fit(X_train, y_train)"
   ]
  },
  {
   "cell_type": "code",
   "execution_count": 108,
   "metadata": {},
   "outputs": [
    {
     "data": {
      "text/plain": [
       "{'learning_rate': 0.003, 'min_child_samples': 30}"
      ]
     },
     "execution_count": 108,
     "metadata": {},
     "output_type": "execute_result"
    }
   ],
   "source": [
    "gs.best_params_"
   ]
  },
  {
   "cell_type": "code",
   "execution_count": 109,
   "metadata": {},
   "outputs": [
    {
     "name": "stdout",
     "output_type": "stream",
     "text": [
      "Training until validation scores don't improve for 100 rounds\n",
      "[100]\tvalid_0's l2: 3.92398e+12\n",
      "[200]\tvalid_0's l2: 3.49969e+12\n",
      "[300]\tvalid_0's l2: 3.25633e+12\n",
      "[400]\tvalid_0's l2: 3.11167e+12\n",
      "[500]\tvalid_0's l2: 3.01271e+12\n",
      "[600]\tvalid_0's l2: 2.96636e+12\n",
      "[700]\tvalid_0's l2: 2.95444e+12\n",
      "[800]\tvalid_0's l2: 2.94077e+12\n",
      "[900]\tvalid_0's l2: 2.93296e+12\n",
      "[1000]\tvalid_0's l2: 2.91385e+12\n",
      "Did not meet early stopping. Best iteration is:\n",
      "[1000]\tvalid_0's l2: 2.91385e+12\n",
      "Training until validation scores don't improve for 100 rounds\n",
      "[100]\tvalid_0's l2: 1.81776e+12\n",
      "[200]\tvalid_0's l2: 1.68594e+12\n",
      "[300]\tvalid_0's l2: 1.66547e+12\n",
      "[400]\tvalid_0's l2: 1.65515e+12\n",
      "Early stopping, best iteration is:\n",
      "[378]\tvalid_0's l2: 1.65359e+12\n",
      "Training until validation scores don't improve for 100 rounds\n",
      "[100]\tvalid_0's l2: 1.08326e+12\n",
      "[200]\tvalid_0's l2: 9.45851e+11\n",
      "[300]\tvalid_0's l2: 8.83744e+11\n",
      "[400]\tvalid_0's l2: 8.68284e+11\n",
      "Early stopping, best iteration is:\n",
      "[397]\tvalid_0's l2: 8.68187e+11\n",
      "Training until validation scores don't improve for 100 rounds\n",
      "[100]\tvalid_0's l2: 2.31704e+12\n",
      "[200]\tvalid_0's l2: 2.12741e+12\n",
      "[300]\tvalid_0's l2: 2.08354e+12\n",
      "[400]\tvalid_0's l2: 2.07003e+12\n",
      "Early stopping, best iteration is:\n",
      "[398]\tvalid_0's l2: 2.06932e+12\n",
      "Training until validation scores don't improve for 100 rounds\n",
      "[100]\tvalid_0's l2: 4.91476e+12\n",
      "[200]\tvalid_0's l2: 4.40885e+12\n",
      "[300]\tvalid_0's l2: 4.06933e+12\n",
      "[400]\tvalid_0's l2: 3.87043e+12\n",
      "[500]\tvalid_0's l2: 3.74384e+12\n",
      "[600]\tvalid_0's l2: 3.65029e+12\n",
      "[700]\tvalid_0's l2: 3.58454e+12\n",
      "[800]\tvalid_0's l2: 3.54434e+12\n",
      "[900]\tvalid_0's l2: 3.50917e+12\n",
      "[1000]\tvalid_0's l2: 3.4749e+12\n",
      "Did not meet early stopping. Best iteration is:\n",
      "[1000]\tvalid_0's l2: 3.4749e+12\n"
     ]
    }
   ],
   "source": [
    "model = lgb.LGBMRegressor(random_state=123, n_estimators=1000, learning_rate= 0.003, min_child_samples=30)\n",
    "\n",
    "models = []\n",
    "\n",
    "for train_idx, val_idx in k_fold.split(X_train):\n",
    "    x_t = X_train.iloc[train_idx]\n",
    "    y_t = y_train.iloc[train_idx]\n",
    "    x_val = X_train.iloc[val_idx]\n",
    "    y_val = y_train.iloc[val_idx]\n",
    "    \n",
    "    models.append(model.fit(x_t, y_t, eval_set=(x_val, y_val), early_stopping_rounds=100, verbose= 100))"
   ]
  },
  {
   "cell_type": "code",
   "execution_count": 110,
   "metadata": {},
   "outputs": [],
   "source": [
    "preds = []\n",
    "for model in models:\n",
    "    preds.append(model.predict(X_test))"
   ]
  },
  {
   "cell_type": "code",
   "execution_count": 111,
   "metadata": {},
   "outputs": [
    {
     "data": {
      "text/plain": [
       "-2149326154919.0142"
      ]
     },
     "execution_count": 111,
     "metadata": {},
     "output_type": "execute_result"
    }
   ],
   "source": [
    "gs.best_score_"
   ]
  },
  {
   "cell_type": "code",
   "execution_count": 112,
   "metadata": {},
   "outputs": [
    {
     "data": {
      "text/html": [
       "<div>\n",
       "<style scoped>\n",
       "    .dataframe tbody tr th:only-of-type {\n",
       "        vertical-align: middle;\n",
       "    }\n",
       "\n",
       "    .dataframe tbody tr th {\n",
       "        vertical-align: top;\n",
       "    }\n",
       "\n",
       "    .dataframe thead th {\n",
       "        text-align: right;\n",
       "    }\n",
       "</style>\n",
       "<table border=\"1\" class=\"dataframe\">\n",
       "  <thead>\n",
       "    <tr style=\"text-align: right;\">\n",
       "      <th></th>\n",
       "      <th>title</th>\n",
       "      <th>box_off_num</th>\n",
       "    </tr>\n",
       "  </thead>\n",
       "  <tbody>\n",
       "    <tr>\n",
       "      <th>0</th>\n",
       "      <td>용서는 없다</td>\n",
       "      <td>3475940.8</td>\n",
       "    </tr>\n",
       "    <tr>\n",
       "      <th>1</th>\n",
       "      <td>아빠가 여자를 좋아해</td>\n",
       "      <td>630268.7</td>\n",
       "    </tr>\n",
       "    <tr>\n",
       "      <th>2</th>\n",
       "      <td>하모니</td>\n",
       "      <td>1393981.3</td>\n",
       "    </tr>\n",
       "    <tr>\n",
       "      <th>3</th>\n",
       "      <td>의형제</td>\n",
       "      <td>1110960.5</td>\n",
       "    </tr>\n",
       "    <tr>\n",
       "      <th>4</th>\n",
       "      <td>평행 이론</td>\n",
       "      <td>1269216.0</td>\n",
       "    </tr>\n",
       "  </tbody>\n",
       "</table>\n",
       "</div>"
      ],
      "text/plain": [
       "         title  box_off_num\n",
       "0       용서는 없다    3475940.8\n",
       "1  아빠가 여자를 좋아해     630268.7\n",
       "2          하모니    1393981.3\n",
       "3          의형제    1110960.5\n",
       "4        평행 이론    1269216.0"
      ]
     },
     "execution_count": 112,
     "metadata": {},
     "output_type": "execute_result"
    }
   ],
   "source": [
    "gslgbm = movies_submission.copy()\n",
    "gslgbm['box_off_num'] = np.mean(preds, axis =0)\n",
    "gslgbm.to_csv('gslgbm.csv', index = False)\n",
    "gslgbm.head()"
   ]
  },
  {
   "cell_type": "markdown",
   "metadata": {},
   "source": [
    "------------------------------------------------------------"
   ]
  },
  {
   "cell_type": "markdown",
   "metadata": {},
   "source": [
    "### 3. Random Forest"
   ]
  },
  {
   "cell_type": "code",
   "execution_count": 113,
   "metadata": {},
   "outputs": [],
   "source": [
    "from sklearn.ensemble import RandomForestRegressor\n",
    "rf = RandomForestRegressor(random_state = 518)"
   ]
  },
  {
   "cell_type": "code",
   "execution_count": 114,
   "metadata": {},
   "outputs": [],
   "source": [
    "rmse_list = []\n",
    "rf_pred = np.zeros((movies_test.shape[0]))\n",
    "for train_idx, val_idx in k_fold.split(X_train):\n",
    "    x_t = X_train.iloc[train_idx]\n",
    "    y_t = y_train.iloc[train_idx]\n",
    "    x_val = X_train.iloc[val_idx]\n",
    "    y_val = y_train.iloc[val_idx]"
   ]
  },
  {
   "cell_type": "code",
   "execution_count": 115,
   "metadata": {},
   "outputs": [
    {
     "data": {
      "text/plain": [
       "RandomForestRegressor(random_state=518)"
      ]
     },
     "execution_count": 115,
     "metadata": {},
     "output_type": "execute_result"
    }
   ],
   "source": [
    "rf.fit(x_t, y_t)"
   ]
  },
  {
   "cell_type": "code",
   "execution_count": 116,
   "metadata": {},
   "outputs": [],
   "source": [
    "from sklearn.metrics import mean_squared_error\n",
    "pred = rf.predict(x_val)\n",
    "rmse = np.sqrt(mean_squared_error(y_val, pred))"
   ]
  },
  {
   "cell_type": "code",
   "execution_count": 117,
   "metadata": {},
   "outputs": [
    {
     "data": {
      "text/plain": [
       "2016905.945429561"
      ]
     },
     "execution_count": 117,
     "metadata": {},
     "output_type": "execute_result"
    }
   ],
   "source": [
    "rmse_list.append(rmse)\n",
    "np.mean(rmse_list)"
   ]
  },
  {
   "cell_type": "code",
   "execution_count": 118,
   "metadata": {},
   "outputs": [],
   "source": [
    "rf_pred = movies_submission.copy()\n",
    "rf_pred['box_off_num'] = rf.predict(X_test)\n",
    "rf_pred.to_csv('rf.csv', index = False)"
   ]
  },
  {
   "cell_type": "code",
   "execution_count": 119,
   "metadata": {},
   "outputs": [
    {
     "data": {
      "text/html": [
       "<div>\n",
       "<style scoped>\n",
       "    .dataframe tbody tr th:only-of-type {\n",
       "        vertical-align: middle;\n",
       "    }\n",
       "\n",
       "    .dataframe tbody tr th {\n",
       "        vertical-align: top;\n",
       "    }\n",
       "\n",
       "    .dataframe thead th {\n",
       "        text-align: right;\n",
       "    }\n",
       "</style>\n",
       "<table border=\"1\" class=\"dataframe\">\n",
       "  <thead>\n",
       "    <tr style=\"text-align: right;\">\n",
       "      <th></th>\n",
       "      <th>title</th>\n",
       "      <th>box_off_num</th>\n",
       "    </tr>\n",
       "  </thead>\n",
       "  <tbody>\n",
       "    <tr>\n",
       "      <th>0</th>\n",
       "      <td>용서는 없다</td>\n",
       "      <td>3978644.7</td>\n",
       "    </tr>\n",
       "    <tr>\n",
       "      <th>1</th>\n",
       "      <td>아빠가 여자를 좋아해</td>\n",
       "      <td>1260294.1</td>\n",
       "    </tr>\n",
       "    <tr>\n",
       "      <th>2</th>\n",
       "      <td>하모니</td>\n",
       "      <td>1377630.9</td>\n",
       "    </tr>\n",
       "    <tr>\n",
       "      <th>3</th>\n",
       "      <td>의형제</td>\n",
       "      <td>1705449.4</td>\n",
       "    </tr>\n",
       "    <tr>\n",
       "      <th>4</th>\n",
       "      <td>평행 이론</td>\n",
       "      <td>1396497.8</td>\n",
       "    </tr>\n",
       "  </tbody>\n",
       "</table>\n",
       "</div>"
      ],
      "text/plain": [
       "         title  box_off_num\n",
       "0       용서는 없다    3978644.7\n",
       "1  아빠가 여자를 좋아해    1260294.1\n",
       "2          하모니    1377630.9\n",
       "3          의형제    1705449.4\n",
       "4        평행 이론    1396497.8"
      ]
     },
     "execution_count": 119,
     "metadata": {},
     "output_type": "execute_result"
    }
   ],
   "source": [
    "### Random Forest\n",
    "\n",
    "from sklearn.ensemble import RandomForestRegressor\n",
    "rf = RandomForestRegressor(random_state = 518)\n",
    "\n",
    "rmse_list = []\n",
    "rf_pred = np.zeros((movies_test.shape[0]))\n",
    "for train_idx, val_idx in k_fold.split(X_train):\n",
    "    x_t = X_train.iloc[train_idx]\n",
    "    y_t = y_train.iloc[train_idx]\n",
    "    x_val = X_train.iloc[val_idx]\n",
    "    y_val = y_train.iloc[val_idx]\n",
    "\n",
    "rf.fit(x_t, y_t)\n",
    "\n",
    "from sklearn.metrics import mean_squared_error\n",
    "pred = rf.predict(x_val)\n",
    "rmse = np.sqrt(mean_squared_error(y_val, pred))\n",
    "\n",
    "rmse_list.append(rmse)\n",
    "np.mean(rmse_list)\n",
    "\n",
    "rf_pred = movies_submission.copy()\n",
    "rf_pred['box_off_num'] = rf.predict(X_test)\n",
    "rf_pred.to_csv('rf.csv', index = False)\n",
    "rf_pred.head()"
   ]
  }
 ],
 "metadata": {
  "kernelspec": {
   "display_name": "Python 3",
   "language": "python",
   "name": "python3"
  },
  "language_info": {
   "codemirror_mode": {
    "name": "ipython",
    "version": 3
   },
   "file_extension": ".py",
   "mimetype": "text/x-python",
   "name": "python",
   "nbconvert_exporter": "python",
   "pygments_lexer": "ipython3",
   "version": "3.8.5"
  },
  "vp": {
   "base_numbering": 1,
   "nav_menu": {},
   "number_sections": true,
   "sideBar": true,
   "title_cell": "VisualPython",
   "title_sidebar": "VisualPython",
   "vpPosition": {
    "height": "calc(100% - 180px)",
    "right": "10px",
    "top": "110px",
    "width": "50%"
   },
   "vp_cell": false,
   "vp_section_display": true,
   "vp_window_display": false
  }
 },
 "nbformat": 4,
 "nbformat_minor": 4
}
